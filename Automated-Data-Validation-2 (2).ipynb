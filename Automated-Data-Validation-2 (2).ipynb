{
 "cells": [
  {
   "cell_type": "markdown",
   "metadata": {
    "ExecuteTime": {
     "end_time": "2019-02-07T19:25:27.862123Z",
     "start_time": "2019-02-07T19:25:27.773Z"
    }
   },
   "source": [
    "# AMP Analytics Online"
   ]
  },
  {
   "cell_type": "code",
   "execution_count": 5,
   "metadata": {
    "ExecuteTime": {
     "end_time": "2019-02-09T00:40:42.287253Z",
     "start_time": "2019-02-09T00:40:41.166Z"
    }
   },
   "outputs": [
    {
     "data": {
      "text/plain": [
       "path = /Users/karanalang/Documents/1.AppleHadoop/AMP-Analytics/parquetFolder/umc_availability/*\n"
      ]
     },
     "metadata": {},
     "output_type": "display_data"
    },
    {
     "data": {
      "text/plain": [
       "/Users/karanalang/Documents/1.AppleHadoop/AMP-Analytics/parquetFolder/umc_availability/*"
      ]
     },
     "execution_count": 5,
     "metadata": {},
     "output_type": "execute_result"
    }
   ],
   "source": [
    "val path = \"/Users/karanalang/Documents/1.AppleHadoop/AMP-Analytics/parquetFolder/umc_availability/*\""
   ]
  },
  {
   "cell_type": "code",
   "execution_count": 6,
   "metadata": {
    "ExecuteTime": {
     "end_time": "2019-02-09T00:40:42.951950Z",
     "start_time": "2019-02-09T00:40:42.656Z"
    }
   },
   "outputs": [],
   "source": [
    "import org.apache.spark.SparkConf\n",
    "import org.apache.spark.sql.{DataFrame,SparkSession, Column}\n",
    "import org.apache.spark.sql.functions.{col}\n",
    "\n",
    "import scala.collection.mutable.ListBuffer"
   ]
  },
  {
   "cell_type": "code",
   "execution_count": 7,
   "metadata": {
    "ExecuteTime": {
     "end_time": "2019-02-09T00:40:53.167925Z",
     "start_time": "2019-02-09T00:40:45.313Z"
    }
   },
   "outputs": [
    {
     "name": "stdout",
     "output_type": "stream",
     "text": [
      "Marking org.vegas-viz:vegas_2.11:0.3.9 for download\n",
      "Obtained 42 files\n",
      "Marking org.vegas-viz:vegas-spark_2.11:0.3.9 for download\n",
      "Obtained 2 files\n"
     ]
    }
   ],
   "source": [
    "%AddDeps org.vegas-viz vegas_2.11 0.3.9 --transitive\n",
    "%AddDeps org.vegas-viz vegas-spark_2.11 0.3.9"
   ]
  },
  {
   "cell_type": "code",
   "execution_count": 8,
   "metadata": {
    "ExecuteTime": {
     "end_time": "2019-02-09T00:41:10.041418Z",
     "start_time": "2019-02-09T00:41:08.644Z"
    }
   },
   "outputs": [
    {
     "data": {
      "text/plain": [
       "render = <function1>\n"
      ]
     },
     "metadata": {},
     "output_type": "display_data"
    },
    {
     "data": {
      "text/plain": [
       "<function1>"
      ]
     },
     "execution_count": 8,
     "metadata": {},
     "output_type": "execute_result"
    }
   ],
   "source": [
    "import vegas._\n",
    "import vegas.render.WindowRenderer._\n",
    "import vegas.data.External._\n",
    "import vegas.sparkExt._\n",
    "\n",
    "implicit val render = vegas.render.ShowHTML(kernel.display.content(\"text/html\", _))"
   ]
  },
  {
   "cell_type": "code",
   "execution_count": 11,
   "metadata": {
    "ExecuteTime": {
     "end_time": "2019-02-09T00:41:27.640318Z",
     "start_time": "2019-02-09T00:41:25.252Z"
    }
   },
   "outputs": [
    {
     "name": "stdout",
     "output_type": "stream",
     "text": [
      "root\n",
      " |-- content_canonical_id: string (nullable = true)\n",
      " |-- reference_id: string (nullable = true)\n",
      " |-- service_id: string (nullable = true)\n",
      " |-- version_id: string (nullable = true)\n",
      " |-- offering_type: string (nullable = true)\n",
      " |-- offering_type_value: string (nullable = true)\n",
      " |-- offering_type_display_value: string (nullable = true)\n",
      " |-- start_time: timestamp (nullable = true)\n",
      " |-- end_time: timestamp (nullable = true)\n",
      " |-- restrictions: array (nullable = true)\n",
      " |    |-- element: struct (containsNull = true)\n",
      " |    |    |-- restrictionType: struct (nullable = true)\n",
      " |    |    |    |-- type: string (nullable = true)\n",
      " |    |    |    |-- value: string (nullable = true)\n",
      " |    |    |    |-- displayValue: string (nullable = true)\n",
      " |    |    |-- restrictionRelationship: struct (nullable = true)\n",
      " |    |    |    |-- type: string (nullable = true)\n",
      " |    |    |    |-- value: string (nullable = true)\n",
      " |    |    |    |-- displayValue: string (nullable = true)\n",
      " |    |    |-- value: string (nullable = true)\n",
      " |-- is_live: boolean (nullable = true)\n",
      " |-- is_broadcast: boolean (nullable = true)\n",
      " |-- is_premium: boolean (nullable = true)\n",
      " |-- primary_locale: string (nullable = true)\n",
      " |-- closed_captioning_locales: array (nullable = true)\n",
      " |    |-- element: string (containsNull = true)\n",
      " |-- subtitle_locales: array (nullable = true)\n",
      " |    |-- element: string (containsNull = true)\n",
      " |-- dubbed_locales: array (nullable = true)\n",
      " |    |-- element: string (containsNull = true)\n",
      " |-- subtitle_deaf_hard_of_hearing_locales: array (nullable = true)\n",
      " |    |-- element: string (containsNull = true)\n",
      " |-- audio_track_locales: array (nullable = true)\n",
      " |    |-- element: string (containsNull = true)\n",
      " |-- audio_track_formats: array (nullable = true)\n",
      " |    |-- element: string (containsNull = true)\n",
      " |-- video_quality: string (nullable = true)\n",
      " |-- video_color_range: string (nullable = true)\n",
      " |-- created: timestamp (nullable = true)\n",
      " |-- etl_batch_sk: long (nullable = true)\n",
      " |-- etl_create_ts: long (nullable = true)\n",
      " |-- etl_change_ts: long (nullable = true)\n",
      " |-- etl_source_batch_sk: string (nullable = true)\n",
      "\n"
     ]
    },
    {
     "data": {
      "text/plain": [
       "df = [content_canonical_id: string, reference_id: string ... 25 more fields]\n"
      ]
     },
     "metadata": {},
     "output_type": "display_data"
    },
    {
     "data": {
      "text/plain": [
       "[content_canonical_id: string, reference_id: string ... 25 more fields]"
      ]
     },
     "execution_count": 11,
     "metadata": {},
     "output_type": "execute_result"
    }
   ],
   "source": [
    "val df = spark.read.parquet(path)\n",
    "df.printSchema()"
   ]
  },
  {
   "cell_type": "code",
   "execution_count": 12,
   "metadata": {
    "ExecuteTime": {
     "end_time": "2019-02-09T00:41:31.325905Z",
     "start_time": "2019-02-09T00:41:29.307Z"
    }
   },
   "outputs": [
    {
     "name": "stdout",
     "output_type": "stream",
     "text": [
      " TOTAL NUMBER OF RECORDS IN DATASET : 513214\n"
     ]
    },
    {
     "data": {
      "text/plain": [
       "totalCount = 513214\n"
      ]
     },
     "metadata": {},
     "output_type": "display_data"
    },
    {
     "data": {
      "text/plain": [
       "513214"
      ]
     },
     "execution_count": 12,
     "metadata": {},
     "output_type": "execute_result"
    }
   ],
   "source": [
    "val totalCount = df.count()\n",
    "println(s\" TOTAL NUMBER OF RECORDS IN DATASET : $totalCount\")"
   ]
  },
  {
   "cell_type": "code",
   "execution_count": 24,
   "metadata": {
    "ExecuteTime": {
     "end_time": "2019-02-09T01:02:05.300467Z",
     "start_time": "2019-02-09T01:01:58.096Z"
    }
   },
   "outputs": [
    {
     "name": "stdout",
     "output_type": "stream",
     "text": [
      "+-------------------------------------+---------+-----------+\n",
      "|colName                              |nullCount|percentNull|\n",
      "+-------------------------------------+---------+-----------+\n",
      "|content_canonical_id                 |3944     |0.76       |\n",
      "|reference_id                         |0        |0.0        |\n",
      "|service_id                           |0        |0.0        |\n",
      "|version_id                           |0        |0.0        |\n",
      "|offering_type                        |415614   |80.98      |\n",
      "|offering_type_value                  |415614   |80.98      |\n",
      "|offering_type_display_value          |415614   |80.98      |\n",
      "|start_time                           |415614   |80.98      |\n",
      "|end_time                             |415614   |80.98      |\n",
      "|restrictions                         |496285   |96.7       |\n",
      "|is_live                              |415614   |80.98      |\n",
      "|is_broadcast                         |415614   |80.98      |\n",
      "|is_premium                           |415614   |80.98      |\n",
      "|primary_locale                       |0        |0.0        |\n",
      "|closed_captioning_locales            |488294   |95.14      |\n",
      "|subtitle_locales                     |500681   |97.55      |\n",
      "|dubbed_locales                       |512857   |99.93      |\n",
      "|subtitle_deaf_hard_of_hearing_locales|509416   |99.25      |\n",
      "|audio_track_locales                  |504341   |98.27      |\n",
      "|audio_track_formats                  |473159   |92.19      |\n",
      "|video_quality                        |438943   |85.52      |\n",
      "|video_color_range                    |459326   |89.49      |\n",
      "|created                              |0        |0.0        |\n",
      "|etl_batch_sk                         |0        |0.0        |\n",
      "|etl_create_ts                        |0        |0.0        |\n",
      "|etl_change_ts                        |0        |0.0        |\n",
      "|etl_source_batch_sk                  |0        |0.0        |\n",
      "+-------------------------------------+---------+-----------+\n",
      "\n"
     ]
    },
    {
     "data": {
      "text/plain": [
       "dfColumns = Array(content_canonical_id, reference_id, service_id, version_id, offering_type, offering_type_value, offering_type_display_value, start_time, end_time, restrictions, is_live, is_broadcast, is_premium, primary_locale, closed_captioning_locales, subtitle_locales, dubbed_locales, subtitle_deaf_hard_of_hearing_locales, audio_track_locales, audio_track_formats, video_quality, video_color_range, created, etl_batch_sk, etl_create_ts, etl_change_ts, etl_source_batch_sk)\n",
       "lb = ListBuffer((content_canonical_id,3944,0.76), (reference_id,0,0.0), (service_id,0,0.0), (version_id,0,0.0), (offering_type,415614,80.98), (offering_type_value,415614,80.98), (offering_type_display_value,415614,80.98), (start_time,415614,...\n"
      ]
     },
     "metadata": {},
     "output_type": "display_data"
    },
    {
     "data": {
      "text/plain": [
       "ListBuffer((content_canonical_id,3944,0.76), (reference_id,0,0.0), (service_id,0,0.0), (version_id,0,0.0), (offering_type,415614,80.98), (offering_type_value,415614,80.98), (offering_type_display_value,415614,80.98), (start_time,415614,..."
      ]
     },
     "execution_count": 24,
     "metadata": {},
     "output_type": "execute_result"
    }
   ],
   "source": [
    "val dfColumns = df.columns   \n",
    " val lb = ListBuffer[(String, Long, Double)]()\n",
    "for(colName <- dfColumns){\n",
    "        val nullCount : Long = df.where(col(colName).isNull).count\n",
    "        val percentNull : Double= Math.floor(((nullCount.toFloat*100)/totalCount).toDouble*100)/100\n",
    "        //val percentNull : Double = Math.floor((nullCount.toFloat*100)/totalCount)*100/100\n",
    "        val t  = (colName, nullCount, percentNull)\n",
    "        lb += t\n",
    "      }\n",
    "\n",
    "val ll : List[(String, Long, Double)] = lb.toList\n",
    "val dfCountNull : DataFrame = ll.toDF(\"colName\", \"nullCount\",\"percentNull\")\n",
    "\n",
    "dfCountNull.show(30, false)"
   ]
  },
  {
   "cell_type": "markdown",
   "metadata": {},
   "source": [
    "#### Provide values for colX, colY - X and Y axis columns for Graphs "
   ]
  },
  {
   "cell_type": "code",
   "execution_count": 57,
   "metadata": {
    "ExecuteTime": {
     "end_time": "2019-02-07T21:15:42.586708Z",
     "start_time": "2019-02-07T21:15:39.558Z"
    }
   },
   "outputs": [
    {
     "data": {
      "text/plain": [
       "colX = colName\n",
       "colY = percentNull\n"
      ]
     },
     "metadata": {},
     "output_type": "display_data"
    },
    {
     "data": {
      "text/plain": [
       "percentNull"
      ]
     },
     "execution_count": 57,
     "metadata": {},
     "output_type": "execute_result"
    }
   ],
   "source": [
    "val colX = \"colName\"\n",
    "val colY = \"percentNull\""
   ]
  },
  {
   "cell_type": "code",
   "execution_count": 72,
   "metadata": {
    "ExecuteTime": {
     "end_time": "2019-02-07T22:34:46.213847Z",
     "start_time": "2019-02-07T22:34:44.093Z"
    }
   },
   "outputs": [
    {
     "data": {
      "text/html": [
       "\n",
       "  <iframe id=\"frame-vegas-f5042c31-6a0a-4121-a5d8-ab26d0858921\" sandbox=\"allow-scripts allow-same-origin\" style=\"border: none; width: 100%\" srcdoc=\"&lt;html&gt;\n",
       "  &lt;head&gt;\n",
       "    &lt;script src=&quot;https://cdn.jsdelivr.net/webjars/org.webjars.bower/d3/3.5.17/d3.min.js&quot; charset=&quot;utf-8&quot;&gt;&lt;/script&gt;\n",
       "&lt;script src=&quot;https://cdn.jsdelivr.net/webjars/org.webjars.bower/vega/2.6.3/vega.min.js&quot; charset=&quot;utf-8&quot;&gt;&lt;/script&gt;\n",
       "&lt;script src=&quot;https://cdn.jsdelivr.net/webjars/org.webjars.bower/vega-lite/1.2.0/vega-lite.min.js&quot; charset=&quot;utf-8&quot;&gt;&lt;/script&gt;\n",
       "&lt;script src=&quot;https://vega.github.io/vega-editor/vendor/vega-embed.js&quot; charset=&quot;utf-8&quot;&gt;&lt;/script&gt;\n",
       "  &lt;/head&gt;\n",
       "  &lt;body&gt;\n",
       " &lt;script&gt;\n",
       "   var embedSpec = {\n",
       "     mode: &quot;vega-lite&quot;,\n",
       "     spec: {\n",
       "  &quot;mark&quot; : &quot;bar&quot;,\n",
       "  &quot;encoding&quot; : {\n",
       "    &quot;x&quot; : {\n",
       "      &quot;axis&quot; : true,\n",
       "      &quot;scale&quot; : {\n",
       "        &quot;bandSize&quot; : 20.0\n",
       "      },\n",
       "      &quot;field&quot; : &quot;colName&quot;,\n",
       "      &quot;type&quot; : &quot;nominal&quot;\n",
       "    },\n",
       "    &quot;y&quot; : {\n",
       "      &quot;field&quot; : &quot;percentNull&quot;,\n",
       "      &quot;type&quot; : &quot;quantitative&quot;\n",
       "    },\n",
       "    &quot;color&quot; : {\n",
       "      &quot;field&quot; : &quot;colName&quot;,\n",
       "      &quot;type&quot; : &quot;nominal&quot;\n",
       "    }\n",
       "  },\n",
       "  &quot;description&quot; : &quot;UsingSpark&quot;,\n",
       "  &quot;data&quot; : {\n",
       "    &quot;values&quot; : [\n",
       "      {\n",
       "        &quot;colName&quot; : &quot;content_canonical_id&quot;,\n",
       "        &quot;nullCount&quot; : 3944,\n",
       "        &quot;percentNull&quot; : 0.7684903144836426\n",
       "      },\n",
       "      {\n",
       "        &quot;colName&quot; : &quot;reference_id&quot;,\n",
       "        &quot;nullCount&quot; : 0,\n",
       "        &quot;percentNull&quot; : 0.0\n",
       "      },\n",
       "      {\n",
       "        &quot;colName&quot; : &quot;service_id&quot;,\n",
       "        &quot;nullCount&quot; : 0,\n",
       "        &quot;percentNull&quot; : 0.0\n",
       "      },\n",
       "      {\n",
       "        &quot;colName&quot; : &quot;version_id&quot;,\n",
       "        &quot;nullCount&quot; : 0,\n",
       "        &quot;percentNull&quot; : 0.0\n",
       "      },\n",
       "      {\n",
       "        &quot;colName&quot; : &quot;offering_type&quot;,\n",
       "        &quot;nullCount&quot; : 415614,\n",
       "        &quot;percentNull&quot; : 80.98258972167969\n",
       "      },\n",
       "      {\n",
       "        &quot;colName&quot; : &quot;offering_type_value&quot;,\n",
       "        &quot;nullCount&quot; : 415614,\n",
       "        &quot;percentNull&quot; : 80.98258972167969\n",
       "      },\n",
       "      {\n",
       "        &quot;colName&quot; : &quot;offering_type_display_value&quot;,\n",
       "        &quot;nullCount&quot; : 415614,\n",
       "        &quot;percentNull&quot; : 80.98258972167969\n",
       "      },\n",
       "      {\n",
       "        &quot;colName&quot; : &quot;start_time&quot;,\n",
       "        &quot;nullCount&quot; : 415614,\n",
       "        &quot;percentNull&quot; : 80.98258972167969\n",
       "      },\n",
       "      {\n",
       "        &quot;colName&quot; : &quot;end_time&quot;,\n",
       "        &quot;nullCount&quot; : 415614,\n",
       "        &quot;percentNull&quot; : 80.98258972167969\n",
       "      },\n",
       "      {\n",
       "        &quot;colName&quot; : &quot;restrictions&quot;,\n",
       "        &quot;nullCount&quot; : 496285,\n",
       "        &quot;percentNull&quot; : 96.70137786865234\n",
       "      },\n",
       "      {\n",
       "        &quot;colName&quot; : &quot;is_live&quot;,\n",
       "        &quot;nullCount&quot; : 415614,\n",
       "        &quot;percentNull&quot; : 80.98258972167969\n",
       "      },\n",
       "      {\n",
       "        &quot;colName&quot; : &quot;is_broadcast&quot;,\n",
       "        &quot;nullCount&quot; : 415614,\n",
       "        &quot;percentNull&quot; : 80.98258972167969\n",
       "      },\n",
       "      {\n",
       "        &quot;colName&quot; : &quot;is_premium&quot;,\n",
       "        &quot;nullCount&quot; : 415614,\n",
       "        &quot;percentNull&quot; : 80.98258972167969\n",
       "      },\n",
       "      {\n",
       "        &quot;colName&quot; : &quot;primary_locale&quot;,\n",
       "        &quot;nullCount&quot; : 0,\n",
       "        &quot;percentNull&quot; : 0.0\n",
       "      },\n",
       "      {\n",
       "        &quot;colName&quot; : &quot;closed_captioning_locales&quot;,\n",
       "        &quot;nullCount&quot; : 488294,\n",
       "        &quot;percentNull&quot; : 95.14432525634766\n",
       "      },\n",
       "      {\n",
       "        &quot;colName&quot; : &quot;subtitle_locales&quot;,\n",
       "        &quot;nullCount&quot; : 500681,\n",
       "        &quot;percentNull&quot; : 97.55793762207031\n",
       "      },\n",
       "      {\n",
       "        &quot;colName&quot; : &quot;dubbed_locales&quot;,\n",
       "        &quot;nullCount&quot; : 512857,\n",
       "        &quot;percentNull&quot; : 99.93043518066406\n",
       "      },\n",
       "      {\n",
       "        &quot;colName&quot; : &quot;subtitle_deaf_hard_of_hearing_locales&quot;,\n",
       "        &quot;nullCount&quot; : 509416,\n",
       "        &quot;percentNull&quot; : 99.25995635986328\n",
       "      },\n",
       "      {\n",
       "        &quot;colName&quot; : &quot;audio_track_locales&quot;,\n",
       "        &quot;nullCount&quot; : 504341,\n",
       "        &quot;percentNull&quot; : 98.2710952758789\n",
       "      },\n",
       "      {\n",
       "        &quot;colName&quot; : &quot;audio_track_formats&quot;,\n",
       "        &quot;nullCount&quot; : 473159,\n",
       "        &quot;percentNull&quot; : 92.19526672363281\n",
       "      },\n",
       "      {\n",
       "        &quot;colName&quot; : &quot;video_quality&quot;,\n",
       "        &quot;nullCount&quot; : 438943,\n",
       "        &quot;percentNull&quot; : 85.52825927734375\n",
       "      },\n",
       "      {\n",
       "        &quot;colName&quot; : &quot;video_color_range&quot;,\n",
       "        &quot;nullCount&quot; : 459326,\n",
       "        &quot;percentNull&quot; : 89.49989318847656\n",
       "      },\n",
       "      {\n",
       "        &quot;colName&quot; : &quot;created&quot;,\n",
       "        &quot;nullCount&quot; : 0,\n",
       "        &quot;percentNull&quot; : 0.0\n",
       "      },\n",
       "      {\n",
       "        &quot;colName&quot; : &quot;etl_batch_sk&quot;,\n",
       "        &quot;nullCount&quot; : 0,\n",
       "        &quot;percentNull&quot; : 0.0\n",
       "      },\n",
       "      {\n",
       "        &quot;colName&quot; : &quot;etl_create_ts&quot;,\n",
       "        &quot;nullCount&quot; : 0,\n",
       "        &quot;percentNull&quot; : 0.0\n",
       "      },\n",
       "      {\n",
       "        &quot;colName&quot; : &quot;etl_change_ts&quot;,\n",
       "        &quot;nullCount&quot; : 0,\n",
       "        &quot;percentNull&quot; : 0.0\n",
       "      },\n",
       "      {\n",
       "        &quot;colName&quot; : &quot;etl_source_batch_sk&quot;,\n",
       "        &quot;nullCount&quot; : 0,\n",
       "        &quot;percentNull&quot; : 0.0\n",
       "      }\n",
       "    ]\n",
       "  },\n",
       "  &quot;transform&quot; : {\n",
       "    &quot;filter&quot; : &quot;datum.percentNull &gt; 0&quot;\n",
       "  }\n",
       "}\n",
       "   }\n",
       "   vg.embed(&quot;#vegas-f5042c31-6a0a-4121-a5d8-ab26d0858921&quot;, embedSpec, function(error, result) {});\n",
       " &lt;/script&gt;\n",
       " &lt;div id='vegas-f5042c31-6a0a-4121-a5d8-ab26d0858921'&gt;&lt;/div&gt;\n",
       "    &lt;/body&gt;\n",
       "&lt;/html&gt;\"></iframe>\n",
       "  <script>\n",
       "    if (typeof resizeIFrame != 'function') {\n",
       "      function resizeIFrame(el, k) {\n",
       "        $(el.contentWindow.document).ready(function() {\n",
       "          el.style.height = el.contentWindow.document.body.scrollHeight + 'px';\n",
       "        });\n",
       "        if (k <= 10) { setTimeout(function() { resizeIFrame(el, k+1) }, 1000 + (k * 250)) };\n",
       "      }\n",
       "    }\n",
       "    $().ready( function() { resizeIFrame($('#frame-vegas-f5042c31-6a0a-4121-a5d8-ab26d0858921').get(0), 1); });\n",
       "  </script>\n",
       "    "
      ]
     },
     "metadata": {},
     "output_type": "display_data"
    },
    {
     "data": {
      "text/plain": [
       "usingSparkdf = ExtendedUnitSpecBuilder(ExtendedUnitSpec(None,None,Bar,Some(Encoding(None,None,Some(PositionChannelDef(Some(AxisBoolean(true)),Some(Scale(None,None,None,None,Some(BandSizeDouble(20.0)),None,None,None,None,None,None)),None,Some(colName),Some(Nominal),None,None,None,None,None)),Some(PositionChannelDef(None,None,None,Some(percentNull),Some(Quantitative),None,None,None,None,None)),None,None,Some(ChannelDefWithLegend(None,None,None,Some(colName),Some(Nominal),None,None,None,None,None)),None,None,None,None,None,None,None,None)),None,Some(UsingSpark),Some(Data(None,None,Some(List(Values(Map(colName -> content_canonical_id, nullCount -> 3944, percentNull -> 0.7684903)), Values(Map(colName -> reference_id, nullCount -> 0, percentNull -> 0.0)), Va...\n"
      ]
     },
     "metadata": {},
     "output_type": "display_data"
    },
    {
     "data": {
      "text/plain": [
       "ExtendedUnitSpecBuilder(ExtendedUnitSpec(None,None,Bar,Some(Encoding(None,None,Some(PositionChannelDef(Some(AxisBoolean(true)),Some(Scale(None,None,None,None,Some(BandSizeDouble(20.0)),None,None,None,None,None,None)),None,Some(colName),Some(Nominal),None,None,None,None,None)),Some(PositionChannelDef(None,None,None,Some(percentNull),Some(Quantitative),None,None,None,None,None)),None,None,Some(ChannelDefWithLegend(None,None,None,Some(colName),Some(Nominal),None,None,None,None,None)),None,None,None,None,None,None,None,None)),None,Some(UsingSpark),Some(Data(None,None,Some(List(Values(Map(colName -> content_canonical_id, nullCount -> 3944, percentNull -> 0.7684903)), Values(Map(colName -> reference_id, nullCount -> 0, percentNull -> 0.0)), Va..."
      ]
     },
     "execution_count": 72,
     "metadata": {},
     "output_type": "execute_result"
    }
   ],
   "source": [
    "val usingSparkdf = Vegas(\"UsingSpark\")\n",
    "  .withDataFrame(dfCountNull)\n",
    "  .encodeX(colX, Nom, scale=Scale(bandSize = 20.0), hideAxis=false)\n",
    "  .encodeY(colY, Quant)\n",
    ".encodeColor(colX, Nom)\n",
    ".filter(\"datum.percentNull > 0\")\n",
    "  .mark(Bar)\n",
    "\n",
    "usingSparkdf.show\n"
   ]
  },
  {
   "cell_type": "code",
   "execution_count": 87,
   "metadata": {
    "ExecuteTime": {
     "end_time": "2019-02-07T23:16:41.953526Z",
     "start_time": "2019-02-07T23:16:40.317Z"
    }
   },
   "outputs": [
    {
     "data": {
      "text/html": [
       "\n",
       "  <iframe id=\"frame-vegas-e24a2710-4425-4e0c-8680-a1009bd73dc9\" sandbox=\"allow-scripts allow-same-origin\" style=\"border: none; width: 100%\" srcdoc=\"&lt;html&gt;\n",
       "  &lt;head&gt;\n",
       "    &lt;script src=&quot;https://cdn.jsdelivr.net/webjars/org.webjars.bower/d3/3.5.17/d3.min.js&quot; charset=&quot;utf-8&quot;&gt;&lt;/script&gt;\n",
       "&lt;script src=&quot;https://cdn.jsdelivr.net/webjars/org.webjars.bower/vega/2.6.3/vega.min.js&quot; charset=&quot;utf-8&quot;&gt;&lt;/script&gt;\n",
       "&lt;script src=&quot;https://cdn.jsdelivr.net/webjars/org.webjars.bower/vega-lite/1.2.0/vega-lite.min.js&quot; charset=&quot;utf-8&quot;&gt;&lt;/script&gt;\n",
       "&lt;script src=&quot;https://vega.github.io/vega-editor/vendor/vega-embed.js&quot; charset=&quot;utf-8&quot;&gt;&lt;/script&gt;\n",
       "  &lt;/head&gt;\n",
       "  &lt;body&gt;\n",
       " &lt;script&gt;\n",
       "   var embedSpec = {\n",
       "     mode: &quot;vega-lite&quot;,\n",
       "     spec: {\n",
       "  &quot;mark&quot; : &quot;circle&quot;,\n",
       "  &quot;encoding&quot; : {\n",
       "    &quot;x&quot; : {\n",
       "      &quot;axis&quot; : true,\n",
       "      &quot;scale&quot; : {\n",
       "        &quot;bandSize&quot; : 20.0\n",
       "      },\n",
       "      &quot;field&quot; : &quot;colName&quot;,\n",
       "      &quot;type&quot; : &quot;nominal&quot;\n",
       "    },\n",
       "    &quot;y&quot; : {\n",
       "      &quot;field&quot; : &quot;percentNull&quot;,\n",
       "      &quot;type&quot; : &quot;quantitative&quot;\n",
       "    }\n",
       "  },\n",
       "  &quot;description&quot; : &quot;UsingSpark&quot;,\n",
       "  &quot;data&quot; : {\n",
       "    &quot;values&quot; : [\n",
       "      {\n",
       "        &quot;colName&quot; : &quot;content_canonical_id&quot;,\n",
       "        &quot;nullCount&quot; : 3944,\n",
       "        &quot;percentNull&quot; : 0.7684903144836426\n",
       "      },\n",
       "      {\n",
       "        &quot;colName&quot; : &quot;reference_id&quot;,\n",
       "        &quot;nullCount&quot; : 0,\n",
       "        &quot;percentNull&quot; : 0.0\n",
       "      },\n",
       "      {\n",
       "        &quot;colName&quot; : &quot;service_id&quot;,\n",
       "        &quot;nullCount&quot; : 0,\n",
       "        &quot;percentNull&quot; : 0.0\n",
       "      },\n",
       "      {\n",
       "        &quot;colName&quot; : &quot;version_id&quot;,\n",
       "        &quot;nullCount&quot; : 0,\n",
       "        &quot;percentNull&quot; : 0.0\n",
       "      },\n",
       "      {\n",
       "        &quot;colName&quot; : &quot;offering_type&quot;,\n",
       "        &quot;nullCount&quot; : 415614,\n",
       "        &quot;percentNull&quot; : 80.98258972167969\n",
       "      },\n",
       "      {\n",
       "        &quot;colName&quot; : &quot;offering_type_value&quot;,\n",
       "        &quot;nullCount&quot; : 415614,\n",
       "        &quot;percentNull&quot; : 80.98258972167969\n",
       "      },\n",
       "      {\n",
       "        &quot;colName&quot; : &quot;offering_type_display_value&quot;,\n",
       "        &quot;nullCount&quot; : 415614,\n",
       "        &quot;percentNull&quot; : 80.98258972167969\n",
       "      },\n",
       "      {\n",
       "        &quot;colName&quot; : &quot;start_time&quot;,\n",
       "        &quot;nullCount&quot; : 415614,\n",
       "        &quot;percentNull&quot; : 80.98258972167969\n",
       "      },\n",
       "      {\n",
       "        &quot;colName&quot; : &quot;end_time&quot;,\n",
       "        &quot;nullCount&quot; : 415614,\n",
       "        &quot;percentNull&quot; : 80.98258972167969\n",
       "      },\n",
       "      {\n",
       "        &quot;colName&quot; : &quot;restrictions&quot;,\n",
       "        &quot;nullCount&quot; : 496285,\n",
       "        &quot;percentNull&quot; : 96.70137786865234\n",
       "      },\n",
       "      {\n",
       "        &quot;colName&quot; : &quot;is_live&quot;,\n",
       "        &quot;nullCount&quot; : 415614,\n",
       "        &quot;percentNull&quot; : 80.98258972167969\n",
       "      },\n",
       "      {\n",
       "        &quot;colName&quot; : &quot;is_broadcast&quot;,\n",
       "        &quot;nullCount&quot; : 415614,\n",
       "        &quot;percentNull&quot; : 80.98258972167969\n",
       "      },\n",
       "      {\n",
       "        &quot;colName&quot; : &quot;is_premium&quot;,\n",
       "        &quot;nullCount&quot; : 415614,\n",
       "        &quot;percentNull&quot; : 80.98258972167969\n",
       "      },\n",
       "      {\n",
       "        &quot;colName&quot; : &quot;primary_locale&quot;,\n",
       "        &quot;nullCount&quot; : 0,\n",
       "        &quot;percentNull&quot; : 0.0\n",
       "      },\n",
       "      {\n",
       "        &quot;colName&quot; : &quot;closed_captioning_locales&quot;,\n",
       "        &quot;nullCount&quot; : 488294,\n",
       "        &quot;percentNull&quot; : 95.14432525634766\n",
       "      },\n",
       "      {\n",
       "        &quot;colName&quot; : &quot;subtitle_locales&quot;,\n",
       "        &quot;nullCount&quot; : 500681,\n",
       "        &quot;percentNull&quot; : 97.55793762207031\n",
       "      },\n",
       "      {\n",
       "        &quot;colName&quot; : &quot;dubbed_locales&quot;,\n",
       "        &quot;nullCount&quot; : 512857,\n",
       "        &quot;percentNull&quot; : 99.93043518066406\n",
       "      },\n",
       "      {\n",
       "        &quot;colName&quot; : &quot;subtitle_deaf_hard_of_hearing_locales&quot;,\n",
       "        &quot;nullCount&quot; : 509416,\n",
       "        &quot;percentNull&quot; : 99.25995635986328\n",
       "      },\n",
       "      {\n",
       "        &quot;colName&quot; : &quot;audio_track_locales&quot;,\n",
       "        &quot;nullCount&quot; : 504341,\n",
       "        &quot;percentNull&quot; : 98.2710952758789\n",
       "      },\n",
       "      {\n",
       "        &quot;colName&quot; : &quot;audio_track_formats&quot;,\n",
       "        &quot;nullCount&quot; : 473159,\n",
       "        &quot;percentNull&quot; : 92.19526672363281\n",
       "      },\n",
       "      {\n",
       "        &quot;colName&quot; : &quot;video_quality&quot;,\n",
       "        &quot;nullCount&quot; : 438943,\n",
       "        &quot;percentNull&quot; : 85.52825927734375\n",
       "      },\n",
       "      {\n",
       "        &quot;colName&quot; : &quot;video_color_range&quot;,\n",
       "        &quot;nullCount&quot; : 459326,\n",
       "        &quot;percentNull&quot; : 89.49989318847656\n",
       "      },\n",
       "      {\n",
       "        &quot;colName&quot; : &quot;created&quot;,\n",
       "        &quot;nullCount&quot; : 0,\n",
       "        &quot;percentNull&quot; : 0.0\n",
       "      },\n",
       "      {\n",
       "        &quot;colName&quot; : &quot;etl_batch_sk&quot;,\n",
       "        &quot;nullCount&quot; : 0,\n",
       "        &quot;percentNull&quot; : 0.0\n",
       "      },\n",
       "      {\n",
       "        &quot;colName&quot; : &quot;etl_create_ts&quot;,\n",
       "        &quot;nullCount&quot; : 0,\n",
       "        &quot;percentNull&quot; : 0.0\n",
       "      },\n",
       "      {\n",
       "        &quot;colName&quot; : &quot;etl_change_ts&quot;,\n",
       "        &quot;nullCount&quot; : 0,\n",
       "        &quot;percentNull&quot; : 0.0\n",
       "      },\n",
       "      {\n",
       "        &quot;colName&quot; : &quot;etl_source_batch_sk&quot;,\n",
       "        &quot;nullCount&quot; : 0,\n",
       "        &quot;percentNull&quot; : 0.0\n",
       "      }\n",
       "    ]\n",
       "  },\n",
       "  &quot;transform&quot; : {\n",
       "    &quot;filter&quot; : &quot;datum.percentNull &gt; 0&quot;\n",
       "  }\n",
       "}\n",
       "   }\n",
       "   vg.embed(&quot;#vegas-e24a2710-4425-4e0c-8680-a1009bd73dc9&quot;, embedSpec, function(error, result) {});\n",
       " &lt;/script&gt;\n",
       " &lt;div id='vegas-e24a2710-4425-4e0c-8680-a1009bd73dc9'&gt;&lt;/div&gt;\n",
       "    &lt;/body&gt;\n",
       "&lt;/html&gt;\"></iframe>\n",
       "  <script>\n",
       "    if (typeof resizeIFrame != 'function') {\n",
       "      function resizeIFrame(el, k) {\n",
       "        $(el.contentWindow.document).ready(function() {\n",
       "          el.style.height = el.contentWindow.document.body.scrollHeight + 'px';\n",
       "        });\n",
       "        if (k <= 10) { setTimeout(function() { resizeIFrame(el, k+1) }, 1000 + (k * 250)) };\n",
       "      }\n",
       "    }\n",
       "    $().ready( function() { resizeIFrame($('#frame-vegas-e24a2710-4425-4e0c-8680-a1009bd73dc9').get(0), 1); });\n",
       "  </script>\n",
       "    "
      ]
     },
     "metadata": {},
     "output_type": "display_data"
    },
    {
     "data": {
      "text/plain": [
       "usingSparkdf1 = ExtendedUnitSpecBuilder(ExtendedUnitSpec(None,None,Circle,Some(Encoding(None,None,Some(PositionChannelDef(Some(AxisBoolean(true)),Some(Scale(None,None,None,None,Some(BandSizeDouble(20.0)),None,None,None,None,None,None)),None,Some(colName),Some(Nominal),None,None,None,None,None)),Some(PositionChannelDef(None,None,None,Some(percentNull),Some(Quantitative),None,None,None,None,None)),None,None,None,None,None,None,None,None,None,None,None)),None,Some(UsingSpark),Some(Data(None,None,Some(List(Values(Map(colName -> content_canonical_id, nullCount -> 3944, percentNull -> 0.7684903)), Values(Map(colName -> reference_id, nullCount -> 0, percentNull -> 0.0)), Values(Map(colName -> service_id, nullCount -> 0, percentNull -> 0.0)), Values(Map(colNam...\n"
      ]
     },
     "metadata": {},
     "output_type": "display_data"
    },
    {
     "data": {
      "text/plain": [
       "ExtendedUnitSpecBuilder(ExtendedUnitSpec(None,None,Circle,Some(Encoding(None,None,Some(PositionChannelDef(Some(AxisBoolean(true)),Some(Scale(None,None,None,None,Some(BandSizeDouble(20.0)),None,None,None,None,None,None)),None,Some(colName),Some(Nominal),None,None,None,None,None)),Some(PositionChannelDef(None,None,None,Some(percentNull),Some(Quantitative),None,None,None,None,None)),None,None,None,None,None,None,None,None,None,None,None)),None,Some(UsingSpark),Some(Data(None,None,Some(List(Values(Map(colName -> content_canonical_id, nullCount -> 3944, percentNull -> 0.7684903)), Values(Map(colName -> reference_id, nullCount -> 0, percentNull -> 0.0)), Values(Map(colName -> service_id, nullCount -> 0, percentNull -> 0.0)), Values(Map(colNam..."
      ]
     },
     "execution_count": 87,
     "metadata": {},
     "output_type": "execute_result"
    }
   ],
   "source": [
    "val usingSparkdf1 = Vegas(\"UsingSpark\")\n",
    "  .withDataFrame(dfCountNull)\n",
    "  .encodeX(colX, Nom, scale=Scale(bandSize = 20.0), hideAxis=false)\n",
    "  .encodeY(colY, Quant)\n",
    "//.encodeColor(colX, Nom)\n",
    ".filter(\"datum.percentNull > 0\")\n",
    "  .mark(Circle)\n",
    "\n",
    "usingSparkdf1.show"
   ]
  },
  {
   "cell_type": "markdown",
   "metadata": {},
   "source": [
    "#### Input value for  - *TopN*  & *Column Names* - to get *TopN* results for specific _Column names_"
   ]
  },
  {
   "cell_type": "code",
   "execution_count": 59,
   "metadata": {
    "ExecuteTime": {
     "end_time": "2019-02-07T21:16:18.196499Z",
     "start_time": "2019-02-07T21:16:15.610Z"
    }
   },
   "outputs": [
    {
     "name": "stdout",
     "output_type": "stream",
     "text": [
      "Column Distinct Values - Top 15\n"
     ]
    },
    {
     "data": {
      "text/plain": [
       "topN = 15\n",
       "columnNames = Array(primary_locale, created)\n"
      ]
     },
     "metadata": {},
     "output_type": "display_data"
    },
    {
     "data": {
      "text/plain": [
       "Array(primary_locale, created)"
      ]
     },
     "execution_count": 59,
     "metadata": {},
     "output_type": "execute_result"
    }
   ],
   "source": [
    "val topN = 15\n",
    "println(s\"Column Distinct Values - Top $topN\")\n",
    "val columnNames = Array(\"primary_locale\", \"created\")"
   ]
  },
  {
   "cell_type": "code",
   "execution_count": 60,
   "metadata": {
    "ExecuteTime": {
     "end_time": "2019-02-07T21:16:21.476398Z",
     "start_time": "2019-02-07T21:16:18.673Z"
    }
   },
   "outputs": [
    {
     "name": "stdout",
     "output_type": "stream",
     "text": [
      "+--------------+\n",
      "|primary_locale|\n",
      "+--------------+\n",
      "|es-US         |\n",
      "|en-ZA         |\n",
      "|am-ET         |\n",
      "|en            |\n",
      "|de-AT         |\n",
      "|tl-PH         |\n",
      "|el-GR         |\n",
      "|en-IT         |\n",
      "|pl-PL         |\n",
      "|vi            |\n",
      "|ta-IN         |\n",
      "|ro            |\n",
      "|ALL           |\n",
      "|ar-MA         |\n",
      "|en-IE         |\n",
      "+--------------+\n",
      "only showing top 15 rows\n",
      "\n",
      "+-------------------+\n",
      "|created            |\n",
      "+-------------------+\n",
      "|2018-09-17 00:37:32|\n",
      "|2018-01-31 17:51:33|\n",
      "|2018-11-14 16:04:16|\n",
      "|2018-06-20 20:11:41|\n",
      "|2018-06-24 07:20:03|\n",
      "|2018-10-29 09:41:45|\n",
      "|2018-01-28 04:51:50|\n",
      "|2017-01-26 22:18:10|\n",
      "|2017-12-01 16:44:59|\n",
      "|2018-09-08 02:42:17|\n",
      "|2018-02-24 20:19:59|\n",
      "|2017-10-25 22:17:41|\n",
      "|2017-10-25 22:15:21|\n",
      "|2017-10-25 22:17:23|\n",
      "|2017-11-08 18:05:42|\n",
      "+-------------------+\n",
      "only showing top 15 rows\n",
      "\n"
     ]
    }
   ],
   "source": [
    "for(colName <- columnNames){\n",
    "        df.select(colName).distinct().show(topN, false)\n",
    "      }"
   ]
  }
 ],
 "metadata": {
  "hide_input": false,
  "kernelspec": {
   "display_name": "Apache Toree - Scala",
   "language": "scala",
   "name": "apache_toree_scala"
  },
  "language_info": {
   "codemirror_mode": "text/x-scala",
   "file_extension": ".scala",
   "mimetype": "text/x-scala",
   "name": "scala",
   "pygments_lexer": "scala",
   "version": "2.11.12"
  }
 },
 "nbformat": 4,
 "nbformat_minor": 2
}
