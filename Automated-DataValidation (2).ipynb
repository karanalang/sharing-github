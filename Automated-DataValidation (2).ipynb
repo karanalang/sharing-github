{
 "cells": [
  {
   "cell_type": "markdown",
   "metadata": {
    "ExecuteTime": {
     "end_time": "2019-02-06T20:23:11.550265Z",
     "start_time": "2019-02-06T20:23:11.203Z"
    }
   },
   "source": [
    "![title](img/apple.png)\n",
    "# AMP Analytics Online "
   ]
  },
  {
   "cell_type": "code",
   "execution_count": 11,
   "metadata": {
    "ExecuteTime": {
     "end_time": "2019-02-06T23:28:06.882260Z",
     "start_time": "2019-02-06T23:28:06.009Z"
    }
   },
   "outputs": [
    {
     "data": {
      "text/html": [
       "<img src=\"img/apple.png\", width=50, height=50/>AMP Analytics Online"
      ]
     },
     "execution_count": 11,
     "metadata": {},
     "output_type": "execute_result"
    }
   ],
   "source": [
    "%%html\n",
    "<img src=\"img/apple.png\", width=50, height=50/>AMP Analytics Online"
   ]
  },
  {
   "cell_type": "markdown",
   "metadata": {},
   "source": [
    "<img src=\"img/apple.png\", width=50, height=50>"
   ]
  },
  {
   "cell_type": "code",
   "execution_count": 1,
   "metadata": {
    "ExecuteTime": {
     "end_time": "2019-02-06T23:06:59.606900Z",
     "start_time": "2019-02-06T23:06:59.321Z"
    }
   },
   "outputs": [
    {
     "data": {
      "text/plain": [
       "Name: Compile Error\n",
       "Message: <console>:1: error: ';' expected but '.' found.\n",
       "from IPython.display import Image\n",
       "            ^\n",
       "\n",
       "StackTrace: "
      ]
     },
     "execution_count": 1,
     "metadata": {},
     "output_type": "execute_result"
    }
   ],
   "source": [
    "// from IPython.display import Image\n",
    "// Image(\"img/apple.png\",width=50, height=50)\n",
    "\n",
    "//JOptionPane.showMessageDialog(parent, new JLabel(new ImageIcon(theImage)));"
   ]
  },
  {
   "cell_type": "code",
   "execution_count": 2,
   "metadata": {
    "ExecuteTime": {
     "end_time": "2019-02-06T18:33:02.408963Z",
     "start_time": "2019-02-06T18:33:02.089Z"
    }
   },
   "outputs": [],
   "source": [
    "import org.apache.spark.SparkConf\n",
    "import org.apache.spark.sql.{DataFrame,SparkSession, Column}\n",
    "import org.apache.spark.sql.functions.{col}\n"
   ]
  },
  {
   "cell_type": "code",
   "execution_count": 2,
   "metadata": {
    "ExecuteTime": {
     "end_time": "2019-02-05T18:56:15.323923Z",
     "start_time": "2019-02-05T18:56:13.867Z"
    }
   },
   "outputs": [
    {
     "data": {
      "text/plain": [
       "path = /Users/karanalang/Documents/1.AppleHadoop/AMP-Analytics/parquetFolder/umc_availability/*\n"
      ]
     },
     "metadata": {},
     "output_type": "display_data"
    },
    {
     "data": {
      "text/plain": [
       "/Users/karanalang/Documents/1.AppleHadoop/AMP-Analytics/parquetFolder/umc_availability/*"
      ]
     },
     "execution_count": 2,
     "metadata": {},
     "output_type": "execute_result"
    }
   ],
   "source": [
    "val path = \"/Users/karanalang/Documents/1.AppleHadoop/AMP-Analytics/parquetFolder/umc_availability/*\""
   ]
  },
  {
   "cell_type": "code",
   "execution_count": 3,
   "metadata": {
    "ExecuteTime": {
     "end_time": "2019-02-05T18:56:30.774691Z",
     "start_time": "2019-02-05T18:56:17.351Z"
    }
   },
   "outputs": [
    {
     "name": "stdout",
     "output_type": "stream",
     "text": [
      "Total Count => 513214\n"
     ]
    },
    {
     "data": {
      "text/plain": [
       "df = [content_canonical_id: string, reference_id: string ... 25 more fields]\n",
       "totalCount = 513214\n"
      ]
     },
     "metadata": {},
     "output_type": "display_data"
    },
    {
     "data": {
      "text/plain": [
       "513214"
      ]
     },
     "execution_count": 3,
     "metadata": {},
     "output_type": "execute_result"
    }
   ],
   "source": [
    "val df = spark.read.parquet(path)\n",
    "val totalCount = df.count()\n",
    "\n",
    "println(s\"Total Count => $totalCount\")\n"
   ]
  },
  {
   "cell_type": "code",
   "execution_count": 4,
   "metadata": {
    "ExecuteTime": {
     "end_time": "2019-02-05T18:56:33.304763Z",
     "start_time": "2019-02-05T18:56:33.012Z"
    }
   },
   "outputs": [
    {
     "name": "stdout",
     "output_type": "stream",
     "text": [
      "root\n",
      " |-- content_canonical_id: string (nullable = true)\n",
      " |-- reference_id: string (nullable = true)\n",
      " |-- service_id: string (nullable = true)\n",
      " |-- version_id: string (nullable = true)\n",
      " |-- offering_type: string (nullable = true)\n",
      " |-- offering_type_value: string (nullable = true)\n",
      " |-- offering_type_display_value: string (nullable = true)\n",
      " |-- start_time: timestamp (nullable = true)\n",
      " |-- end_time: timestamp (nullable = true)\n",
      " |-- restrictions: array (nullable = true)\n",
      " |    |-- element: struct (containsNull = true)\n",
      " |    |    |-- restrictionType: struct (nullable = true)\n",
      " |    |    |    |-- type: string (nullable = true)\n",
      " |    |    |    |-- value: string (nullable = true)\n",
      " |    |    |    |-- displayValue: string (nullable = true)\n",
      " |    |    |-- restrictionRelationship: struct (nullable = true)\n",
      " |    |    |    |-- type: string (nullable = true)\n",
      " |    |    |    |-- value: string (nullable = true)\n",
      " |    |    |    |-- displayValue: string (nullable = true)\n",
      " |    |    |-- value: string (nullable = true)\n",
      " |-- is_live: boolean (nullable = true)\n",
      " |-- is_broadcast: boolean (nullable = true)\n",
      " |-- is_premium: boolean (nullable = true)\n",
      " |-- primary_locale: string (nullable = true)\n",
      " |-- closed_captioning_locales: array (nullable = true)\n",
      " |    |-- element: string (containsNull = true)\n",
      " |-- subtitle_locales: array (nullable = true)\n",
      " |    |-- element: string (containsNull = true)\n",
      " |-- dubbed_locales: array (nullable = true)\n",
      " |    |-- element: string (containsNull = true)\n",
      " |-- subtitle_deaf_hard_of_hearing_locales: array (nullable = true)\n",
      " |    |-- element: string (containsNull = true)\n",
      " |-- audio_track_locales: array (nullable = true)\n",
      " |    |-- element: string (containsNull = true)\n",
      " |-- audio_track_formats: array (nullable = true)\n",
      " |    |-- element: string (containsNull = true)\n",
      " |-- video_quality: string (nullable = true)\n",
      " |-- video_color_range: string (nullable = true)\n",
      " |-- created: timestamp (nullable = true)\n",
      " |-- etl_batch_sk: long (nullable = true)\n",
      " |-- etl_create_ts: long (nullable = true)\n",
      " |-- etl_change_ts: long (nullable = true)\n",
      " |-- etl_source_batch_sk: string (nullable = true)\n",
      "\n"
     ]
    }
   ],
   "source": [
    "df.printSchema()"
   ]
  },
  {
   "cell_type": "code",
   "execution_count": 5,
   "metadata": {
    "ExecuteTime": {
     "end_time": "2019-02-05T18:56:37.800121Z",
     "start_time": "2019-02-05T18:56:36.826Z"
    }
   },
   "outputs": [
    {
     "name": "stdout",
     "output_type": "stream",
     "text": [
      "Count of Records => \n"
     ]
    },
    {
     "data": {
      "text/plain": [
       "513214"
      ]
     },
     "execution_count": 5,
     "metadata": {},
     "output_type": "execute_result"
    }
   ],
   "source": [
    "println(\"Count of Records => \")\n",
    "df.count()"
   ]
  },
  {
   "cell_type": "code",
   "execution_count": 6,
   "metadata": {
    "ExecuteTime": {
     "end_time": "2019-02-05T18:56:53.334894Z",
     "start_time": "2019-02-05T18:56:39.656Z"
    }
   },
   "outputs": [
    {
     "name": "stdout",
     "output_type": "stream",
     "text": [
      " Column => content_canonical_id = Null Count = 3944\n",
      " Percentage Null => 0.7684903\n",
      " Column => reference_id = Null Count = 0\n",
      " Percentage Null => 0.0\n",
      " Column => service_id = Null Count = 0\n",
      " Percentage Null => 0.0\n",
      " Column => version_id = Null Count = 0\n",
      " Percentage Null => 0.0\n",
      " Column => offering_type = Null Count = 415614\n",
      " Percentage Null => 80.98259\n",
      " Column => offering_type_value = Null Count = 415614\n",
      " Percentage Null => 80.98259\n",
      " Column => offering_type_display_value = Null Count = 415614\n",
      " Percentage Null => 80.98259\n",
      " Column => start_time = Null Count = 415614\n",
      " Percentage Null => 80.98259\n",
      " Column => end_time = Null Count = 415614\n",
      " Percentage Null => 80.98259\n",
      " Column => restrictions = Null Count = 496285\n",
      " Percentage Null => 96.70138\n",
      " Column => is_live = Null Count = 415614\n",
      " Percentage Null => 80.98259\n",
      " Column => is_broadcast = Null Count = 415614\n",
      " Percentage Null => 80.98259\n",
      " Column => is_premium = Null Count = 415614\n",
      " Percentage Null => 80.98259\n",
      " Column => primary_locale = Null Count = 0\n",
      " Percentage Null => 0.0\n",
      " Column => closed_captioning_locales = Null Count = 488294\n",
      " Percentage Null => 95.144325\n",
      " Column => subtitle_locales = Null Count = 500681\n",
      " Percentage Null => 97.55794\n",
      " Column => dubbed_locales = Null Count = 512857\n",
      " Percentage Null => 99.930435\n",
      " Column => subtitle_deaf_hard_of_hearing_locales = Null Count = 509416\n",
      " Percentage Null => 99.259964\n",
      " Column => audio_track_locales = Null Count = 504341\n",
      " Percentage Null => 98.27109\n",
      " Column => audio_track_formats = Null Count = 473159\n",
      " Percentage Null => 92.19527\n",
      " Column => video_quality = Null Count = 438943\n",
      " Percentage Null => 85.52826\n",
      " Column => video_color_range = Null Count = 459326\n",
      " Percentage Null => 89.49989\n",
      " Column => created = Null Count = 0\n",
      " Percentage Null => 0.0\n",
      " Column => etl_batch_sk = Null Count = 0\n",
      " Percentage Null => 0.0\n",
      " Column => etl_create_ts = Null Count = 0\n",
      " Percentage Null => 0.0\n",
      " Column => etl_change_ts = Null Count = 0\n",
      " Percentage Null => 0.0\n",
      " Column => etl_source_batch_sk = Null Count = 0\n",
      " Percentage Null => 0.0\n"
     ]
    },
    {
     "data": {
      "text/plain": [
       "dfColumns = Array(content_canonical_id, reference_id, service_id, version_id, offering_type, offering_type_value, offering_type_display_value, start_time, end_time, restrictions, is_live, is_broadcast, is_premium, primary_locale, closed_captioning_locales, subtitle_locales, dubbed_locales, subtitle_deaf_hard_of_hearing_locales, audio_track_locales, audio_track_formats, video_quality, video_color_range, created, etl_batch_sk, etl_create_ts, etl_change_ts, etl_source_batch_sk)\n"
      ]
     },
     "metadata": {},
     "output_type": "display_data"
    },
    {
     "data": {
      "text/plain": [
       "Array(content_canonical_id, reference_id, service_id, version_id, offering_type, offering_type_value, offering_type_display_value, start_time, end_time, restrictions, is_live, is_broadcast, is_premium, primary_locale, closed_captioning_locales, subtitle_locales, dubbed_locales, subtitle_deaf_hard_of_hearing_locales, audio_track_locales, audio_track_formats, video_quality, video_color_range, created, etl_batch_sk, etl_create_ts, etl_change_ts, etl_source_batch_sk)"
      ]
     },
     "execution_count": 6,
     "metadata": {},
     "output_type": "execute_result"
    }
   ],
   "source": [
    "val dfColumns = df.columns      \n",
    "for(colName <- dfColumns){\n",
    "        val nullCount = df.where(col(colName).isNull).count\n",
    "        println(\" Column => \" + colName + \" = Null Count = \" + nullCount)\n",
    "        println(\" Percentage Null => \" + nullCount.toFloat/totalCount*100)\n",
    "      }"
   ]
  },
  {
   "cell_type": "code",
   "execution_count": 7,
   "metadata": {
    "ExecuteTime": {
     "end_time": "2019-02-05T18:57:23.628244Z",
     "start_time": "2019-02-05T18:57:22.733Z"
    }
   },
   "outputs": [
    {
     "name": "stdout",
     "output_type": "stream",
     "text": [
      "Column Distinct Values - Top 15\n"
     ]
    },
    {
     "data": {
      "text/plain": [
       "topN = 15\n"
      ]
     },
     "metadata": {},
     "output_type": "display_data"
    },
    {
     "data": {
      "text/plain": [
       "15"
      ]
     },
     "execution_count": 7,
     "metadata": {},
     "output_type": "execute_result"
    }
   ],
   "source": [
    "val topN = 15\n",
    "println(s\"Column Distinct Values - Top $topN\")\n",
    "\n"
   ]
  },
  {
   "cell_type": "code",
   "execution_count": 8,
   "metadata": {
    "ExecuteTime": {
     "end_time": "2019-02-05T18:58:12.703208Z",
     "start_time": "2019-02-05T18:58:11.917Z"
    }
   },
   "outputs": [
    {
     "data": {
      "text/plain": [
       "columnNames = Array(primary_locale, created)\n"
      ]
     },
     "metadata": {},
     "output_type": "display_data"
    },
    {
     "data": {
      "text/plain": [
       "Array(primary_locale, created)"
      ]
     },
     "execution_count": 8,
     "metadata": {},
     "output_type": "execute_result"
    }
   ],
   "source": [
    "val columnNames = Array(\"primary_locale\", \"created\")"
   ]
  },
  {
   "cell_type": "code",
   "execution_count": 9,
   "metadata": {
    "ExecuteTime": {
     "end_time": "2019-02-05T18:58:18.902147Z",
     "start_time": "2019-02-05T18:58:15.370Z"
    }
   },
   "outputs": [
    {
     "name": "stdout",
     "output_type": "stream",
     "text": [
      "+--------------+\n",
      "|primary_locale|\n",
      "+--------------+\n",
      "|es-US         |\n",
      "|en-ZA         |\n",
      "|am-ET         |\n",
      "|en            |\n",
      "|de-AT         |\n",
      "|tl-PH         |\n",
      "|el-GR         |\n",
      "|en-IT         |\n",
      "|pl-PL         |\n",
      "|vi            |\n",
      "|ta-IN         |\n",
      "|ro            |\n",
      "|ALL           |\n",
      "|ar-MA         |\n",
      "|en-IE         |\n",
      "+--------------+\n",
      "only showing top 15 rows\n",
      "\n",
      "+-------------------+\n",
      "|created            |\n",
      "+-------------------+\n",
      "|2018-09-17 00:37:32|\n",
      "|2018-01-31 17:51:33|\n",
      "|2018-11-14 16:04:16|\n",
      "|2018-06-20 20:11:41|\n",
      "|2018-06-24 07:20:03|\n",
      "|2018-10-29 09:41:45|\n",
      "|2018-01-28 04:51:50|\n",
      "|2017-01-26 22:18:10|\n",
      "|2017-12-01 16:44:59|\n",
      "|2018-09-08 02:42:17|\n",
      "|2018-02-24 20:19:59|\n",
      "|2017-10-25 22:17:41|\n",
      "|2017-10-25 22:15:21|\n",
      "|2017-10-25 22:17:23|\n",
      "|2017-11-08 18:05:42|\n",
      "+-------------------+\n",
      "only showing top 15 rows\n",
      "\n"
     ]
    }
   ],
   "source": [
    "for(colName <- columnNames){\n",
    "        df.select(colName).distinct().show(topN, false)\n",
    "      }"
   ]
  },
  {
   "cell_type": "code",
   "execution_count": 10,
   "metadata": {
    "ExecuteTime": {
     "end_time": "2019-02-05T18:58:51.149922Z",
     "start_time": "2019-02-05T18:58:25.040Z"
    }
   },
   "outputs": [
    {
     "name": "stdout",
     "output_type": "stream",
     "text": [
      "Marking org.vegas-viz:vegas_2.11:0.3.9 for download\n",
      "Obtained 42 files\n"
     ]
    }
   ],
   "source": [
    "%AddDeps org.vegas-viz vegas_2.11 0.3.9 --transitive\n",
    "//libraryDependencies += \"org.vegas-viz\" %% \"vegas\" % {vegas-version}"
   ]
  },
  {
   "cell_type": "code",
   "execution_count": 11,
   "metadata": {
    "ExecuteTime": {
     "end_time": "2019-02-05T18:59:06.724806Z",
     "start_time": "2019-02-05T18:58:57.422Z"
    }
   },
   "outputs": [
    {
     "name": "stdout",
     "output_type": "stream",
     "text": [
      "Marking org.vegas-viz:vegas-spark_2.11:0.3.9 for download\n",
      "Obtained 2 files\n"
     ]
    }
   ],
   "source": [
    "//libraryDependencies += \"org.vegas-viz\" %% \"vegas-spark\" % \"{vegas-version}\"\n",
    "%AddDeps org.vegas-viz vegas-spark_2.11 0.3.9\n"
   ]
  },
  {
   "cell_type": "code",
   "execution_count": 4,
   "metadata": {
    "ExecuteTime": {
     "end_time": "2019-02-06T23:12:53.288524Z",
     "start_time": "2019-02-06T23:12:53.130Z"
    }
   },
   "outputs": [
    {
     "data": {
      "text/plain": [
       "Name: Compile Error\n",
       "Message: <console>:25: error: not found: value vegas\n",
       "       implicit val render = vegas.render.ShowHTML(kernel.display.content(\"text/html\", _))\n",
       "                             ^\n",
       "\n",
       "StackTrace: "
      ]
     },
     "execution_count": 4,
     "metadata": {},
     "output_type": "execute_result"
    }
   ],
   "source": [
    "implicit val render = vegas.render.ShowHTML(kernel.display.content(\"text/html\", _))"
   ]
  },
  {
   "cell_type": "code",
   "execution_count": 3,
   "metadata": {
    "ExecuteTime": {
     "end_time": "2019-02-06T23:12:47.152555Z",
     "start_time": "2019-02-06T23:12:47.024Z"
    }
   },
   "outputs": [
    {
     "data": {
      "text/plain": [
       "Name: Compile Error\n",
       "Message: <console>:25: error: not found: value vegas\n",
       "       import vegas._\n",
       "              ^\n",
       "<console>:26: error: not found: value vegas\n",
       "       import vegas.render.WindowRenderer._\n",
       "              ^\n",
       "<console>:27: error: not found: value vegas\n",
       "       import vegas.data.External._\n",
       "              ^\n",
       "<console>:28: error: not found: value vegas\n",
       "       import vegas.sparkExt._\n",
       "              ^\n",
       "\n",
       "StackTrace: "
      ]
     },
     "execution_count": 3,
     "metadata": {},
     "output_type": "execute_result"
    }
   ],
   "source": [
    "import vegas._\n",
    "import vegas.render.WindowRenderer._\n",
    "import vegas.data.External._\n",
    "import vegas.sparkExt._"
   ]
  },
  {
   "cell_type": "code",
   "execution_count": 14,
   "metadata": {
    "ExecuteTime": {
     "end_time": "2019-02-05T18:59:18.144773Z",
     "start_time": "2019-02-05T18:59:11.955Z"
    }
   },
   "outputs": [
    {
     "name": "stdout",
     "output_type": "stream",
     "text": [
      "+-------+----------+\n",
      "|country|population|\n",
      "+-------+----------+\n",
      "|    USA|       314|\n",
      "|     UK|        64|\n",
      "|     DK|        80|\n",
      "+-------+----------+\n",
      "\n"
     ]
    },
    {
     "data": {
      "text/plain": [
       "seq = List((USA,314), (UK,64), (DK,80))\n",
       "df1 = [country: string, population: int]\n"
      ]
     },
     "metadata": {},
     "output_type": "display_data"
    },
    {
     "data": {
      "text/plain": [
       "error: missing or invalid dependency detected while loading class file 'QualifiedTableName.class'.\n",
       "Could not access type AnyRef in package scala,\n",
       "because it (or its dependencies) are missing. Check your build definition for\n",
       "missing or conflicting dependencies. (Re-run with `-Ylog-classpath` to see the problematic classpath.)\n",
       "A full rebuild may help if 'QualifiedTableName.class' was compiled against an incompatible version of scala.\n",
       "error: missing or invalid dependency detected while loading class file 'FunctionIdentifier.class'.\n",
       "Could not access type AnyRef in package scala,\n",
       "because it (or its dependencies) are missing. Check your build definition for\n",
       "missing or conflicting dependencies. (Re-run with `-Ylog-classpath` to see the problematic classpath.)\n",
       "A full rebuild may help if 'FunctionIdentifier.class' was compiled against an incompatible version of scala.\n",
       "error: missing or invalid dependency detected while loading class file 'DefinedByConstructorParams.class'.\n",
       "Could not access type AnyRef in package scala,\n",
       "because it (or its dependencies) are missing. Check your build definition for\n",
       "missing or conflicting dependencies. (Re-run with `-Ylog-classpath` to see the problematic classpath.)\n",
       "A full rebuild may help if 'DefinedByConstructorParams.class' was compiled against an incompatible version of scala.\n",
       "error: missing or invalid dependency detected while loading class file 'StructField.class'.\n",
       "Could not access type AnyRef in package scala,\n",
       "because it (or its dependencies) are missing. Check your build definition for\n",
       "missing or conflicting dependencies. (Re-run with `-Ylog-classpath` to see the problematic classpath.)\n",
       "A full rebuild may help if 'StructField.class' was compiled against an incompatible version of scala.\n",
       "error: missing or invalid dependency detected while loading class file 'MetadataBuilder.class'.\n",
       "Could not access type AnyRef in package scala,\n",
       "because it (or its dependencies) are missing. Check your build definition for\n",
       "missing or conflicting dependencies. (Re-run with `-Ylog-classpath` to see the problematic classpath.)\n",
       "A full rebuild may help if 'MetadataBuilder.class' was compiled against an incompatible version of scala.\n"
      ]
     },
     "metadata": {},
     "output_type": "display_data"
    },
    {
     "data": {
      "text/plain": [
       "[country: string, population: int]"
      ]
     },
     "execution_count": 14,
     "metadata": {},
     "output_type": "execute_result"
    }
   ],
   "source": [
    "val seq = Seq((\"USA\", 314), (\"UK\", 64), (\"DK\",80))\n",
    "val df1 : DataFrame = seq.toDF(\"country\", \"population\")\n",
    "\n",
    "df1.show()\n",
    "\n",
    "//  Map(\"country\" -> \"USA\", \"population\" -> 314),\n",
    "//       Map(\"country\" -> \"UK\", \"population\" -> 64),\n",
    "//       Map(\"country\" -> \"DK\", \"population\" -> 80)"
   ]
  },
  {
   "cell_type": "code",
   "execution_count": 16,
   "metadata": {
    "ExecuteTime": {
     "end_time": "2019-02-05T18:59:25.741279Z",
     "start_time": "2019-02-05T18:59:22.541Z"
    },
    "scrolled": true
   },
   "outputs": [
    {
     "data": {
      "text/html": [
       "\n",
       "  <iframe id=\"frame-vegas-39af89b2-9b5c-42b6-a471-bf621570c77e\" sandbox=\"allow-scripts allow-same-origin\" style=\"border: none; width: 100%\" srcdoc=\"&lt;html&gt;\n",
       "  &lt;head&gt;\n",
       "    &lt;script src=&quot;https://cdn.jsdelivr.net/webjars/org.webjars.bower/d3/3.5.17/d3.min.js&quot; charset=&quot;utf-8&quot;&gt;&lt;/script&gt;\n",
       "&lt;script src=&quot;https://cdn.jsdelivr.net/webjars/org.webjars.bower/vega/2.6.3/vega.min.js&quot; charset=&quot;utf-8&quot;&gt;&lt;/script&gt;\n",
       "&lt;script src=&quot;https://cdn.jsdelivr.net/webjars/org.webjars.bower/vega-lite/1.2.0/vega-lite.min.js&quot; charset=&quot;utf-8&quot;&gt;&lt;/script&gt;\n",
       "&lt;script src=&quot;https://vega.github.io/vega-editor/vendor/vega-embed.js&quot; charset=&quot;utf-8&quot;&gt;&lt;/script&gt;\n",
       "  &lt;/head&gt;\n",
       "  &lt;body&gt;\n",
       " &lt;script&gt;\n",
       "   var embedSpec = {\n",
       "     mode: &quot;vega-lite&quot;,\n",
       "     spec: {\n",
       "  &quot;mark&quot; : &quot;bar&quot;,\n",
       "  &quot;encoding&quot; : {\n",
       "    &quot;x&quot; : {\n",
       "      &quot;field&quot; : &quot;country&quot;,\n",
       "      &quot;type&quot; : &quot;nominal&quot;\n",
       "    },\n",
       "    &quot;y&quot; : {\n",
       "      &quot;field&quot; : &quot;population&quot;,\n",
       "      &quot;type&quot; : &quot;quantitative&quot;\n",
       "    },\n",
       "    &quot;color&quot; : {\n",
       "      &quot;field&quot; : &quot;country&quot;,\n",
       "      &quot;type&quot; : &quot;nominal&quot;\n",
       "    }\n",
       "  },\n",
       "  &quot;description&quot; : &quot;UsingSpark&quot;,\n",
       "  &quot;data&quot; : {\n",
       "    &quot;values&quot; : [\n",
       "      {\n",
       "        &quot;country&quot; : &quot;USA&quot;,\n",
       "        &quot;population&quot; : 314\n",
       "      },\n",
       "      {\n",
       "        &quot;country&quot; : &quot;UK&quot;,\n",
       "        &quot;population&quot; : 64\n",
       "      },\n",
       "      {\n",
       "        &quot;country&quot; : &quot;DK&quot;,\n",
       "        &quot;population&quot; : 80\n",
       "      }\n",
       "    ]\n",
       "  }\n",
       "}\n",
       "   }\n",
       "   vg.embed(&quot;#vegas-39af89b2-9b5c-42b6-a471-bf621570c77e&quot;, embedSpec, function(error, result) {});\n",
       " &lt;/script&gt;\n",
       " &lt;div id='vegas-39af89b2-9b5c-42b6-a471-bf621570c77e'&gt;&lt;/div&gt;\n",
       "    &lt;/body&gt;\n",
       "&lt;/html&gt;\"></iframe>\n",
       "  <script>\n",
       "    if (typeof resizeIFrame != 'function') {\n",
       "      function resizeIFrame(el, k) {\n",
       "        $(el.contentWindow.document).ready(function() {\n",
       "          el.style.height = el.contentWindow.document.body.scrollHeight + 'px';\n",
       "        });\n",
       "        if (k <= 10) { setTimeout(function() { resizeIFrame(el, k+1) }, 1000 + (k * 250)) };\n",
       "      }\n",
       "    }\n",
       "    $().ready( function() { resizeIFrame($('#frame-vegas-39af89b2-9b5c-42b6-a471-bf621570c77e').get(0), 1); });\n",
       "  </script>\n",
       "    "
      ]
     },
     "metadata": {},
     "output_type": "display_data"
    },
    {
     "data": {
      "text/plain": [
       "usingSparkdf = ExtendedUnitSpecBuilder(ExtendedUnitSpec(None,None,Bar,Some(Encoding(None,None,Some(PositionChannelDef(None,None,None,Some(country),Some(Nominal),None,None,None,None,None)),Some(PositionChannelDef(None,None,None,Some(population),Some(Quantitative),None,None,None,None,None)),None,None,Some(ChannelDefWithLegend(None,None,None,Some(country),Some(Nominal),None,None,None,None,None)),None,None,None,None,None,None,None,None)),None,Some(UsingSpark),Some(Data(None,None,Some(List(Values(Map(country -> USA, population -> 314)), Values(Map(country -> UK, population -> 64)), Values(Map(country -> DK, population -> 80)))))),None,None))\n"
      ]
     },
     "metadata": {},
     "output_type": "display_data"
    },
    {
     "data": {
      "text/plain": [
       "ExtendedUnitSpecBuilder(ExtendedUnitSpec(None,None,Bar,Some(Encoding(None,None,Some(PositionChannelDef(None,None,None,Some(country),Some(Nominal),None,None,None,None,None)),Some(PositionChannelDef(None,None,None,Some(population),Some(Quantitative),None,None,None,None,None)),None,None,Some(ChannelDefWithLegend(None,None,None,Some(country),Some(Nominal),None,None,None,None,None)),None,None,None,None,None,None,None,None)),None,Some(UsingSpark),Some(Data(None,None,Some(List(Values(Map(country -> USA, population -> 314)), Values(Map(country -> UK, population -> 64)), Values(Map(country -> DK, population -> 80)))))),None,None))"
      ]
     },
     "execution_count": 16,
     "metadata": {},
     "output_type": "execute_result"
    }
   ],
   "source": [
    "//df.show()\n",
    "\n",
    "val usingSparkdf = Vegas(\"UsingSpark\")\n",
    "  .withDataFrame(df1)\n",
    "  .encodeX(\"country\", Nom)\n",
    "  .encodeY(\"population\", Quant)\n",
    ".encodeColor(\"country\", Nom)\n",
    "  .mark(Bar)\n",
    "\n",
    "usingSparkdf.show"
   ]
  },
  {
   "cell_type": "code",
   "execution_count": 17,
   "metadata": {
    "ExecuteTime": {
     "end_time": "2019-02-05T18:59:31.513164Z",
     "start_time": "2019-02-05T18:59:29.741Z"
    }
   },
   "outputs": [
    {
     "data": {
      "text/html": [
       "\n",
       "  <iframe id=\"frame-vegas-c52e9d95-6cd0-4a08-9805-7ef10c27960b\" sandbox=\"allow-scripts allow-same-origin\" style=\"border: none; width: 100%\" srcdoc=\"&lt;html&gt;\n",
       "  &lt;head&gt;\n",
       "    &lt;script src=&quot;https://cdn.jsdelivr.net/webjars/org.webjars.bower/d3/3.5.17/d3.min.js&quot; charset=&quot;utf-8&quot;&gt;&lt;/script&gt;\n",
       "&lt;script src=&quot;https://cdn.jsdelivr.net/webjars/org.webjars.bower/vega/2.6.3/vega.min.js&quot; charset=&quot;utf-8&quot;&gt;&lt;/script&gt;\n",
       "&lt;script src=&quot;https://cdn.jsdelivr.net/webjars/org.webjars.bower/vega-lite/1.2.0/vega-lite.min.js&quot; charset=&quot;utf-8&quot;&gt;&lt;/script&gt;\n",
       "&lt;script src=&quot;https://vega.github.io/vega-editor/vendor/vega-embed.js&quot; charset=&quot;utf-8&quot;&gt;&lt;/script&gt;\n",
       "  &lt;/head&gt;\n",
       "  &lt;body&gt;\n",
       " &lt;script&gt;\n",
       "   var embedSpec = {\n",
       "     mode: &quot;vega-lite&quot;,\n",
       "     spec: {\n",
       "  &quot;mark&quot; : &quot;bar&quot;,\n",
       "  &quot;encoding&quot; : {\n",
       "    &quot;x&quot; : {\n",
       "      &quot;axis&quot; : {\n",
       "        &quot;labelAngle&quot; : 345.0\n",
       "      },\n",
       "      &quot;scale&quot; : {\n",
       "        &quot;bandSize&quot; : 20.0\n",
       "      },\n",
       "      &quot;field&quot; : &quot;country&quot;,\n",
       "      &quot;type&quot; : &quot;nominal&quot;\n",
       "    },\n",
       "    &quot;y&quot; : {\n",
       "      &quot;field&quot; : &quot;population&quot;,\n",
       "      &quot;type&quot; : &quot;quantitative&quot;\n",
       "    },\n",
       "    &quot;color&quot; : {\n",
       "      &quot;field&quot; : &quot;country&quot;,\n",
       "      &quot;type&quot; : &quot;nominal&quot;\n",
       "    }\n",
       "  },\n",
       "  &quot;description&quot; : &quot;UsingSpark&quot;,\n",
       "  &quot;data&quot; : {\n",
       "    &quot;values&quot; : [\n",
       "      {\n",
       "        &quot;country&quot; : &quot;USA&quot;,\n",
       "        &quot;population&quot; : 314\n",
       "      },\n",
       "      {\n",
       "        &quot;country&quot; : &quot;UK&quot;,\n",
       "        &quot;population&quot; : 64\n",
       "      },\n",
       "      {\n",
       "        &quot;country&quot; : &quot;DK&quot;,\n",
       "        &quot;population&quot; : 80\n",
       "      }\n",
       "    ]\n",
       "  },\n",
       "  &quot;transform&quot; : {\n",
       "    &quot;filter&quot; : &quot;datum.population &gt; 5&quot;\n",
       "  }\n",
       "}\n",
       "   }\n",
       "   vg.embed(&quot;#vegas-c52e9d95-6cd0-4a08-9805-7ef10c27960b&quot;, embedSpec, function(error, result) {});\n",
       " &lt;/script&gt;\n",
       " &lt;div id='vegas-c52e9d95-6cd0-4a08-9805-7ef10c27960b'&gt;&lt;/div&gt;\n",
       "    &lt;/body&gt;\n",
       "&lt;/html&gt;\"></iframe>\n",
       "  <script>\n",
       "    if (typeof resizeIFrame != 'function') {\n",
       "      function resizeIFrame(el, k) {\n",
       "        $(el.contentWindow.document).ready(function() {\n",
       "          el.style.height = el.contentWindow.document.body.scrollHeight + 'px';\n",
       "        });\n",
       "        if (k <= 10) { setTimeout(function() { resizeIFrame(el, k+1) }, 1000 + (k * 250)) };\n",
       "      }\n",
       "    }\n",
       "    $().ready( function() { resizeIFrame($('#frame-vegas-c52e9d95-6cd0-4a08-9805-7ef10c27960b').get(0), 1); });\n",
       "  </script>\n",
       "    "
      ]
     },
     "metadata": {},
     "output_type": "display_data"
    },
    {
     "data": {
      "text/plain": [
       "usingSparkdf_1 = ExtendedUnitSpecBuilder(ExtendedUnitSpec(None,None,Bar,Some(Encoding(None,None,Some(PositionChannelDef(Some(AxisAxis(Axis(Some(345.0),None,None,None,None,None,None,None,None,None,None,None,None,None,None,None,None,None,None,None,None,None,None,None,None,None,None,None,None,None,None,None,None,None,None,None,None,None,None))),Some(Scale(None,None,None,None,Some(BandSizeDouble(20.0)),None,None,None,None,None,None)),None,Some(country),Some(Nominal),None,None,None,None,None)),Some(PositionChannelDef(None,None,None,Some(population),Some(Quantitative),None,None,None,None,None)),None,None,Some(ChannelDefWithLegend(None,None,None,Some(country),Some(Nominal),None,None,None,None,None)),None,None,None,None,None,None,None,None)),None,Some(UsingSpa...\n"
      ]
     },
     "metadata": {},
     "output_type": "display_data"
    },
    {
     "data": {
      "text/plain": [
       "ExtendedUnitSpecBuilder(ExtendedUnitSpec(None,None,Bar,Some(Encoding(None,None,Some(PositionChannelDef(Some(AxisAxis(Axis(Some(345.0),None,None,None,None,None,None,None,None,None,None,None,None,None,None,None,None,None,None,None,None,None,None,None,None,None,None,None,None,None,None,None,None,None,None,None,None,None,None))),Some(Scale(None,None,None,None,Some(BandSizeDouble(20.0)),None,None,None,None,None,None)),None,Some(country),Some(Nominal),None,None,None,None,None)),Some(PositionChannelDef(None,None,None,Some(population),Some(Quantitative),None,None,None,None,None)),None,None,Some(ChannelDefWithLegend(None,None,None,Some(country),Some(Nominal),None,None,None,None,None)),None,None,None,None,None,None,None,None)),None,Some(UsingSpa..."
      ]
     },
     "execution_count": 17,
     "metadata": {},
     "output_type": "execute_result"
    }
   ],
   "source": [
    "val usingSparkdf_1 = Vegas(\"UsingSpark\")\n",
    "  .withDataFrame(df1)\n",
    "  .encodeX(\"country\", Nom, scale=Scale(bandSize = 20.0), hideAxis=false, \n",
    "           axis=Axis(labelAngle=345))\n",
    "  .encodeY(\"population\", Quant)\n",
    ".encodeColor(\"country\", Nom)\n",
    ".filter(\"datum.population > 5\")\n",
    "  .mark(Bar)\n",
    "\n",
    "usingSparkdf_1.show"
   ]
  },
  {
   "cell_type": "code",
   "execution_count": 18,
   "metadata": {
    "ExecuteTime": {
     "end_time": "2019-02-05T18:59:45.259362Z",
     "start_time": "2019-02-05T18:59:43.782Z"
    }
   },
   "outputs": [
    {
     "data": {
      "text/html": [
       "\n",
       "  <iframe id=\"frame-vegas-cb74171c-71d5-4d0f-b1d2-40ec4ccf0e97\" sandbox=\"allow-scripts allow-same-origin\" style=\"border: none; width: 100%\" srcdoc=\"&lt;html&gt;\n",
       "  &lt;head&gt;\n",
       "    &lt;script src=&quot;https://cdn.jsdelivr.net/webjars/org.webjars.bower/d3/3.5.17/d3.min.js&quot; charset=&quot;utf-8&quot;&gt;&lt;/script&gt;\n",
       "&lt;script src=&quot;https://cdn.jsdelivr.net/webjars/org.webjars.bower/vega/2.6.3/vega.min.js&quot; charset=&quot;utf-8&quot;&gt;&lt;/script&gt;\n",
       "&lt;script src=&quot;https://cdn.jsdelivr.net/webjars/org.webjars.bower/vega-lite/1.2.0/vega-lite.min.js&quot; charset=&quot;utf-8&quot;&gt;&lt;/script&gt;\n",
       "&lt;script src=&quot;https://vega.github.io/vega-editor/vendor/vega-embed.js&quot; charset=&quot;utf-8&quot;&gt;&lt;/script&gt;\n",
       "  &lt;/head&gt;\n",
       "  &lt;body&gt;\n",
       " &lt;script&gt;\n",
       "   var embedSpec = {\n",
       "     mode: &quot;vega-lite&quot;,\n",
       "     spec: {\n",
       "  &quot;mark&quot; : &quot;bar&quot;,\n",
       "  &quot;encoding&quot; : {\n",
       "    &quot;x&quot; : {\n",
       "      &quot;axis&quot; : {\n",
       "        &quot;labelAngle&quot; : 345.0\n",
       "      },\n",
       "      &quot;scale&quot; : {\n",
       "        &quot;bandSize&quot; : 20.0\n",
       "      },\n",
       "      &quot;field&quot; : &quot;country&quot;,\n",
       "      &quot;type&quot; : &quot;nominal&quot;\n",
       "    },\n",
       "    &quot;y&quot; : {\n",
       "      &quot;field&quot; : &quot;population&quot;,\n",
       "      &quot;type&quot; : &quot;quantitative&quot;\n",
       "    },\n",
       "    &quot;color&quot; : {\n",
       "      &quot;field&quot; : &quot;country&quot;,\n",
       "      &quot;type&quot; : &quot;nominal&quot;\n",
       "    }\n",
       "  },\n",
       "  &quot;description&quot; : &quot;UsingSpark&quot;,\n",
       "  &quot;data&quot; : {\n",
       "    &quot;values&quot; : [\n",
       "      {\n",
       "        &quot;country&quot; : &quot;USA&quot;,\n",
       "        &quot;population&quot; : 314\n",
       "      },\n",
       "      {\n",
       "        &quot;country&quot; : &quot;UK&quot;,\n",
       "        &quot;population&quot; : 64\n",
       "      },\n",
       "      {\n",
       "        &quot;country&quot; : &quot;DK&quot;,\n",
       "        &quot;population&quot; : 80\n",
       "      }\n",
       "    ]\n",
       "  },\n",
       "  &quot;transform&quot; : {\n",
       "    &quot;filter&quot; : &quot;datum.population &gt; 5&quot;\n",
       "  }\n",
       "}\n",
       "   }\n",
       "   vg.embed(&quot;#vegas-cb74171c-71d5-4d0f-b1d2-40ec4ccf0e97&quot;, embedSpec, function(error, result) {});\n",
       " &lt;/script&gt;\n",
       " &lt;div id='vegas-cb74171c-71d5-4d0f-b1d2-40ec4ccf0e97'&gt;&lt;/div&gt;\n",
       "    &lt;/body&gt;\n",
       "&lt;/html&gt;\"></iframe>\n",
       "  <script>\n",
       "    if (typeof resizeIFrame != 'function') {\n",
       "      function resizeIFrame(el, k) {\n",
       "        $(el.contentWindow.document).ready(function() {\n",
       "          el.style.height = el.contentWindow.document.body.scrollHeight + 'px';\n",
       "        });\n",
       "        if (k <= 10) { setTimeout(function() { resizeIFrame(el, k+1) }, 1000 + (k * 250)) };\n",
       "      }\n",
       "    }\n",
       "    $().ready( function() { resizeIFrame($('#frame-vegas-cb74171c-71d5-4d0f-b1d2-40ec4ccf0e97').get(0), 1); });\n",
       "  </script>\n",
       "    "
      ]
     },
     "metadata": {},
     "output_type": "display_data"
    },
    {
     "data": {
      "text/plain": [
       "usingSparkdf_2 = ExtendedUnitSpecBuilder(ExtendedUnitSpec(None,None,Bar,Some(Encoding(None,None,Some(PositionChannelDef(Some(AxisAxis(Axis(Some(345.0),None,None,None,None,None,None,None,None,None,None,None,None,None,None,None,None,None,None,None,None,None,None,None,None,None,None,None,None,None,None,None,None,None,None,None,None,None,None))),Some(Scale(None,None,None,None,Some(BandSizeDouble(20.0)),None,None,None,None,None,None)),None,Some(country),Some(Nominal),None,None,None,None,None)),Some(PositionChannelDef(None,None,None,Some(population),Some(Quantitative),None,None,None,None,None)),None,None,Some(ChannelDefWithLegend(None,None,None,Some(country),Some(Nominal),None,None,None,None,None)),None,None,None,None,None,None,None,None)),None,Some(UsingSpa...\n"
      ]
     },
     "metadata": {},
     "output_type": "display_data"
    },
    {
     "data": {
      "text/plain": [
       "ExtendedUnitSpecBuilder(ExtendedUnitSpec(None,None,Bar,Some(Encoding(None,None,Some(PositionChannelDef(Some(AxisAxis(Axis(Some(345.0),None,None,None,None,None,None,None,None,None,None,None,None,None,None,None,None,None,None,None,None,None,None,None,None,None,None,None,None,None,None,None,None,None,None,None,None,None,None))),Some(Scale(None,None,None,None,Some(BandSizeDouble(20.0)),None,None,None,None,None,None)),None,Some(country),Some(Nominal),None,None,None,None,None)),Some(PositionChannelDef(None,None,None,Some(population),Some(Quantitative),None,None,None,None,None)),None,None,Some(ChannelDefWithLegend(None,None,None,Some(country),Some(Nominal),None,None,None,None,None)),None,None,None,None,None,None,None,None)),None,Some(UsingSpa..."
      ]
     },
     "execution_count": 18,
     "metadata": {},
     "output_type": "execute_result"
    }
   ],
   "source": [
    "val usingSparkdf_2 = Vegas(\"UsingSpark\")\n",
    "  .withDataFrame(df1)\n",
    "  .encodeX(\"country\", Nom, scale=Scale(bandSize = 20.0), hideAxis=false, \n",
    "           axis=Axis(labelAngle=345))\n",
    "//  .encodeY(\"population\", Quant, aggregate=AggOps.Sum)\n",
    " .encodeY(\"population\", Quant)\n",
    ".encodeColor(\"country\", Nom)\n",
    ".filter(\"datum.population > 5\")\n",
    "  .mark(Bar)\n",
    "\n",
    "usingSparkdf_2.show"
   ]
  },
  {
   "cell_type": "code",
   "execution_count": 19,
   "metadata": {
    "ExecuteTime": {
     "end_time": "2019-02-05T18:59:52.691800Z",
     "start_time": "2019-02-05T18:59:51.567Z"
    }
   },
   "outputs": [
    {
     "data": {
      "text/html": [
       "\n",
       "  <iframe id=\"frame-vegas-7c0d67ab-dec5-4cbe-96a3-c43680d3c2f9\" sandbox=\"allow-scripts allow-same-origin\" style=\"border: none; width: 100%\" srcdoc=\"&lt;html&gt;\n",
       "  &lt;head&gt;\n",
       "    &lt;script src=&quot;https://cdn.jsdelivr.net/webjars/org.webjars.bower/d3/3.5.17/d3.min.js&quot; charset=&quot;utf-8&quot;&gt;&lt;/script&gt;\n",
       "&lt;script src=&quot;https://cdn.jsdelivr.net/webjars/org.webjars.bower/vega/2.6.3/vega.min.js&quot; charset=&quot;utf-8&quot;&gt;&lt;/script&gt;\n",
       "&lt;script src=&quot;https://cdn.jsdelivr.net/webjars/org.webjars.bower/vega-lite/1.2.0/vega-lite.min.js&quot; charset=&quot;utf-8&quot;&gt;&lt;/script&gt;\n",
       "&lt;script src=&quot;https://vega.github.io/vega-editor/vendor/vega-embed.js&quot; charset=&quot;utf-8&quot;&gt;&lt;/script&gt;\n",
       "  &lt;/head&gt;\n",
       "  &lt;body&gt;\n",
       " &lt;script&gt;\n",
       "   var embedSpec = {\n",
       "     mode: &quot;vega-lite&quot;,\n",
       "     spec: {\n",
       "  &quot;mark&quot; : &quot;area&quot;,\n",
       "  &quot;encoding&quot; : {\n",
       "    &quot;x&quot; : {\n",
       "      &quot;field&quot; : &quot;country&quot;,\n",
       "      &quot;type&quot; : &quot;nominal&quot;\n",
       "    },\n",
       "    &quot;y&quot; : {\n",
       "      &quot;field&quot; : &quot;population&quot;,\n",
       "      &quot;type&quot; : &quot;quantitative&quot;\n",
       "    }\n",
       "  },\n",
       "  &quot;description&quot; : &quot;UsingSpark&quot;,\n",
       "  &quot;data&quot; : {\n",
       "    &quot;values&quot; : [\n",
       "      {\n",
       "        &quot;country&quot; : &quot;USA&quot;,\n",
       "        &quot;population&quot; : 314\n",
       "      },\n",
       "      {\n",
       "        &quot;country&quot; : &quot;UK&quot;,\n",
       "        &quot;population&quot; : 64\n",
       "      },\n",
       "      {\n",
       "        &quot;country&quot; : &quot;DK&quot;,\n",
       "        &quot;population&quot; : 80\n",
       "      }\n",
       "    ]\n",
       "  }\n",
       "}\n",
       "   }\n",
       "   vg.embed(&quot;#vegas-7c0d67ab-dec5-4cbe-96a3-c43680d3c2f9&quot;, embedSpec, function(error, result) {});\n",
       " &lt;/script&gt;\n",
       " &lt;div id='vegas-7c0d67ab-dec5-4cbe-96a3-c43680d3c2f9'&gt;&lt;/div&gt;\n",
       "    &lt;/body&gt;\n",
       "&lt;/html&gt;\"></iframe>\n",
       "  <script>\n",
       "    if (typeof resizeIFrame != 'function') {\n",
       "      function resizeIFrame(el, k) {\n",
       "        $(el.contentWindow.document).ready(function() {\n",
       "          el.style.height = el.contentWindow.document.body.scrollHeight + 'px';\n",
       "        });\n",
       "        if (k <= 10) { setTimeout(function() { resizeIFrame(el, k+1) }, 1000 + (k * 250)) };\n",
       "      }\n",
       "    }\n",
       "    $().ready( function() { resizeIFrame($('#frame-vegas-7c0d67ab-dec5-4cbe-96a3-c43680d3c2f9').get(0), 1); });\n",
       "  </script>\n",
       "    "
      ]
     },
     "metadata": {},
     "output_type": "display_data"
    },
    {
     "data": {
      "text/plain": [
       "usingSparkdf_Area = ExtendedUnitSpecBuilder(ExtendedUnitSpec(None,None,Area,Some(Encoding(None,None,Some(PositionChannelDef(None,None,None,Some(country),Some(Nominal),None,None,None,None,None)),Some(PositionChannelDef(None,None,None,Some(population),Some(Quantitative),None,None,None,None,None)),None,None,None,None,None,None,None,None,None,None,None)),None,Some(UsingSpark),Some(Data(None,None,Some(List(Values(Map(country -> USA, population -> 314)), Values(Map(country -> UK, population -> 64)), Values(Map(country -> DK, population -> 80)))))),None,None))\n"
      ]
     },
     "metadata": {},
     "output_type": "display_data"
    },
    {
     "data": {
      "text/plain": [
       "ExtendedUnitSpecBuilder(ExtendedUnitSpec(None,None,Area,Some(Encoding(None,None,Some(PositionChannelDef(None,None,None,Some(country),Some(Nominal),None,None,None,None,None)),Some(PositionChannelDef(None,None,None,Some(population),Some(Quantitative),None,None,None,None,None)),None,None,None,None,None,None,None,None,None,None,None)),None,Some(UsingSpark),Some(Data(None,None,Some(List(Values(Map(country -> USA, population -> 314)), Values(Map(country -> UK, population -> 64)), Values(Map(country -> DK, population -> 80)))))),None,None))"
      ]
     },
     "execution_count": 19,
     "metadata": {},
     "output_type": "execute_result"
    }
   ],
   "source": [
    "val usingSparkdf_Area = Vegas(\"UsingSpark\")\n",
    "  .withDataFrame(df1)\n",
    "  .encodeX(\"country\", Nom)\n",
    "  .encodeY(\"population\", Quant)\n",
    "  .mark(Area)\n",
    "\n",
    "usingSparkdf_Area.show"
   ]
  },
  {
   "cell_type": "code",
   "execution_count": 20,
   "metadata": {
    "ExecuteTime": {
     "end_time": "2019-02-05T18:59:57.223614Z",
     "start_time": "2019-02-05T18:59:55.514Z"
    }
   },
   "outputs": [
    {
     "data": {
      "text/html": [
       "\n",
       "  <iframe id=\"frame-vegas-37c51df7-d22a-4ae1-8c72-a31acadeb2e6\" sandbox=\"allow-scripts allow-same-origin\" style=\"border: none; width: 100%\" srcdoc=\"&lt;html&gt;\n",
       "  &lt;head&gt;\n",
       "    &lt;script src=&quot;https://cdn.jsdelivr.net/webjars/org.webjars.bower/d3/3.5.17/d3.min.js&quot; charset=&quot;utf-8&quot;&gt;&lt;/script&gt;\n",
       "&lt;script src=&quot;https://cdn.jsdelivr.net/webjars/org.webjars.bower/vega/2.6.3/vega.min.js&quot; charset=&quot;utf-8&quot;&gt;&lt;/script&gt;\n",
       "&lt;script src=&quot;https://cdn.jsdelivr.net/webjars/org.webjars.bower/vega-lite/1.2.0/vega-lite.min.js&quot; charset=&quot;utf-8&quot;&gt;&lt;/script&gt;\n",
       "&lt;script src=&quot;https://vega.github.io/vega-editor/vendor/vega-embed.js&quot; charset=&quot;utf-8&quot;&gt;&lt;/script&gt;\n",
       "  &lt;/head&gt;\n",
       "  &lt;body&gt;\n",
       " &lt;script&gt;\n",
       "   var embedSpec = {\n",
       "     mode: &quot;vega-lite&quot;,\n",
       "     spec: {\n",
       "  &quot;mark&quot; : &quot;point&quot;,\n",
       "  &quot;encoding&quot; : {\n",
       "    &quot;x&quot; : {\n",
       "      &quot;field&quot; : &quot;country&quot;,\n",
       "      &quot;type&quot; : &quot;nominal&quot;\n",
       "    },\n",
       "    &quot;y&quot; : {\n",
       "      &quot;field&quot; : &quot;population&quot;,\n",
       "      &quot;type&quot; : &quot;quantitative&quot;\n",
       "    }\n",
       "  },\n",
       "  &quot;description&quot; : &quot;UsingSpark&quot;,\n",
       "  &quot;data&quot; : {\n",
       "    &quot;values&quot; : [\n",
       "      {\n",
       "        &quot;country&quot; : &quot;USA&quot;,\n",
       "        &quot;population&quot; : 314\n",
       "      },\n",
       "      {\n",
       "        &quot;country&quot; : &quot;UK&quot;,\n",
       "        &quot;population&quot; : 64\n",
       "      },\n",
       "      {\n",
       "        &quot;country&quot; : &quot;DK&quot;,\n",
       "        &quot;population&quot; : 80\n",
       "      }\n",
       "    ]\n",
       "  }\n",
       "}\n",
       "   }\n",
       "   vg.embed(&quot;#vegas-37c51df7-d22a-4ae1-8c72-a31acadeb2e6&quot;, embedSpec, function(error, result) {});\n",
       " &lt;/script&gt;\n",
       " &lt;div id='vegas-37c51df7-d22a-4ae1-8c72-a31acadeb2e6'&gt;&lt;/div&gt;\n",
       "    &lt;/body&gt;\n",
       "&lt;/html&gt;\"></iframe>\n",
       "  <script>\n",
       "    if (typeof resizeIFrame != 'function') {\n",
       "      function resizeIFrame(el, k) {\n",
       "        $(el.contentWindow.document).ready(function() {\n",
       "          el.style.height = el.contentWindow.document.body.scrollHeight + 'px';\n",
       "        });\n",
       "        if (k <= 10) { setTimeout(function() { resizeIFrame(el, k+1) }, 1000 + (k * 250)) };\n",
       "      }\n",
       "    }\n",
       "    $().ready( function() { resizeIFrame($('#frame-vegas-37c51df7-d22a-4ae1-8c72-a31acadeb2e6').get(0), 1); });\n",
       "  </script>\n",
       "    "
      ]
     },
     "metadata": {},
     "output_type": "display_data"
    },
    {
     "data": {
      "text/plain": [
       "usingSparkdf_Point = ExtendedUnitSpecBuilder(ExtendedUnitSpec(None,None,Point,Some(Encoding(None,None,Some(PositionChannelDef(None,None,None,Some(country),Some(Nominal),None,None,None,None,None)),Some(PositionChannelDef(None,None,None,Some(population),Some(Quantitative),None,None,None,None,None)),None,None,None,None,None,None,None,None,None,None,None)),None,Some(UsingSpark),Some(Data(None,None,Some(List(Values(Map(country -> USA, population -> 314)), Values(Map(country -> UK, population -> 64)), Values(Map(country -> DK, population -> 80)))))),None,None))\n"
      ]
     },
     "metadata": {},
     "output_type": "display_data"
    },
    {
     "data": {
      "text/plain": [
       "ExtendedUnitSpecBuilder(ExtendedUnitSpec(None,None,Point,Some(Encoding(None,None,Some(PositionChannelDef(None,None,None,Some(country),Some(Nominal),None,None,None,None,None)),Some(PositionChannelDef(None,None,None,Some(population),Some(Quantitative),None,None,None,None,None)),None,None,None,None,None,None,None,None,None,None,None)),None,Some(UsingSpark),Some(Data(None,None,Some(List(Values(Map(country -> USA, population -> 314)), Values(Map(country -> UK, population -> 64)), Values(Map(country -> DK, population -> 80)))))),None,None))"
      ]
     },
     "execution_count": 20,
     "metadata": {},
     "output_type": "execute_result"
    }
   ],
   "source": [
    "val usingSparkdf_Point = Vegas(\"UsingSpark\")\n",
    "  .withDataFrame(df1)\n",
    "  .encodeX(\"country\", Nom)\n",
    "  .encodeY(\"population\", Quant)\n",
    "  .mark(Point)\n",
    "\n",
    "usingSparkdf_Point.show"
   ]
  },
  {
   "cell_type": "code",
   "execution_count": 21,
   "metadata": {
    "ExecuteTime": {
     "end_time": "2019-02-05T19:00:02.031467Z",
     "start_time": "2019-02-05T19:00:00.039Z"
    }
   },
   "outputs": [
    {
     "data": {
      "text/html": [
       "\n",
       "  <iframe id=\"frame-vegas-a2e9bbed-0ca7-4356-9140-5619c7f13943\" sandbox=\"allow-scripts allow-same-origin\" style=\"border: none; width: 100%\" srcdoc=\"&lt;html&gt;\n",
       "  &lt;head&gt;\n",
       "    &lt;script src=&quot;https://cdn.jsdelivr.net/webjars/org.webjars.bower/d3/3.5.17/d3.min.js&quot; charset=&quot;utf-8&quot;&gt;&lt;/script&gt;\n",
       "&lt;script src=&quot;https://cdn.jsdelivr.net/webjars/org.webjars.bower/vega/2.6.3/vega.min.js&quot; charset=&quot;utf-8&quot;&gt;&lt;/script&gt;\n",
       "&lt;script src=&quot;https://cdn.jsdelivr.net/webjars/org.webjars.bower/vega-lite/1.2.0/vega-lite.min.js&quot; charset=&quot;utf-8&quot;&gt;&lt;/script&gt;\n",
       "&lt;script src=&quot;https://vega.github.io/vega-editor/vendor/vega-embed.js&quot; charset=&quot;utf-8&quot;&gt;&lt;/script&gt;\n",
       "  &lt;/head&gt;\n",
       "  &lt;body&gt;\n",
       " &lt;script&gt;\n",
       "   var embedSpec = {\n",
       "     mode: &quot;vega-lite&quot;,\n",
       "     spec: {\n",
       "  &quot;mark&quot; : &quot;circle&quot;,\n",
       "  &quot;encoding&quot; : {\n",
       "    &quot;x&quot; : {\n",
       "      &quot;field&quot; : &quot;country&quot;,\n",
       "      &quot;type&quot; : &quot;nominal&quot;\n",
       "    },\n",
       "    &quot;y&quot; : {\n",
       "      &quot;field&quot; : &quot;population&quot;,\n",
       "      &quot;type&quot; : &quot;quantitative&quot;\n",
       "    }\n",
       "  },\n",
       "  &quot;description&quot; : &quot;UsingSpark&quot;,\n",
       "  &quot;data&quot; : {\n",
       "    &quot;values&quot; : [\n",
       "      {\n",
       "        &quot;country&quot; : &quot;USA&quot;,\n",
       "        &quot;population&quot; : 314\n",
       "      },\n",
       "      {\n",
       "        &quot;country&quot; : &quot;UK&quot;,\n",
       "        &quot;population&quot; : 64\n",
       "      },\n",
       "      {\n",
       "        &quot;country&quot; : &quot;DK&quot;,\n",
       "        &quot;population&quot; : 80\n",
       "      }\n",
       "    ]\n",
       "  }\n",
       "}\n",
       "   }\n",
       "   vg.embed(&quot;#vegas-a2e9bbed-0ca7-4356-9140-5619c7f13943&quot;, embedSpec, function(error, result) {});\n",
       " &lt;/script&gt;\n",
       " &lt;div id='vegas-a2e9bbed-0ca7-4356-9140-5619c7f13943'&gt;&lt;/div&gt;\n",
       "    &lt;/body&gt;\n",
       "&lt;/html&gt;\"></iframe>\n",
       "  <script>\n",
       "    if (typeof resizeIFrame != 'function') {\n",
       "      function resizeIFrame(el, k) {\n",
       "        $(el.contentWindow.document).ready(function() {\n",
       "          el.style.height = el.contentWindow.document.body.scrollHeight + 'px';\n",
       "        });\n",
       "        if (k <= 10) { setTimeout(function() { resizeIFrame(el, k+1) }, 1000 + (k * 250)) };\n",
       "      }\n",
       "    }\n",
       "    $().ready( function() { resizeIFrame($('#frame-vegas-a2e9bbed-0ca7-4356-9140-5619c7f13943').get(0), 1); });\n",
       "  </script>\n",
       "    "
      ]
     },
     "metadata": {},
     "output_type": "display_data"
    },
    {
     "data": {
      "text/plain": [
       "usingSparkdf_Circle = ExtendedUnitSpecBuilder(ExtendedUnitSpec(None,None,Circle,Some(Encoding(None,None,Some(PositionChannelDef(None,None,None,Some(country),Some(Nominal),None,None,None,None,None)),Some(PositionChannelDef(None,None,None,Some(population),Some(Quantitative),None,None,None,None,None)),None,None,None,None,None,None,None,None,None,None,None)),None,Some(UsingSpark),Some(Data(None,None,Some(List(Values(Map(country -> USA, population -> 314)), Values(Map(country -> UK, population -> 64)), Values(Map(country -> DK, population -> 80)))))),None,None))\n"
      ]
     },
     "metadata": {},
     "output_type": "display_data"
    },
    {
     "data": {
      "text/plain": [
       "ExtendedUnitSpecBuilder(ExtendedUnitSpec(None,None,Circle,Some(Encoding(None,None,Some(PositionChannelDef(None,None,None,Some(country),Some(Nominal),None,None,None,None,None)),Some(PositionChannelDef(None,None,None,Some(population),Some(Quantitative),None,None,None,None,None)),None,None,None,None,None,None,None,None,None,None,None)),None,Some(UsingSpark),Some(Data(None,None,Some(List(Values(Map(country -> USA, population -> 314)), Values(Map(country -> UK, population -> 64)), Values(Map(country -> DK, population -> 80)))))),None,None))"
      ]
     },
     "execution_count": 21,
     "metadata": {},
     "output_type": "execute_result"
    }
   ],
   "source": [
    "val usingSparkdf_Circle = Vegas(\"UsingSpark\")\n",
    "  .withDataFrame(df1)\n",
    "  .encodeX(\"country\", Nom)\n",
    "  .encodeY(\"population\", Quant)\n",
    "  .mark(Circle)\n",
    "\n",
    "usingSparkdf_Circle.show"
   ]
  },
  {
   "cell_type": "code",
   "execution_count": 22,
   "metadata": {
    "ExecuteTime": {
     "end_time": "2019-02-05T19:00:07.379554Z",
     "start_time": "2019-02-05T19:00:06.027Z"
    }
   },
   "outputs": [
    {
     "data": {
      "text/html": [
       "\n",
       "  <iframe id=\"frame-vegas-4cc9913d-6dc5-461e-966e-fe52684d5bcc\" sandbox=\"allow-scripts allow-same-origin\" style=\"border: none; width: 100%\" srcdoc=\"&lt;html&gt;\n",
       "  &lt;head&gt;\n",
       "    &lt;script src=&quot;https://cdn.jsdelivr.net/webjars/org.webjars.bower/d3/3.5.17/d3.min.js&quot; charset=&quot;utf-8&quot;&gt;&lt;/script&gt;\n",
       "&lt;script src=&quot;https://cdn.jsdelivr.net/webjars/org.webjars.bower/vega/2.6.3/vega.min.js&quot; charset=&quot;utf-8&quot;&gt;&lt;/script&gt;\n",
       "&lt;script src=&quot;https://cdn.jsdelivr.net/webjars/org.webjars.bower/vega-lite/1.2.0/vega-lite.min.js&quot; charset=&quot;utf-8&quot;&gt;&lt;/script&gt;\n",
       "&lt;script src=&quot;https://vega.github.io/vega-editor/vendor/vega-embed.js&quot; charset=&quot;utf-8&quot;&gt;&lt;/script&gt;\n",
       "  &lt;/head&gt;\n",
       "  &lt;body&gt;\n",
       " &lt;script&gt;\n",
       "   var embedSpec = {\n",
       "     mode: &quot;vega-lite&quot;,\n",
       "     spec: {\n",
       "  &quot;mark&quot; : &quot;tick&quot;,\n",
       "  &quot;encoding&quot; : {\n",
       "    &quot;x&quot; : {\n",
       "      &quot;field&quot; : &quot;country&quot;,\n",
       "      &quot;type&quot; : &quot;nominal&quot;\n",
       "    },\n",
       "    &quot;y&quot; : {\n",
       "      &quot;field&quot; : &quot;population&quot;,\n",
       "      &quot;type&quot; : &quot;quantitative&quot;\n",
       "    }\n",
       "  },\n",
       "  &quot;description&quot; : &quot;UsingSpark&quot;,\n",
       "  &quot;data&quot; : {\n",
       "    &quot;values&quot; : [\n",
       "      {\n",
       "        &quot;country&quot; : &quot;USA&quot;,\n",
       "        &quot;population&quot; : 314\n",
       "      },\n",
       "      {\n",
       "        &quot;country&quot; : &quot;UK&quot;,\n",
       "        &quot;population&quot; : 64\n",
       "      },\n",
       "      {\n",
       "        &quot;country&quot; : &quot;DK&quot;,\n",
       "        &quot;population&quot; : 80\n",
       "      }\n",
       "    ]\n",
       "  }\n",
       "}\n",
       "   }\n",
       "   vg.embed(&quot;#vegas-4cc9913d-6dc5-461e-966e-fe52684d5bcc&quot;, embedSpec, function(error, result) {});\n",
       " &lt;/script&gt;\n",
       " &lt;div id='vegas-4cc9913d-6dc5-461e-966e-fe52684d5bcc'&gt;&lt;/div&gt;\n",
       "    &lt;/body&gt;\n",
       "&lt;/html&gt;\"></iframe>\n",
       "  <script>\n",
       "    if (typeof resizeIFrame != 'function') {\n",
       "      function resizeIFrame(el, k) {\n",
       "        $(el.contentWindow.document).ready(function() {\n",
       "          el.style.height = el.contentWindow.document.body.scrollHeight + 'px';\n",
       "        });\n",
       "        if (k <= 10) { setTimeout(function() { resizeIFrame(el, k+1) }, 1000 + (k * 250)) };\n",
       "      }\n",
       "    }\n",
       "    $().ready( function() { resizeIFrame($('#frame-vegas-4cc9913d-6dc5-461e-966e-fe52684d5bcc').get(0), 1); });\n",
       "  </script>\n",
       "    "
      ]
     },
     "metadata": {},
     "output_type": "display_data"
    },
    {
     "data": {
      "text/plain": [
       "usingSparkdf_Tick = ExtendedUnitSpecBuilder(ExtendedUnitSpec(None,None,Tick,Some(Encoding(None,None,Some(PositionChannelDef(None,None,None,Some(country),Some(Nominal),None,None,None,None,None)),Some(PositionChannelDef(None,None,None,Some(population),Some(Quantitative),None,None,None,None,None)),None,None,None,None,None,None,None,None,None,None,None)),None,Some(UsingSpark),Some(Data(None,None,Some(List(Values(Map(country -> USA, population -> 314)), Values(Map(country -> UK, population -> 64)), Values(Map(country -> DK, population -> 80)))))),None,None))\n"
      ]
     },
     "metadata": {},
     "output_type": "display_data"
    },
    {
     "data": {
      "text/plain": [
       "ExtendedUnitSpecBuilder(ExtendedUnitSpec(None,None,Tick,Some(Encoding(None,None,Some(PositionChannelDef(None,None,None,Some(country),Some(Nominal),None,None,None,None,None)),Some(PositionChannelDef(None,None,None,Some(population),Some(Quantitative),None,None,None,None,None)),None,None,None,None,None,None,None,None,None,None,None)),None,Some(UsingSpark),Some(Data(None,None,Some(List(Values(Map(country -> USA, population -> 314)), Values(Map(country -> UK, population -> 64)), Values(Map(country -> DK, population -> 80)))))),None,None))"
      ]
     },
     "execution_count": 22,
     "metadata": {},
     "output_type": "execute_result"
    }
   ],
   "source": [
    "val usingSparkdf_Tick = Vegas(\"UsingSpark\")\n",
    "  .withDataFrame(df1)\n",
    "  .encodeX(\"country\", Nom)\n",
    "  .encodeY(\"population\", Quant)\n",
    "  .mark(Tick)\n",
    "\n",
    "usingSparkdf_Tick.show"
   ]
  },
  {
   "cell_type": "code",
   "execution_count": 23,
   "metadata": {
    "ExecuteTime": {
     "end_time": "2019-02-05T19:00:12.004183Z",
     "start_time": "2019-02-05T19:00:10.506Z"
    }
   },
   "outputs": [
    {
     "data": {
      "text/html": [
       "\n",
       "  <iframe id=\"frame-vegas-a62e92e9-cf00-4a3b-bc0f-6b6323da94fc\" sandbox=\"allow-scripts allow-same-origin\" style=\"border: none; width: 100%\" srcdoc=\"&lt;html&gt;\n",
       "  &lt;head&gt;\n",
       "    &lt;script src=&quot;https://cdn.jsdelivr.net/webjars/org.webjars.bower/d3/3.5.17/d3.min.js&quot; charset=&quot;utf-8&quot;&gt;&lt;/script&gt;\n",
       "&lt;script src=&quot;https://cdn.jsdelivr.net/webjars/org.webjars.bower/vega/2.6.3/vega.min.js&quot; charset=&quot;utf-8&quot;&gt;&lt;/script&gt;\n",
       "&lt;script src=&quot;https://cdn.jsdelivr.net/webjars/org.webjars.bower/vega-lite/1.2.0/vega-lite.min.js&quot; charset=&quot;utf-8&quot;&gt;&lt;/script&gt;\n",
       "&lt;script src=&quot;https://vega.github.io/vega-editor/vendor/vega-embed.js&quot; charset=&quot;utf-8&quot;&gt;&lt;/script&gt;\n",
       "  &lt;/head&gt;\n",
       "  &lt;body&gt;\n",
       " &lt;script&gt;\n",
       "   var embedSpec = {\n",
       "     mode: &quot;vega-lite&quot;,\n",
       "     spec: {\n",
       "  &quot;mark&quot; : &quot;text&quot;,\n",
       "  &quot;encoding&quot; : {\n",
       "    &quot;x&quot; : {\n",
       "      &quot;field&quot; : &quot;country&quot;,\n",
       "      &quot;type&quot; : &quot;nominal&quot;\n",
       "    },\n",
       "    &quot;y&quot; : {\n",
       "      &quot;field&quot; : &quot;population&quot;,\n",
       "      &quot;type&quot; : &quot;quantitative&quot;\n",
       "    }\n",
       "  },\n",
       "  &quot;description&quot; : &quot;UsingSpark&quot;,\n",
       "  &quot;data&quot; : {\n",
       "    &quot;values&quot; : [\n",
       "      {\n",
       "        &quot;country&quot; : &quot;USA&quot;,\n",
       "        &quot;population&quot; : 314\n",
       "      },\n",
       "      {\n",
       "        &quot;country&quot; : &quot;UK&quot;,\n",
       "        &quot;population&quot; : 64\n",
       "      },\n",
       "      {\n",
       "        &quot;country&quot; : &quot;DK&quot;,\n",
       "        &quot;population&quot; : 80\n",
       "      }\n",
       "    ]\n",
       "  }\n",
       "}\n",
       "   }\n",
       "   vg.embed(&quot;#vegas-a62e92e9-cf00-4a3b-bc0f-6b6323da94fc&quot;, embedSpec, function(error, result) {});\n",
       " &lt;/script&gt;\n",
       " &lt;div id='vegas-a62e92e9-cf00-4a3b-bc0f-6b6323da94fc'&gt;&lt;/div&gt;\n",
       "    &lt;/body&gt;\n",
       "&lt;/html&gt;\"></iframe>\n",
       "  <script>\n",
       "    if (typeof resizeIFrame != 'function') {\n",
       "      function resizeIFrame(el, k) {\n",
       "        $(el.contentWindow.document).ready(function() {\n",
       "          el.style.height = el.contentWindow.document.body.scrollHeight + 'px';\n",
       "        });\n",
       "        if (k <= 10) { setTimeout(function() { resizeIFrame(el, k+1) }, 1000 + (k * 250)) };\n",
       "      }\n",
       "    }\n",
       "    $().ready( function() { resizeIFrame($('#frame-vegas-a62e92e9-cf00-4a3b-bc0f-6b6323da94fc').get(0), 1); });\n",
       "  </script>\n",
       "    "
      ]
     },
     "metadata": {},
     "output_type": "display_data"
    },
    {
     "data": {
      "text/plain": [
       "usingSparkdf_Text = ExtendedUnitSpecBuilder(ExtendedUnitSpec(None,None,Text,Some(Encoding(None,None,Some(PositionChannelDef(None,None,None,Some(country),Some(Nominal),None,None,None,None,None)),Some(PositionChannelDef(None,None,None,Some(population),Some(Quantitative),None,None,None,None,None)),None,None,None,None,None,None,None,None,None,None,None)),None,Some(UsingSpark),Some(Data(None,None,Some(List(Values(Map(country -> USA, population -> 314)), Values(Map(country -> UK, population -> 64)), Values(Map(country -> DK, population -> 80)))))),None,None))\n"
      ]
     },
     "metadata": {},
     "output_type": "display_data"
    },
    {
     "data": {
      "text/plain": [
       "ExtendedUnitSpecBuilder(ExtendedUnitSpec(None,None,Text,Some(Encoding(None,None,Some(PositionChannelDef(None,None,None,Some(country),Some(Nominal),None,None,None,None,None)),Some(PositionChannelDef(None,None,None,Some(population),Some(Quantitative),None,None,None,None,None)),None,None,None,None,None,None,None,None,None,None,None)),None,Some(UsingSpark),Some(Data(None,None,Some(List(Values(Map(country -> USA, population -> 314)), Values(Map(country -> UK, population -> 64)), Values(Map(country -> DK, population -> 80)))))),None,None))"
      ]
     },
     "execution_count": 23,
     "metadata": {},
     "output_type": "execute_result"
    }
   ],
   "source": [
    "val usingSparkdf_Text = Vegas(\"UsingSpark\")\n",
    "  .withDataFrame(df1)\n",
    "  .encodeX(\"country\", Nom)\n",
    "  .encodeY(\"population\", Quant)\n",
    "  .mark(Text)\n",
    "\n",
    "usingSparkdf_Text.show"
   ]
  },
  {
   "cell_type": "code",
   "execution_count": 24,
   "metadata": {
    "ExecuteTime": {
     "end_time": "2019-02-05T19:00:18.374455Z",
     "start_time": "2019-02-05T19:00:16.959Z"
    }
   },
   "outputs": [
    {
     "data": {
      "text/html": [
       "\n",
       "  <iframe id=\"frame-vegas-f210b9c2-e3a0-416b-82de-9af1c6471738\" sandbox=\"allow-scripts allow-same-origin\" style=\"border: none; width: 100%\" srcdoc=\"&lt;html&gt;\n",
       "  &lt;head&gt;\n",
       "    &lt;script src=&quot;https://cdn.jsdelivr.net/webjars/org.webjars.bower/d3/3.5.17/d3.min.js&quot; charset=&quot;utf-8&quot;&gt;&lt;/script&gt;\n",
       "&lt;script src=&quot;https://cdn.jsdelivr.net/webjars/org.webjars.bower/vega/2.6.3/vega.min.js&quot; charset=&quot;utf-8&quot;&gt;&lt;/script&gt;\n",
       "&lt;script src=&quot;https://cdn.jsdelivr.net/webjars/org.webjars.bower/vega-lite/1.2.0/vega-lite.min.js&quot; charset=&quot;utf-8&quot;&gt;&lt;/script&gt;\n",
       "&lt;script src=&quot;https://vega.github.io/vega-editor/vendor/vega-embed.js&quot; charset=&quot;utf-8&quot;&gt;&lt;/script&gt;\n",
       "  &lt;/head&gt;\n",
       "  &lt;body&gt;\n",
       " &lt;script&gt;\n",
       "   var embedSpec = {\n",
       "     mode: &quot;vega-lite&quot;,\n",
       "     spec: {\n",
       "  &quot;mark&quot; : &quot;bar&quot;,\n",
       "  &quot;encoding&quot; : {\n",
       "    &quot;x&quot; : {\n",
       "      &quot;field&quot; : &quot;country&quot;,\n",
       "      &quot;type&quot; : &quot;nominal&quot;\n",
       "    },\n",
       "    &quot;y&quot; : {\n",
       "      &quot;field&quot; : &quot;population&quot;,\n",
       "      &quot;type&quot; : &quot;quantitative&quot;\n",
       "    }\n",
       "  },\n",
       "  &quot;description&quot; : &quot;Country Pop&quot;,\n",
       "  &quot;data&quot; : {\n",
       "    &quot;values&quot; : [\n",
       "      {\n",
       "        &quot;country&quot; : &quot;USA&quot;,\n",
       "        &quot;population&quot; : 314\n",
       "      },\n",
       "      {\n",
       "        &quot;country&quot; : &quot;UK&quot;,\n",
       "        &quot;population&quot; : 64\n",
       "      },\n",
       "      {\n",
       "        &quot;country&quot; : &quot;DK&quot;,\n",
       "        &quot;population&quot; : 80\n",
       "      }\n",
       "    ]\n",
       "  }\n",
       "}\n",
       "   }\n",
       "   vg.embed(&quot;#vegas-f210b9c2-e3a0-416b-82de-9af1c6471738&quot;, embedSpec, function(error, result) {});\n",
       " &lt;/script&gt;\n",
       " &lt;div id='vegas-f210b9c2-e3a0-416b-82de-9af1c6471738'&gt;&lt;/div&gt;\n",
       "    &lt;/body&gt;\n",
       "&lt;/html&gt;\"></iframe>\n",
       "  <script>\n",
       "    if (typeof resizeIFrame != 'function') {\n",
       "      function resizeIFrame(el, k) {\n",
       "        $(el.contentWindow.document).ready(function() {\n",
       "          el.style.height = el.contentWindow.document.body.scrollHeight + 'px';\n",
       "        });\n",
       "        if (k <= 10) { setTimeout(function() { resizeIFrame(el, k+1) }, 1000 + (k * 250)) };\n",
       "      }\n",
       "    }\n",
       "    $().ready( function() { resizeIFrame($('#frame-vegas-f210b9c2-e3a0-416b-82de-9af1c6471738').get(0), 1); });\n",
       "  </script>\n",
       "    "
      ]
     },
     "metadata": {},
     "output_type": "display_data"
    },
    {
     "data": {
      "text/plain": [
       "plot = ExtendedUnitSpecBuilder(ExtendedUnitSpec(None,None,Bar,Some(Encoding(None,None,Some(PositionChannelDef(None,None,None,Some(country),Some(Nominal),None,None,None,None,None)),Some(PositionChannelDef(None,None,None,Some(population),Some(Quantitative),None,None,None,None,None)),None,None,None,None,None,None,None,None,None,None,None)),None,Some(Country Pop),Some(Data(None,None,Some(List(Values(Map(country -> USA, population -> 314)), Values(Map(country -> UK, population -> 64)), Values(Map(country -> DK, population -> 80)))))),None,None))\n"
      ]
     },
     "metadata": {},
     "output_type": "display_data"
    },
    {
     "data": {
      "text/plain": [
       "ExtendedUnitSpecBuilder(ExtendedUnitSpec(None,None,Bar,Some(Encoding(None,None,Some(PositionChannelDef(None,None,None,Some(country),Some(Nominal),None,None,None,None,None)),Some(PositionChannelDef(None,None,None,Some(population),Some(Quantitative),None,None,None,None,None)),None,None,None,None,None,None,None,None,None,None,None)),None,Some(Country Pop),Some(Data(None,None,Some(List(Values(Map(country -> USA, population -> 314)), Values(Map(country -> UK, population -> 64)), Values(Map(country -> DK, population -> 80)))))),None,None))"
      ]
     },
     "execution_count": 24,
     "metadata": {},
     "output_type": "execute_result"
    }
   ],
   "source": [
    "import vegas._\n",
    "import vegas.sparkExt._\n",
    "\n",
    "val plot = Vegas(\"Country Pop\").\n",
    "  withData(\n",
    "    Seq(\n",
    "      Map(\"country\" -> \"USA\", \"population\" -> 314),\n",
    "      Map(\"country\" -> \"UK\", \"population\" -> 64),\n",
    "      Map(\"country\" -> \"DK\", \"population\" -> 80)\n",
    "    )\n",
    "  ).\n",
    "  encodeX(\"country\", Nom).\n",
    "  encodeY(\"population\", Quant).\n",
    "  mark(Bar)\n",
    "\n",
    "plot.show"
   ]
  },
  {
   "cell_type": "code",
   "execution_count": 25,
   "metadata": {
    "ExecuteTime": {
     "end_time": "2019-02-05T19:14:29.884664Z",
     "start_time": "2019-02-05T19:14:29.166Z"
    }
   },
   "outputs": [
    {
     "data": {
      "text/html": [
       "\n",
       "  <iframe id=\"frame-vegas-5e7eb461-c5d8-44c6-9414-07fa0589803b\" sandbox=\"allow-scripts allow-same-origin\" style=\"border: none; width: 100%\" srcdoc=\"&lt;html&gt;\n",
       "  &lt;head&gt;\n",
       "    &lt;script src=&quot;https://cdn.jsdelivr.net/webjars/org.webjars.bower/d3/3.5.17/d3.min.js&quot; charset=&quot;utf-8&quot;&gt;&lt;/script&gt;\n",
       "&lt;script src=&quot;https://cdn.jsdelivr.net/webjars/org.webjars.bower/vega/2.6.3/vega.min.js&quot; charset=&quot;utf-8&quot;&gt;&lt;/script&gt;\n",
       "&lt;script src=&quot;https://cdn.jsdelivr.net/webjars/org.webjars.bower/vega-lite/1.2.0/vega-lite.min.js&quot; charset=&quot;utf-8&quot;&gt;&lt;/script&gt;\n",
       "&lt;script src=&quot;https://vega.github.io/vega-editor/vendor/vega-embed.js&quot; charset=&quot;utf-8&quot;&gt;&lt;/script&gt;\n",
       "  &lt;/head&gt;\n",
       "  &lt;body&gt;\n",
       " &lt;script&gt;\n",
       "   var embedSpec = {\n",
       "     mode: &quot;vega-lite&quot;,\n",
       "     spec: {\n",
       "  &quot;mark&quot; : &quot;bar&quot;,\n",
       "  &quot;encoding&quot; : {\n",
       "    &quot;x&quot; : {\n",
       "      &quot;scale&quot; : {\n",
       "        &quot;bandSize&quot; : 17.0\n",
       "      },\n",
       "      &quot;field&quot; : &quot;age&quot;,\n",
       "      &quot;type&quot; : &quot;ordinal&quot;\n",
       "    },\n",
       "    &quot;y&quot; : {\n",
       "      &quot;axis&quot; : {\n",
       "        &quot;title&quot; : &quot;population&quot;\n",
       "      },\n",
       "      &quot;field&quot; : &quot;people&quot;,\n",
       "      &quot;type&quot; : &quot;quantitative&quot;,\n",
       "      &quot;aggregate&quot; : &quot;sum&quot;\n",
       "    },\n",
       "    &quot;color&quot; : {\n",
       "      &quot;scale&quot; : {\n",
       "        &quot;range&quot; : [\n",
       "          &quot;#EA98D2&quot;,\n",
       "          &quot;#659CCA&quot;\n",
       "        ]\n",
       "      },\n",
       "      &quot;field&quot; : &quot;gender&quot;,\n",
       "      &quot;type&quot; : &quot;nominal&quot;\n",
       "    }\n",
       "  },\n",
       "  &quot;data&quot; : {\n",
       "    &quot;url&quot; : &quot;https://vega.github.io/vega-editor/app/data/population.json&quot;\n",
       "  },\n",
       "  &quot;transform&quot; : {\n",
       "    &quot;filter&quot; : &quot;datum.year == 2000&quot;,\n",
       "    &quot;calculate&quot; : [\n",
       "      {\n",
       "        &quot;field&quot; : &quot;gender&quot;,\n",
       "        &quot;expr&quot; : &quot;datum.sex == 2 ? \\&quot;Female\\&quot; : \\&quot;Male\\&quot;&quot;\n",
       "      }\n",
       "    ]\n",
       "  },\n",
       "  &quot;config&quot; : {\n",
       "    &quot;mark&quot; : {\n",
       "      &quot;stacked&quot; : &quot;normalize&quot;\n",
       "    }\n",
       "  }\n",
       "}\n",
       "   }\n",
       "   vg.embed(&quot;#vegas-5e7eb461-c5d8-44c6-9414-07fa0589803b&quot;, embedSpec, function(error, result) {});\n",
       " &lt;/script&gt;\n",
       " &lt;div id='vegas-5e7eb461-c5d8-44c6-9414-07fa0589803b'&gt;&lt;/div&gt;\n",
       "    &lt;/body&gt;\n",
       "&lt;/html&gt;\"></iframe>\n",
       "  <script>\n",
       "    if (typeof resizeIFrame != 'function') {\n",
       "      function resizeIFrame(el, k) {\n",
       "        $(el.contentWindow.document).ready(function() {\n",
       "          el.style.height = el.contentWindow.document.body.scrollHeight + 'px';\n",
       "        });\n",
       "        if (k <= 10) { setTimeout(function() { resizeIFrame(el, k+1) }, 1000 + (k * 250)) };\n",
       "      }\n",
       "    }\n",
       "    $().ready( function() { resizeIFrame($('#frame-vegas-5e7eb461-c5d8-44c6-9414-07fa0589803b').get(0), 1); });\n",
       "  </script>\n",
       "    "
      ]
     },
     "metadata": {},
     "output_type": "display_data"
    }
   ],
   "source": [
    "Vegas().\n",
    "  withURL(Population).\n",
    "  filter(\"datum.year == 2000\").\n",
    "  addTransform(\"gender\", \"datum.sex == 2 ? \\\"Female\\\" : \\\"Male\\\"\").\n",
    "  mark(Bar).\n",
    "  encodeY(\"people\", Quant, AggOps.Sum, axis=Axis(title=\"population\")).\n",
    "  encodeX(\"age\", Ord, scale=Scale(bandSize= 17)).\n",
    "  encodeColor(\"gender\", Nominal, scale=Scale(rangeNominals=List(\"#EA98D2\", \"#659CCA\"))).\n",
    "  configMark(stacked=StackOffset.Normalize).\n",
    "  show"
   ]
  },
  {
   "cell_type": "code",
   "execution_count": 52,
   "metadata": {
    "ExecuteTime": {
     "end_time": "2019-02-05T19:59:26.444944Z",
     "start_time": "2019-02-05T19:59:24.621Z"
    }
   },
   "outputs": [
    {
     "name": "stdout",
     "output_type": "stream",
     "text": [
      "+-------+----+---+---+-----+\n",
      "|country|year|age|sex|count|\n",
      "+-------+----+---+---+-----+\n",
      "|    USA|1850| 10|  2|  100|\n",
      "|     UK|1850| 24|  1|  150|\n",
      "|     DK|1860| 56|  1|  200|\n",
      "|     DK|1860| 13|  2|  170|\n",
      "+-------+----+---+---+-----+\n",
      "\n"
     ]
    },
    {
     "data": {
      "text/plain": [
       "seq_n = List((USA,1850,10,2,100), (UK,1850,24,1,150), (DK,1860,56,1,200), (DK,1860,13,2,170))\n",
       "df_n = [country: string, year: int ... 3 more fields]\n"
      ]
     },
     "metadata": {},
     "output_type": "display_data"
    },
    {
     "data": {
      "text/plain": [
       "[country: string, year: int ... 3 more fields]"
      ]
     },
     "execution_count": 52,
     "metadata": {},
     "output_type": "execute_result"
    }
   ],
   "source": [
    "val seq_n = Seq((\"USA\", 1850, 10, 2, 100), (\"UK\", 1850, 24, 1, 150), (\"DK\",1860, 56, 1, 200), (\"DK\",1860, 13, 2, 170))\n",
    "val df_n : DataFrame = seq_n.toDF(\"country\", \"year\", \"age\", \"sex\", \"count\")\n",
    "\n",
    "df_n.show()\n",
    "\n",
    "// {\"year\":1850,\"age\":0,\"sex\":1,\"people\":1483789},\n",
    "// {\"year\":1850,\"age\":0,\"sex\":2,\"people\":1450376},\n",
    "// {\"year\":1850,\"age\":5,\"sex\":1,\"people\":1411067},\n",
    "// {\"year\":1850,\"age\":5,\"sex\":2,\"people\":1359668},\n",
    "// {\"year\":1850,\"age\":10,\"sex\":1,\"people\":1260099},\n",
    "// {\"year\":1850,\"age\":10,\"sex\":2,\"people\":1216114},\n",
    "// {\"year\":1850,\"age\":15,\"sex\":1,\"people\":1077133},\n",
    "// {\"year\":1850,\"age\":15,\"sex\":2,\"people\":1110619},\n"
   ]
  },
  {
   "cell_type": "code",
   "execution_count": 53,
   "metadata": {
    "ExecuteTime": {
     "end_time": "2019-02-05T19:59:29.777472Z",
     "start_time": "2019-02-05T19:59:29.383Z"
    }
   },
   "outputs": [
    {
     "data": {
      "text/html": [
       "\n",
       "  <iframe id=\"frame-vegas-7eb8a4d3-c170-4c36-8393-f34bb6565b30\" sandbox=\"allow-scripts allow-same-origin\" style=\"border: none; width: 100%\" srcdoc=\"&lt;html&gt;\n",
       "  &lt;head&gt;\n",
       "    &lt;script src=&quot;https://cdn.jsdelivr.net/webjars/org.webjars.bower/d3/3.5.17/d3.min.js&quot; charset=&quot;utf-8&quot;&gt;&lt;/script&gt;\n",
       "&lt;script src=&quot;https://cdn.jsdelivr.net/webjars/org.webjars.bower/vega/2.6.3/vega.min.js&quot; charset=&quot;utf-8&quot;&gt;&lt;/script&gt;\n",
       "&lt;script src=&quot;https://cdn.jsdelivr.net/webjars/org.webjars.bower/vega-lite/1.2.0/vega-lite.min.js&quot; charset=&quot;utf-8&quot;&gt;&lt;/script&gt;\n",
       "&lt;script src=&quot;https://vega.github.io/vega-editor/vendor/vega-embed.js&quot; charset=&quot;utf-8&quot;&gt;&lt;/script&gt;\n",
       "  &lt;/head&gt;\n",
       "  &lt;body&gt;\n",
       " &lt;script&gt;\n",
       "   var embedSpec = {\n",
       "     mode: &quot;vega-lite&quot;,\n",
       "     spec: {\n",
       "  &quot;mark&quot; : &quot;point&quot;,\n",
       "  &quot;encoding&quot; : {\n",
       "    &quot;x&quot; : {\n",
       "      &quot;field&quot; : &quot;gender&quot;,\n",
       "      &quot;type&quot; : &quot;nominal&quot;\n",
       "    },\n",
       "    &quot;y&quot; : {\n",
       "      &quot;field&quot; : &quot;age&quot;,\n",
       "      &quot;type&quot; : &quot;ordinal&quot;\n",
       "    }\n",
       "  },\n",
       "  &quot;description&quot; : &quot;Population&quot;,\n",
       "  &quot;data&quot; : {\n",
       "    &quot;values&quot; : [\n",
       "      {\n",
       "        &quot;count&quot; : 100,\n",
       "        &quot;year&quot; : 1850,\n",
       "        &quot;country&quot; : &quot;USA&quot;,\n",
       "        &quot;age&quot; : 10,\n",
       "        &quot;sex&quot; : 2\n",
       "      },\n",
       "      {\n",
       "        &quot;count&quot; : 150,\n",
       "        &quot;year&quot; : 1850,\n",
       "        &quot;country&quot; : &quot;UK&quot;,\n",
       "        &quot;age&quot; : 24,\n",
       "        &quot;sex&quot; : 1\n",
       "      },\n",
       "      {\n",
       "        &quot;count&quot; : 200,\n",
       "        &quot;year&quot; : 1860,\n",
       "        &quot;country&quot; : &quot;DK&quot;,\n",
       "        &quot;age&quot; : 56,\n",
       "        &quot;sex&quot; : 1\n",
       "      },\n",
       "      {\n",
       "        &quot;count&quot; : 170,\n",
       "        &quot;year&quot; : 1860,\n",
       "        &quot;country&quot; : &quot;DK&quot;,\n",
       "        &quot;age&quot; : 13,\n",
       "        &quot;sex&quot; : 2\n",
       "      }\n",
       "    ]\n",
       "  },\n",
       "  &quot;transform&quot; : {\n",
       "    &quot;calculate&quot; : [\n",
       "      {\n",
       "        &quot;field&quot; : &quot;gender&quot;,\n",
       "        &quot;expr&quot; : &quot;datum.sex == 1 ? \\&quot;Female\\&quot; :\\&quot;Male\\&quot; &quot;\n",
       "      }\n",
       "    ]\n",
       "  }\n",
       "}\n",
       "   }\n",
       "   vg.embed(&quot;#vegas-7eb8a4d3-c170-4c36-8393-f34bb6565b30&quot;, embedSpec, function(error, result) {});\n",
       " &lt;/script&gt;\n",
       " &lt;div id='vegas-7eb8a4d3-c170-4c36-8393-f34bb6565b30'&gt;&lt;/div&gt;\n",
       "    &lt;/body&gt;\n",
       "&lt;/html&gt;\"></iframe>\n",
       "  <script>\n",
       "    if (typeof resizeIFrame != 'function') {\n",
       "      function resizeIFrame(el, k) {\n",
       "        $(el.contentWindow.document).ready(function() {\n",
       "          el.style.height = el.contentWindow.document.body.scrollHeight + 'px';\n",
       "        });\n",
       "        if (k <= 10) { setTimeout(function() { resizeIFrame(el, k+1) }, 1000 + (k * 250)) };\n",
       "      }\n",
       "    }\n",
       "    $().ready( function() { resizeIFrame($('#frame-vegas-7eb8a4d3-c170-4c36-8393-f34bb6565b30').get(0), 1); });\n",
       "  </script>\n",
       "    "
      ]
     },
     "metadata": {},
     "output_type": "display_data"
    }
   ],
   "source": [
    "Vegas(\"Population\")\n",
    ".withDataFrame(df_n)\n",
    ".addTransform(\"gender\", \"datum.sex == 1 ? \\\"Female\\\" :\\\"Male\\\" \")\n",
    ".mark(Point)\n",
    ".encodeX(\"gender\", Nominal)\n",
    ".encodeY(\"age\", Ord)\n",
    ".show"
   ]
  },
  {
   "cell_type": "code",
   "execution_count": 54,
   "metadata": {
    "ExecuteTime": {
     "end_time": "2019-02-05T19:59:35.826601Z",
     "start_time": "2019-02-05T19:59:34.669Z"
    }
   },
   "outputs": [
    {
     "data": {
      "text/html": [
       "\n",
       "  <iframe id=\"frame-vegas-47e22998-b4e4-41dc-8498-4eb2e888dedc\" sandbox=\"allow-scripts allow-same-origin\" style=\"border: none; width: 100%\" srcdoc=\"&lt;html&gt;\n",
       "  &lt;head&gt;\n",
       "    &lt;script src=&quot;https://cdn.jsdelivr.net/webjars/org.webjars.bower/d3/3.5.17/d3.min.js&quot; charset=&quot;utf-8&quot;&gt;&lt;/script&gt;\n",
       "&lt;script src=&quot;https://cdn.jsdelivr.net/webjars/org.webjars.bower/vega/2.6.3/vega.min.js&quot; charset=&quot;utf-8&quot;&gt;&lt;/script&gt;\n",
       "&lt;script src=&quot;https://cdn.jsdelivr.net/webjars/org.webjars.bower/vega-lite/1.2.0/vega-lite.min.js&quot; charset=&quot;utf-8&quot;&gt;&lt;/script&gt;\n",
       "&lt;script src=&quot;https://vega.github.io/vega-editor/vendor/vega-embed.js&quot; charset=&quot;utf-8&quot;&gt;&lt;/script&gt;\n",
       "  &lt;/head&gt;\n",
       "  &lt;body&gt;\n",
       " &lt;script&gt;\n",
       "   var embedSpec = {\n",
       "     mode: &quot;vega-lite&quot;,\n",
       "     spec: {\n",
       "  &quot;mark&quot; : &quot;bar&quot;,\n",
       "  &quot;encoding&quot; : {\n",
       "    &quot;x&quot; : {\n",
       "      &quot;field&quot; : &quot;gender&quot;,\n",
       "      &quot;type&quot; : &quot;nominal&quot;\n",
       "    },\n",
       "    &quot;y&quot; : {\n",
       "      &quot;axis&quot; : {\n",
       "        &quot;title&quot; : &quot;population&quot;\n",
       "      },\n",
       "      &quot;field&quot; : &quot;count&quot;,\n",
       "      &quot;type&quot; : &quot;quantitative&quot;,\n",
       "      &quot;aggregate&quot; : &quot;sum&quot;\n",
       "    },\n",
       "    &quot;color&quot; : {\n",
       "      &quot;field&quot; : &quot;gender&quot;,\n",
       "      &quot;type&quot; : &quot;nominal&quot;\n",
       "    }\n",
       "  },\n",
       "  &quot;description&quot; : &quot;Population&quot;,\n",
       "  &quot;data&quot; : {\n",
       "    &quot;values&quot; : [\n",
       "      {\n",
       "        &quot;count&quot; : 100,\n",
       "        &quot;year&quot; : 1850,\n",
       "        &quot;country&quot; : &quot;USA&quot;,\n",
       "        &quot;age&quot; : 10,\n",
       "        &quot;sex&quot; : 2\n",
       "      },\n",
       "      {\n",
       "        &quot;count&quot; : 150,\n",
       "        &quot;year&quot; : 1850,\n",
       "        &quot;country&quot; : &quot;UK&quot;,\n",
       "        &quot;age&quot; : 24,\n",
       "        &quot;sex&quot; : 1\n",
       "      },\n",
       "      {\n",
       "        &quot;count&quot; : 200,\n",
       "        &quot;year&quot; : 1860,\n",
       "        &quot;country&quot; : &quot;DK&quot;,\n",
       "        &quot;age&quot; : 56,\n",
       "        &quot;sex&quot; : 1\n",
       "      }\n",
       "    ]\n",
       "  },\n",
       "  &quot;transform&quot; : {\n",
       "    &quot;calculate&quot; : [\n",
       "      {\n",
       "        &quot;field&quot; : &quot;gender&quot;,\n",
       "        &quot;expr&quot; : &quot;datum.sex == 2 ? \\&quot;Female\\&quot; :\\&quot;Male\\&quot; &quot;\n",
       "      }\n",
       "    ]\n",
       "  }\n",
       "}\n",
       "   }\n",
       "   vg.embed(&quot;#vegas-47e22998-b4e4-41dc-8498-4eb2e888dedc&quot;, embedSpec, function(error, result) {});\n",
       " &lt;/script&gt;\n",
       " &lt;div id='vegas-47e22998-b4e4-41dc-8498-4eb2e888dedc'&gt;&lt;/div&gt;\n",
       "    &lt;/body&gt;\n",
       "&lt;/html&gt;\"></iframe>\n",
       "  <script>\n",
       "    if (typeof resizeIFrame != 'function') {\n",
       "      function resizeIFrame(el, k) {\n",
       "        $(el.contentWindow.document).ready(function() {\n",
       "          el.style.height = el.contentWindow.document.body.scrollHeight + 'px';\n",
       "        });\n",
       "        if (k <= 10) { setTimeout(function() { resizeIFrame(el, k+1) }, 1000 + (k * 250)) };\n",
       "      }\n",
       "    }\n",
       "    $().ready( function() { resizeIFrame($('#frame-vegas-47e22998-b4e4-41dc-8498-4eb2e888dedc').get(0), 1); });\n",
       "  </script>\n",
       "    "
      ]
     },
     "metadata": {},
     "output_type": "display_data"
    },
    {
     "data": {
      "text/plain": [
       "countPerGender = ExtendedUnitSpecBuilder(ExtendedUnitSpec(None,None,Bar,Some(Encoding(None,None,Some(PositionChannelDef(None,None,None,Some(gender),Some(Nominal),None,None,None,None,None)),Some(PositionChannelDef(Some(AxisAxis(Axis(None,None,None,Some(population),None,None,None,None,None,None,None,None,None,None,None,None,None,None,None,None,None,None,None,None,None,None,None,None,None,None,None,None,None,None,None,None,None,None,None))),None,None,Some(count),Some(Quantitative),None,None,None,Some(Sum),None)),None,None,Some(ChannelDefWithLegend(None,None,None,Some(gender),Some(Nominal),None,None,None,None,None)),None,None,None,None,None,None,None,None)),None,Some(Population),Some(Data(None,None,Some(List(Values(Map(count -> 100, year -> 1850, country -...\n"
      ]
     },
     "metadata": {},
     "output_type": "display_data"
    },
    {
     "data": {
      "text/plain": [
       "ExtendedUnitSpecBuilder(ExtendedUnitSpec(None,None,Bar,Some(Encoding(None,None,Some(PositionChannelDef(None,None,None,Some(gender),Some(Nominal),None,None,None,None,None)),Some(PositionChannelDef(Some(AxisAxis(Axis(None,None,None,Some(population),None,None,None,None,None,None,None,None,None,None,None,None,None,None,None,None,None,None,None,None,None,None,None,None,None,None,None,None,None,None,None,None,None,None,None))),None,None,Some(count),Some(Quantitative),None,None,None,Some(Sum),None)),None,None,Some(ChannelDefWithLegend(None,None,None,Some(gender),Some(Nominal),None,None,None,None,None)),None,None,None,None,None,None,None,None)),None,Some(Population),Some(Data(None,None,Some(List(Values(Map(count -> 100, year -> 1850, country -..."
      ]
     },
     "execution_count": 54,
     "metadata": {},
     "output_type": "execute_result"
    }
   ],
   "source": [
    "//Quant, AggOps.Sum, axis=Axis(title=\"population\")\n",
    "val countPerGender = Vegas(\"Population\")\n",
    ".withDataFrame(df_n)\n",
    ".addTransform(\"gender\", \"datum.sex == 2 ? \\\"Female\\\" :\\\"Male\\\" \")\n",
    ".mark(Bar)\n",
    ".encodeX(\"gender\", Nominal)\n",
    ".encodeY(\"count\", Quant, AggOps.Sum, axis=Axis(title=\"population\"))\n",
    ".encodeColor(\"gender\", Nominal)\n",
    "//.configMark(stacked=StackOffset.Normalize)\n",
    "\n",
    "countPerGender.show"
   ]
  },
  {
   "cell_type": "code",
   "execution_count": 59,
   "metadata": {
    "ExecuteTime": {
     "end_time": "2019-02-05T20:00:59.765905Z",
     "start_time": "2019-02-05T20:00:58.059Z"
    }
   },
   "outputs": [
    {
     "data": {
      "text/html": [
       "\n",
       "  <iframe id=\"frame-vegas-9e4fe6da-9bfe-4179-960b-136303a7a898\" sandbox=\"allow-scripts allow-same-origin\" style=\"border: none; width: 100%\" srcdoc=\"&lt;html&gt;\n",
       "  &lt;head&gt;\n",
       "    &lt;script src=&quot;https://cdn.jsdelivr.net/webjars/org.webjars.bower/d3/3.5.17/d3.min.js&quot; charset=&quot;utf-8&quot;&gt;&lt;/script&gt;\n",
       "&lt;script src=&quot;https://cdn.jsdelivr.net/webjars/org.webjars.bower/vega/2.6.3/vega.min.js&quot; charset=&quot;utf-8&quot;&gt;&lt;/script&gt;\n",
       "&lt;script src=&quot;https://cdn.jsdelivr.net/webjars/org.webjars.bower/vega-lite/1.2.0/vega-lite.min.js&quot; charset=&quot;utf-8&quot;&gt;&lt;/script&gt;\n",
       "&lt;script src=&quot;https://vega.github.io/vega-editor/vendor/vega-embed.js&quot; charset=&quot;utf-8&quot;&gt;&lt;/script&gt;\n",
       "  &lt;/head&gt;\n",
       "  &lt;body&gt;\n",
       " &lt;script&gt;\n",
       "   var embedSpec = {\n",
       "     mode: &quot;vega-lite&quot;,\n",
       "     spec: {\n",
       "  &quot;mark&quot; : &quot;bar&quot;,\n",
       "  &quot;encoding&quot; : {\n",
       "    &quot;x&quot; : {\n",
       "      &quot;field&quot; : &quot;year&quot;,\n",
       "      &quot;type&quot; : &quot;ordinal&quot;\n",
       "    },\n",
       "    &quot;y&quot; : {\n",
       "      &quot;axis&quot; : {\n",
       "        &quot;title&quot; : &quot;population&quot;\n",
       "      },\n",
       "      &quot;field&quot; : &quot;count&quot;,\n",
       "      &quot;type&quot; : &quot;quantitative&quot;,\n",
       "      &quot;aggregate&quot; : &quot;sum&quot;\n",
       "    },\n",
       "    &quot;color&quot; : {\n",
       "      &quot;field&quot; : &quot;gender&quot;,\n",
       "      &quot;type&quot; : &quot;nominal&quot;\n",
       "    }\n",
       "  },\n",
       "  &quot;description&quot; : &quot;Population&quot;,\n",
       "  &quot;data&quot; : {\n",
       "    &quot;values&quot; : [\n",
       "      {\n",
       "        &quot;count&quot; : 100,\n",
       "        &quot;year&quot; : 1850,\n",
       "        &quot;country&quot; : &quot;USA&quot;,\n",
       "        &quot;age&quot; : 10,\n",
       "        &quot;sex&quot; : 2\n",
       "      },\n",
       "      {\n",
       "        &quot;count&quot; : 150,\n",
       "        &quot;year&quot; : 1850,\n",
       "        &quot;country&quot; : &quot;UK&quot;,\n",
       "        &quot;age&quot; : 24,\n",
       "        &quot;sex&quot; : 1\n",
       "      },\n",
       "      {\n",
       "        &quot;count&quot; : 200,\n",
       "        &quot;year&quot; : 1860,\n",
       "        &quot;country&quot; : &quot;DK&quot;,\n",
       "        &quot;age&quot; : 56,\n",
       "        &quot;sex&quot; : 1\n",
       "      },\n",
       "      {\n",
       "        &quot;count&quot; : 170,\n",
       "        &quot;year&quot; : 1860,\n",
       "        &quot;country&quot; : &quot;DK&quot;,\n",
       "        &quot;age&quot; : 13,\n",
       "        &quot;sex&quot; : 2\n",
       "      }\n",
       "    ]\n",
       "  },\n",
       "  &quot;transform&quot; : {\n",
       "    &quot;calculate&quot; : [\n",
       "      {\n",
       "        &quot;field&quot; : &quot;gender&quot;,\n",
       "        &quot;expr&quot; : &quot;datum.sex == 2 ? \\&quot;Female\\&quot; :\\&quot;Male\\&quot; &quot;\n",
       "      }\n",
       "    ]\n",
       "  }\n",
       "}\n",
       "   }\n",
       "   vg.embed(&quot;#vegas-9e4fe6da-9bfe-4179-960b-136303a7a898&quot;, embedSpec, function(error, result) {});\n",
       " &lt;/script&gt;\n",
       " &lt;div id='vegas-9e4fe6da-9bfe-4179-960b-136303a7a898'&gt;&lt;/div&gt;\n",
       "    &lt;/body&gt;\n",
       "&lt;/html&gt;\"></iframe>\n",
       "  <script>\n",
       "    if (typeof resizeIFrame != 'function') {\n",
       "      function resizeIFrame(el, k) {\n",
       "        $(el.contentWindow.document).ready(function() {\n",
       "          el.style.height = el.contentWindow.document.body.scrollHeight + 'px';\n",
       "        });\n",
       "        if (k <= 10) { setTimeout(function() { resizeIFrame(el, k+1) }, 1000 + (k * 250)) };\n",
       "      }\n",
       "    }\n",
       "    $().ready( function() { resizeIFrame($('#frame-vegas-9e4fe6da-9bfe-4179-960b-136303a7a898').get(0), 1); });\n",
       "  </script>\n",
       "    "
      ]
     },
     "metadata": {},
     "output_type": "display_data"
    },
    {
     "data": {
      "text/html": [
       "\n",
       "  <iframe id=\"frame-vegas-9d45100f-2baf-46bd-8929-66425ec29e4e\" sandbox=\"allow-scripts allow-same-origin\" style=\"border: none; width: 100%\" srcdoc=\"&lt;html&gt;\n",
       "  &lt;head&gt;\n",
       "    &lt;script src=&quot;https://cdn.jsdelivr.net/webjars/org.webjars.bower/d3/3.5.17/d3.min.js&quot; charset=&quot;utf-8&quot;&gt;&lt;/script&gt;\n",
       "&lt;script src=&quot;https://cdn.jsdelivr.net/webjars/org.webjars.bower/vega/2.6.3/vega.min.js&quot; charset=&quot;utf-8&quot;&gt;&lt;/script&gt;\n",
       "&lt;script src=&quot;https://cdn.jsdelivr.net/webjars/org.webjars.bower/vega-lite/1.2.0/vega-lite.min.js&quot; charset=&quot;utf-8&quot;&gt;&lt;/script&gt;\n",
       "&lt;script src=&quot;https://vega.github.io/vega-editor/vendor/vega-embed.js&quot; charset=&quot;utf-8&quot;&gt;&lt;/script&gt;\n",
       "  &lt;/head&gt;\n",
       "  &lt;body&gt;\n",
       " &lt;script&gt;\n",
       "   var embedSpec = {\n",
       "     mode: &quot;vega-lite&quot;,\n",
       "     spec: {\n",
       "  &quot;mark&quot; : &quot;bar&quot;,\n",
       "  &quot;encoding&quot; : {\n",
       "    &quot;x&quot; : {\n",
       "      &quot;field&quot; : &quot;year&quot;,\n",
       "      &quot;type&quot; : &quot;ordinal&quot;\n",
       "    },\n",
       "    &quot;y&quot; : {\n",
       "      &quot;axis&quot; : {\n",
       "        &quot;title&quot; : &quot;population&quot;\n",
       "      },\n",
       "      &quot;field&quot; : &quot;count&quot;,\n",
       "      &quot;type&quot; : &quot;quantitative&quot;,\n",
       "      &quot;aggregate&quot; : &quot;sum&quot;\n",
       "    },\n",
       "    &quot;color&quot; : {\n",
       "      &quot;field&quot; : &quot;gender&quot;,\n",
       "      &quot;type&quot; : &quot;nominal&quot;\n",
       "    }\n",
       "  },\n",
       "  &quot;description&quot; : &quot;Population&quot;,\n",
       "  &quot;data&quot; : {\n",
       "    &quot;values&quot; : [\n",
       "      {\n",
       "        &quot;count&quot; : 100,\n",
       "        &quot;year&quot; : 1850,\n",
       "        &quot;country&quot; : &quot;USA&quot;,\n",
       "        &quot;age&quot; : 10,\n",
       "        &quot;sex&quot; : 2\n",
       "      },\n",
       "      {\n",
       "        &quot;count&quot; : 150,\n",
       "        &quot;year&quot; : 1850,\n",
       "        &quot;country&quot; : &quot;UK&quot;,\n",
       "        &quot;age&quot; : 24,\n",
       "        &quot;sex&quot; : 1\n",
       "      },\n",
       "      {\n",
       "        &quot;count&quot; : 200,\n",
       "        &quot;year&quot; : 1860,\n",
       "        &quot;country&quot; : &quot;DK&quot;,\n",
       "        &quot;age&quot; : 56,\n",
       "        &quot;sex&quot; : 1\n",
       "      },\n",
       "      {\n",
       "        &quot;count&quot; : 170,\n",
       "        &quot;year&quot; : 1860,\n",
       "        &quot;country&quot; : &quot;DK&quot;,\n",
       "        &quot;age&quot; : 13,\n",
       "        &quot;sex&quot; : 2\n",
       "      }\n",
       "    ]\n",
       "  },\n",
       "  &quot;transform&quot; : {\n",
       "    &quot;calculate&quot; : [\n",
       "      {\n",
       "        &quot;field&quot; : &quot;gender&quot;,\n",
       "        &quot;expr&quot; : &quot;datum.sex == 2 ? \\&quot;Female\\&quot; :\\&quot;Male\\&quot; &quot;\n",
       "      }\n",
       "    ]\n",
       "  },\n",
       "  &quot;config&quot; : {\n",
       "    &quot;mark&quot; : {\n",
       "      &quot;stacked&quot; : &quot;normalize&quot;\n",
       "    }\n",
       "  }\n",
       "}\n",
       "   }\n",
       "   vg.embed(&quot;#vegas-9d45100f-2baf-46bd-8929-66425ec29e4e&quot;, embedSpec, function(error, result) {});\n",
       " &lt;/script&gt;\n",
       " &lt;div id='vegas-9d45100f-2baf-46bd-8929-66425ec29e4e'&gt;&lt;/div&gt;\n",
       "    &lt;/body&gt;\n",
       "&lt;/html&gt;\"></iframe>\n",
       "  <script>\n",
       "    if (typeof resizeIFrame != 'function') {\n",
       "      function resizeIFrame(el, k) {\n",
       "        $(el.contentWindow.document).ready(function() {\n",
       "          el.style.height = el.contentWindow.document.body.scrollHeight + 'px';\n",
       "        });\n",
       "        if (k <= 10) { setTimeout(function() { resizeIFrame(el, k+1) }, 1000 + (k * 250)) };\n",
       "      }\n",
       "    }\n",
       "    $().ready( function() { resizeIFrame($('#frame-vegas-9d45100f-2baf-46bd-8929-66425ec29e4e').get(0), 1); });\n",
       "  </script>\n",
       "    "
      ]
     },
     "metadata": {},
     "output_type": "display_data"
    },
    {
     "data": {
      "text/plain": [
       "countPerAgeWithGender = ExtendedUnitSpecBuilder(ExtendedUnitSpec(None,None,Bar,Some(Encoding(None,None,Some(PositionChannelDef(None,None,None,Some(year),Some(Ordinal),None,None,None,None,None)),Some(PositionChannelDef(Some(AxisAxis(Axis(None,None,None,Some(population),None,None,None,None,None,None,None,None,None,None,None,None,None,None,None,None,None,None,None,None,None,None,None,None,None,None,None,None,None,None,None,None,None,None,None))),None,None,Some(count),Some(Quantitative),None,None,None,Some(Sum),None)),None,None,Some(ChannelDefWithLegend(None,None,None,Some(gender),Some(Nominal),None,None,None,None,None)),None,None,None,None,None,None,None,None)),None,Some(Population),Some(Data(None,None,Some(List(Values(Map(count -> 100, year -> 1850, coun...\n"
      ]
     },
     "metadata": {},
     "output_type": "display_data"
    },
    {
     "data": {
      "text/plain": [
       "ExtendedUnitSpecBuilder(ExtendedUnitSpec(None,None,Bar,Some(Encoding(None,None,Some(PositionChannelDef(None,None,None,Some(year),Some(Ordinal),None,None,None,None,None)),Some(PositionChannelDef(Some(AxisAxis(Axis(None,None,None,Some(population),None,None,None,None,None,None,None,None,None,None,None,None,None,None,None,None,None,None,None,None,None,None,None,None,None,None,None,None,None,None,None,None,None,None,None))),None,None,Some(count),Some(Quantitative),None,None,None,Some(Sum),None)),None,None,Some(ChannelDefWithLegend(None,None,None,Some(gender),Some(Nominal),None,None,None,None,None)),None,None,None,None,None,None,None,None)),None,Some(Population),Some(Data(None,None,Some(List(Values(Map(count -> 100, year -> 1850, coun..."
      ]
     },
     "execution_count": 59,
     "metadata": {},
     "output_type": "execute_result"
    }
   ],
   "source": [
    "val countPerAgeWithGender = Vegas(\"Population\")\n",
    ".withDataFrame(df_n)\n",
    ".addTransform(\"gender\", \"datum.sex == 2 ? \\\"Female\\\" :\\\"Male\\\" \")\n",
    ".mark(Bar)\n",
    ".encodeX(\"year\", Ord)\n",
    ".encodeY(\"count\", Quant, AggOps.Sum, axis=Axis(title=\"population\"))\n",
    ".encodeColor(\"gender\", Nominal)\n",
    "//.configMark(stacked=StackOffset.Normalize)\n",
    "\n",
    "countPerAgeWithGender.show\n",
    "\n",
    "\n",
    "val countPerAgeWithGenderNormalize = Vegas(\"Population\")\n",
    ".withDataFrame(df_n)\n",
    ".addTransform(\"gender\", \"datum.sex == 2 ? \\\"Female\\\" :\\\"Male\\\" \")\n",
    ".mark(Bar)\n",
    ".encodeX(\"year\", Ord)\n",
    ".encodeY(\"count\", Quant, AggOps.Sum, axis=Axis(title=\"population\"))\n",
    ".encodeColor(\"gender\", Nominal)\n",
    ".configMark(stacked=StackOffset.Normalize)\n",
    "\n",
    "countPerAgeWithGenderNormalize.show\n"
   ]
  },
  {
   "cell_type": "code",
   "execution_count": 60,
   "metadata": {
    "ExecuteTime": {
     "end_time": "2019-02-05T20:30:35.332994Z",
     "start_time": "2019-02-05T20:30:34.865Z"
    }
   },
   "outputs": [
    {
     "data": {
      "text/html": [
       "\n",
       "  <iframe id=\"frame-vegas-db632f7b-b045-4456-bde0-fc684b86aa6c\" sandbox=\"allow-scripts allow-same-origin\" style=\"border: none; width: 100%\" srcdoc=\"&lt;html&gt;\n",
       "  &lt;head&gt;\n",
       "    &lt;script src=&quot;https://cdn.jsdelivr.net/webjars/org.webjars.bower/d3/3.5.17/d3.min.js&quot; charset=&quot;utf-8&quot;&gt;&lt;/script&gt;\n",
       "&lt;script src=&quot;https://cdn.jsdelivr.net/webjars/org.webjars.bower/vega/2.6.3/vega.min.js&quot; charset=&quot;utf-8&quot;&gt;&lt;/script&gt;\n",
       "&lt;script src=&quot;https://cdn.jsdelivr.net/webjars/org.webjars.bower/vega-lite/1.2.0/vega-lite.min.js&quot; charset=&quot;utf-8&quot;&gt;&lt;/script&gt;\n",
       "&lt;script src=&quot;https://vega.github.io/vega-editor/vendor/vega-embed.js&quot; charset=&quot;utf-8&quot;&gt;&lt;/script&gt;\n",
       "  &lt;/head&gt;\n",
       "  &lt;body&gt;\n",
       " &lt;script&gt;\n",
       "   var embedSpec = {\n",
       "     mode: &quot;vega-lite&quot;,\n",
       "     spec: {\n",
       "  &quot;mark&quot; : &quot;point&quot;,\n",
       "  &quot;encoding&quot; : {\n",
       "    &quot;row&quot; : {\n",
       "      &quot;field&quot; : &quot;Acceleration&quot;,\n",
       "      &quot;type&quot; : &quot;quantitative&quot;,\n",
       "      &quot;bin&quot; : true\n",
       "    },\n",
       "    &quot;x&quot; : {\n",
       "      &quot;field&quot; : &quot;Horsepower&quot;,\n",
       "      &quot;type&quot; : &quot;quantitative&quot;\n",
       "    },\n",
       "    &quot;y&quot; : {\n",
       "      &quot;field&quot; : &quot;Miles_per_Gallon&quot;,\n",
       "      &quot;type&quot; : &quot;quantitative&quot;\n",
       "    }\n",
       "  },\n",
       "  &quot;description&quot; : &quot;A trellis scatterplot showing Horsepower and Miles per gallons, faceted by binned values of Acceleration.&quot;,\n",
       "  &quot;data&quot; : {\n",
       "    &quot;url&quot; : &quot;https://vega.github.io/vega-editor/app/data/cars.json&quot;\n",
       "  }\n",
       "}\n",
       "   }\n",
       "   vg.embed(&quot;#vegas-db632f7b-b045-4456-bde0-fc684b86aa6c&quot;, embedSpec, function(error, result) {});\n",
       " &lt;/script&gt;\n",
       " &lt;div id='vegas-db632f7b-b045-4456-bde0-fc684b86aa6c'&gt;&lt;/div&gt;\n",
       "    &lt;/body&gt;\n",
       "&lt;/html&gt;\"></iframe>\n",
       "  <script>\n",
       "    if (typeof resizeIFrame != 'function') {\n",
       "      function resizeIFrame(el, k) {\n",
       "        $(el.contentWindow.document).ready(function() {\n",
       "          el.style.height = el.contentWindow.document.body.scrollHeight + 'px';\n",
       "        });\n",
       "        if (k <= 10) { setTimeout(function() { resizeIFrame(el, k+1) }, 1000 + (k * 250)) };\n",
       "      }\n",
       "    }\n",
       "    $().ready( function() { resizeIFrame($('#frame-vegas-db632f7b-b045-4456-bde0-fc684b86aa6c').get(0), 1); });\n",
       "  </script>\n",
       "    "
      ]
     },
     "metadata": {},
     "output_type": "display_data"
    }
   ],
   "source": [
    "Vegas(\"A trellis scatterplot showing Horsepower and Miles per gallons, faceted by binned values of Acceleration.\").\n",
    "  withURL(Cars).\n",
    "  mark(Point).\n",
    "  encodeX(\"Horsepower\", Quantitative).\n",
    "  encodeY(\"Miles_per_Gallon\", Quantitative).\n",
    "  encodeRow(\"Acceleration\", Quantitative, enableBin=true).\n",
    "  show"
   ]
  },
  {
   "cell_type": "code",
   "execution_count": 76,
   "metadata": {
    "ExecuteTime": {
     "end_time": "2019-02-05T20:51:09.758682Z",
     "start_time": "2019-02-05T20:51:08.420Z"
    }
   },
   "outputs": [
    {
     "name": "stdout",
     "output_type": "stream",
     "text": [
      "+-------+----+---+---+-----+------+\n",
      "|country|year|age|sex|count|salary|\n",
      "+-------+----+---+---+-----+------+\n",
      "|    USA|2017| 10|  2|  100| 20000|\n",
      "|    USA|2017|  5|  1|  125| 18000|\n",
      "|    USA|2018| 20|  1|  125| 29000|\n",
      "|    USA|2018| 10|  2|  112| 23000|\n",
      "|     UK|2017| 14|  1|  150| 15000|\n",
      "|     DK|2016|  5|  1|  200| 12000|\n",
      "|     DK|2016|  3|  2|  170|  5000|\n",
      "+-------+----+---+---+-----+------+\n",
      "\n"
     ]
    },
    {
     "data": {
      "text/plain": [
       "seq_n1 = List((USA,2017,10,2,100,20000), (USA,2017,5,1,125,18000), (USA,2018,20,1,125,29000), (USA,2018,10,2,112,23000), (UK,2017,14,1,150,15000), (DK,2016,5,1,200,12000), (DK,2016,3,2,170,5000))\n",
       "df_n1 = [country: string, year: int ... 4 more fields]\n"
      ]
     },
     "metadata": {},
     "output_type": "display_data"
    },
    {
     "data": {
      "text/plain": [
       "[country: string, year: int ... 4 more fields]"
      ]
     },
     "execution_count": 76,
     "metadata": {},
     "output_type": "execute_result"
    }
   ],
   "source": [
    "val seq_n1 = Seq((\"USA\", 2017, 10, 2, 100, 20000),\n",
    "                 (\"USA\", 2017, 5, 1, 125, 18000),\n",
    "                 (\"USA\", 2018, 20, 1, 125, 29000),\n",
    "                 (\"USA\", 2018, 10, 2, 112, 23000), \n",
    "                 (\"UK\", 2017, 14, 1, 150, 15000), \n",
    "                 (\"DK\",2016, 5, 1, 200, 12000), \n",
    "                 (\"DK\",2016, 3, 2, 170, 5000)\n",
    "                )\n",
    "val df_n1 : DataFrame = seq_n1.toDF(\"country\", \"year\", \"age\", \"sex\", \"count\", \"salary\")\n",
    "\n",
    "df_n1.show()\n"
   ]
  },
  {
   "cell_type": "code",
   "execution_count": 79,
   "metadata": {
    "ExecuteTime": {
     "end_time": "2019-02-05T20:52:45.813606Z",
     "start_time": "2019-02-05T20:52:44.710Z"
    }
   },
   "outputs": [
    {
     "data": {
      "text/html": [
       "\n",
       "  <iframe id=\"frame-vegas-07ff3c17-d53f-4a6a-82d3-d1b082118898\" sandbox=\"allow-scripts allow-same-origin\" style=\"border: none; width: 100%\" srcdoc=\"&lt;html&gt;\n",
       "  &lt;head&gt;\n",
       "    &lt;script src=&quot;https://cdn.jsdelivr.net/webjars/org.webjars.bower/d3/3.5.17/d3.min.js&quot; charset=&quot;utf-8&quot;&gt;&lt;/script&gt;\n",
       "&lt;script src=&quot;https://cdn.jsdelivr.net/webjars/org.webjars.bower/vega/2.6.3/vega.min.js&quot; charset=&quot;utf-8&quot;&gt;&lt;/script&gt;\n",
       "&lt;script src=&quot;https://cdn.jsdelivr.net/webjars/org.webjars.bower/vega-lite/1.2.0/vega-lite.min.js&quot; charset=&quot;utf-8&quot;&gt;&lt;/script&gt;\n",
       "&lt;script src=&quot;https://vega.github.io/vega-editor/vendor/vega-embed.js&quot; charset=&quot;utf-8&quot;&gt;&lt;/script&gt;\n",
       "  &lt;/head&gt;\n",
       "  &lt;body&gt;\n",
       " &lt;script&gt;\n",
       "   var embedSpec = {\n",
       "     mode: &quot;vega-lite&quot;,\n",
       "     spec: {\n",
       "  &quot;mark&quot; : &quot;point&quot;,\n",
       "  &quot;encoding&quot; : {\n",
       "    &quot;row&quot; : {\n",
       "      &quot;field&quot; : &quot;salary&quot;,\n",
       "      &quot;type&quot; : &quot;quantitative&quot;,\n",
       "      &quot;bin&quot; : {\n",
       "        &quot;maxbins&quot; : 2.0\n",
       "      }\n",
       "    },\n",
       "    &quot;x&quot; : {\n",
       "      &quot;field&quot; : &quot;year&quot;,\n",
       "      &quot;type&quot; : &quot;ordinal&quot;\n",
       "    },\n",
       "    &quot;y&quot; : {\n",
       "      &quot;axis&quot; : {\n",
       "        &quot;title&quot; : &quot;population&quot;\n",
       "      },\n",
       "      &quot;field&quot; : &quot;count&quot;,\n",
       "      &quot;type&quot; : &quot;quantitative&quot;,\n",
       "      &quot;aggregate&quot; : &quot;sum&quot;\n",
       "    },\n",
       "    &quot;color&quot; : {\n",
       "      &quot;field&quot; : &quot;gender&quot;,\n",
       "      &quot;type&quot; : &quot;nominal&quot;\n",
       "    }\n",
       "  },\n",
       "  &quot;description&quot; : &quot;Population&quot;,\n",
       "  &quot;data&quot; : {\n",
       "    &quot;values&quot; : [\n",
       "      {\n",
       "        &quot;count&quot; : 100,\n",
       "        &quot;year&quot; : 2017,\n",
       "        &quot;country&quot; : &quot;USA&quot;,\n",
       "        &quot;age&quot; : 10,\n",
       "        &quot;sex&quot; : 2,\n",
       "        &quot;salary&quot; : 20000\n",
       "      },\n",
       "      {\n",
       "        &quot;count&quot; : 125,\n",
       "        &quot;year&quot; : 2017,\n",
       "        &quot;country&quot; : &quot;USA&quot;,\n",
       "        &quot;age&quot; : 5,\n",
       "        &quot;sex&quot; : 1,\n",
       "        &quot;salary&quot; : 18000\n",
       "      },\n",
       "      {\n",
       "        &quot;count&quot; : 125,\n",
       "        &quot;year&quot; : 2018,\n",
       "        &quot;country&quot; : &quot;USA&quot;,\n",
       "        &quot;age&quot; : 20,\n",
       "        &quot;sex&quot; : 1,\n",
       "        &quot;salary&quot; : 29000\n",
       "      },\n",
       "      {\n",
       "        &quot;count&quot; : 112,\n",
       "        &quot;year&quot; : 2018,\n",
       "        &quot;country&quot; : &quot;USA&quot;,\n",
       "        &quot;age&quot; : 10,\n",
       "        &quot;sex&quot; : 2,\n",
       "        &quot;salary&quot; : 23000\n",
       "      },\n",
       "      {\n",
       "        &quot;count&quot; : 150,\n",
       "        &quot;year&quot; : 2017,\n",
       "        &quot;country&quot; : &quot;UK&quot;,\n",
       "        &quot;age&quot; : 14,\n",
       "        &quot;sex&quot; : 1,\n",
       "        &quot;salary&quot; : 15000\n",
       "      },\n",
       "      {\n",
       "        &quot;count&quot; : 200,\n",
       "        &quot;year&quot; : 2016,\n",
       "        &quot;country&quot; : &quot;DK&quot;,\n",
       "        &quot;age&quot; : 5,\n",
       "        &quot;sex&quot; : 1,\n",
       "        &quot;salary&quot; : 12000\n",
       "      },\n",
       "      {\n",
       "        &quot;count&quot; : 170,\n",
       "        &quot;year&quot; : 2016,\n",
       "        &quot;country&quot; : &quot;DK&quot;,\n",
       "        &quot;age&quot; : 3,\n",
       "        &quot;sex&quot; : 2,\n",
       "        &quot;salary&quot; : 5000\n",
       "      }\n",
       "    ]\n",
       "  },\n",
       "  &quot;transform&quot; : {\n",
       "    &quot;calculate&quot; : [\n",
       "      {\n",
       "        &quot;field&quot; : &quot;gender&quot;,\n",
       "        &quot;expr&quot; : &quot;datum.sex == 2 ? \\&quot;Female\\&quot; :\\&quot;Male\\&quot; &quot;\n",
       "      }\n",
       "    ]\n",
       "  }\n",
       "}\n",
       "   }\n",
       "   vg.embed(&quot;#vegas-07ff3c17-d53f-4a6a-82d3-d1b082118898&quot;, embedSpec, function(error, result) {});\n",
       " &lt;/script&gt;\n",
       " &lt;div id='vegas-07ff3c17-d53f-4a6a-82d3-d1b082118898'&gt;&lt;/div&gt;\n",
       "    &lt;/body&gt;\n",
       "&lt;/html&gt;\"></iframe>\n",
       "  <script>\n",
       "    if (typeof resizeIFrame != 'function') {\n",
       "      function resizeIFrame(el, k) {\n",
       "        $(el.contentWindow.document).ready(function() {\n",
       "          el.style.height = el.contentWindow.document.body.scrollHeight + 'px';\n",
       "        });\n",
       "        if (k <= 10) { setTimeout(function() { resizeIFrame(el, k+1) }, 1000 + (k * 250)) };\n",
       "      }\n",
       "    }\n",
       "    $().ready( function() { resizeIFrame($('#frame-vegas-07ff3c17-d53f-4a6a-82d3-d1b082118898').get(0), 1); });\n",
       "  </script>\n",
       "    "
      ]
     },
     "metadata": {},
     "output_type": "display_data"
    },
    {
     "data": {
      "text/plain": [
       "countPerGenderWithBin = ExtendedUnitSpecBuilder(ExtendedUnitSpec(None,None,Point,Some(Encoding(Some(PositionChannelDef(None,None,None,Some(salary),Some(Quantitative),None,None,Some(BinBin(Bin(None,None,None,None,None,None,None,Some(2.0)))),None,None)),None,Some(PositionChannelDef(None,None,None,Some(year),Some(Ordinal),None,None,None,None,None)),Some(PositionChannelDef(Some(AxisAxis(Axis(None,None,None,Some(population),None,None,None,None,None,None,None,None,None,None,None,None,None,None,None,None,None,None,None,None,None,None,None,None,None,None,None,None,None,None,None,None,None,None,None))),None,None,Some(count),Some(Quantitative),None,None,None,Some(Sum),None)),None,None,Some(ChannelDefWithLegend(None,None,None,Some(gender),Some(Nominal),None,None,...\n"
      ]
     },
     "metadata": {},
     "output_type": "display_data"
    },
    {
     "data": {
      "text/plain": [
       "ExtendedUnitSpecBuilder(ExtendedUnitSpec(None,None,Point,Some(Encoding(Some(PositionChannelDef(None,None,None,Some(salary),Some(Quantitative),None,None,Some(BinBin(Bin(None,None,None,None,None,None,None,Some(2.0)))),None,None)),None,Some(PositionChannelDef(None,None,None,Some(year),Some(Ordinal),None,None,None,None,None)),Some(PositionChannelDef(Some(AxisAxis(Axis(None,None,None,Some(population),None,None,None,None,None,None,None,None,None,None,None,None,None,None,None,None,None,None,None,None,None,None,None,None,None,None,None,None,None,None,None,None,None,None,None))),None,None,Some(count),Some(Quantitative),None,None,None,Some(Sum),None)),None,None,Some(ChannelDefWithLegend(None,None,None,Some(gender),Some(Nominal),None,None,..."
      ]
     },
     "execution_count": 79,
     "metadata": {},
     "output_type": "execute_result"
    }
   ],
   "source": [
    "val countPerGenderWithBin = Vegas(\"Population\")\n",
    ".withDataFrame(df_n1)\n",
    ".addTransform(\"gender\", \"datum.sex == 2 ? \\\"Female\\\" :\\\"Male\\\" \")\n",
    ".mark(Point)\n",
    ".encodeX(\"year\", Ord)\n",
    ".encodeY(\"count\", Quant, AggOps.Sum, axis=Axis(title=\"population\"))\n",
    ".encodeColor(\"gender\", Nominal)\n",
    ".encodeRow(\"salary\", Quant, enableBin=true, bin=Bin(maxbins=2.0))\n",
    "\n",
    "countPerGenderWithBin.show"
   ]
  }
 ],
 "metadata": {
  "hide_input": false,
  "kernelspec": {
   "display_name": "Apache Toree - Scala",
   "language": "scala",
   "name": "apache_toree_scala"
  },
  "language_info": {
   "codemirror_mode": "text/x-scala",
   "file_extension": ".scala",
   "mimetype": "text/x-scala",
   "name": "scala",
   "pygments_lexer": "scala",
   "version": "2.11.12"
  }
 },
 "nbformat": 4,
 "nbformat_minor": 2
}
