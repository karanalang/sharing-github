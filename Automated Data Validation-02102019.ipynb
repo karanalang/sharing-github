{
 "cells": [
  {
   "cell_type": "markdown",
   "metadata": {},
   "source": [
    "# AMP Analytics Online"
   ]
  },
  {
   "cell_type": "markdown",
   "metadata": {},
   "source": [
    "#### Input data path for validation :"
   ]
  },
  {
   "cell_type": "code",
   "execution_count": 1,
   "metadata": {},
   "outputs": [
    {
     "data": {
      "text/plain": [
       "path = /group/amp_ae_core_content/output/umc_availability/analytics/snapshot/20190208/23-01\n"
      ]
     },
     "metadata": {},
     "output_type": "display_data"
    },
    {
     "data": {
      "text/plain": [
       "/group/amp_ae_core_content/output/umc_availability/analytics/snapshot/20190208/23-01"
      ]
     },
     "execution_count": 1,
     "metadata": {},
     "output_type": "execute_result"
    }
   ],
   "source": [
    "val path = \"/group/amp_ae_core_content/output/umc_availability/analytics/snapshot/20190208/23-01\""
   ]
  },
  {
   "cell_type": "code",
   "execution_count": 2,
   "metadata": {},
   "outputs": [],
   "source": [
    "import org.apache.spark.SparkConf\n",
    "import org.apache.spark.sql.{DataFrame,SparkSession, Column}\n",
    "import org.apache.spark.sql.functions.{col}\n",
    "\n",
    "import scala.collection.mutable.ListBuffer"
   ]
  },
  {
   "cell_type": "code",
   "execution_count": 3,
   "metadata": {},
   "outputs": [
    {
     "name": "stdout",
     "output_type": "stream",
     "text": [
      "Marking org.vegas-viz:vegas_2.11:0.3.9 for download\n",
      "Preparing to fetch from:\n",
      "-> file:/app/lib/\n",
      "-> https://artifacts.apple.com/repo1-cache\n",
      "-> https://artifacts.apple.com/jcenter-cache\n",
      "-> https://artifacts.apple.com/remote-repos\n",
      "-> https://artifacts.apple.com/pie-release-local\n",
      "-> https://artifacts.apple.com/sonatype-oss-releases\n",
      "-> https://artifacts.apple.com/pie-snapshot-local\n",
      "-> https://artifacts.apple.com/cie-release-local\n",
      "-> https://artifacts.apple.com/hubble-release-local\n",
      "-> https://artifacts.apple.com/iso-release-local\n",
      "-> https://artifacts.apple.com/iso-snapshot-local\n",
      "-> https://artifacts.apple.com/libs-release\n",
      "-> https://artifacts.apple.com/libs-snapshot-local\n",
      "-> https://artifacts.apple.com/amp-release-local\n",
      "-> https://artifacts.apple.com/amp-snapshot-local\n",
      "-> https://artifacts.apple.com/geo-libs-release-local\n",
      "-> https://artifacts.apple.com/geo-libs-snapshot-local\n",
      "-> New file at /app/lib/https/artifacts.apple.com/repo1-cache/org/webjars/bower/vega/3.0.0-rc4/vega-3.0.0-rc4.jar\n",
      "-> New file at /app/lib/https/artifacts.apple.com/repo1-cache/org/scalaz/scalaz-core_2.11/7.1.1/scalaz-core_2.11-7.1.1.jar\n",
      "-> New file at /app/lib/https/artifacts.apple.com/repo1-cache/org/scalafx/scalafx_2.11/8.0.92-R10/scalafx_2.11-8.0.92-R10.jar\n",
      "-> New file at /app/lib/https/artifacts.apple.com/repo1-cache/org/vegas-viz/vegas-macros_2.11/0.3.9/vegas-macros_2.11-0.3.9.jar\n",
      "-> New file at /app/lib/https/artifacts.apple.com/repo1-cache/org/typelevel/cats-kernel_2.11/0.9.0/cats-kernel_2.11-0.9.0.jar\n",
      "-> New file at /app/lib/https/artifacts.apple.com/repo1-cache/io/circe/circe-numbers_2.11/0.7.0/circe-numbers_2.11-0.7.0.jar\n",
      "-> New file at /app/lib/https/artifacts.apple.com/repo1-cache/io/circe/circe-generic_2.11/0.7.0/circe-generic_2.11-0.7.0.jar\n",
      "-> New file at /app/lib/https/artifacts.apple.com/repo1-cache/com/chuusai/shapeless_2.11/2.3.2/shapeless_2.11-2.3.2.jar\n",
      "-> New file at /app/lib/https/artifacts.apple.com/repo1-cache/org/webjars/bower/vega-lite/1.2.0/vega-lite-1.2.0.jar\n",
      "-> New file at /app/lib/https/artifacts.apple.com/repo1-cache/org/spire-math/jawn-parser_2.11/0.10.4/jawn-parser_2.11-0.10.4.jar\n",
      "-> New file at /app/lib/https/artifacts.apple.com/repo1-cache/io/circe/circe-jawn_2.11/0.7.0/circe-jawn_2.11-0.7.0.jar\n",
      "-> New file at /app/lib/https/artifacts.apple.com/repo1-cache/com/github/mpilquist/simulacrum_2.11/0.10.0/simulacrum_2.11-0.10.0.jar\n",
      "-> New file at /app/lib/https/artifacts.apple.com/repo1-cache/com/github/julien-truffaut/monocle-core_2.11/1.1.0/monocle-core_2.11-1.1.0.jar\n",
      "-> New file at /app/lib/https/artifacts.apple.com/repo1-cache/org/typelevel/machinist_2.11/0.6.1/machinist_2.11-0.6.1.jar\n",
      "-> New file at /app/lib/https/artifacts.apple.com/repo1-cache/org/typelevel/cats-core_2.11/0.9.0/cats-core_2.11-0.9.0.jar\n",
      "-> New file at /app/lib/https/artifacts.apple.com/repo1-cache/org/vegas-viz/vegas_2.11/0.3.9/vegas_2.11-0.3.9.jar\n",
      "-> New file at /app/lib/https/artifacts.apple.com/repo1-cache/com/github/julien-truffaut/monocle-macro_2.11/1.1.0/monocle-macro_2.11-1.1.0.jar\n",
      "-> New file at /app/lib/https/artifacts.apple.com/repo1-cache/io/circe/circe-core_2.11/0.7.0/circe-core_2.11-0.7.0.jar\n",
      "-> New file at /app/lib/https/artifacts.apple.com/repo1-cache/org/typelevel/cats-macros_2.11/0.9.0/cats-macros_2.11-0.9.0.jar\n",
      "-> New file at /app/lib/https/artifacts.apple.com/repo1-cache/io/circe/circe-parser_2.11/0.7.0/circe-parser_2.11-0.7.0.jar\n",
      "-> New file at /app/lib/https/artifacts.apple.com/repo1-cache/org/typelevel/macro-compat_2.11/1.1.1/macro-compat_2.11-1.1.1.jar\n"
     ]
    },
    {
     "data": {
      "text/plain": [
       "Waiting for a Spark session to start..."
      ]
     },
     "metadata": {},
     "output_type": "display_data"
    },
    {
     "name": "stdout",
     "output_type": "stream",
     "text": [
      "Marking org.vegas-viz:vegas-spark_2.11:0.3.9 for download\n",
      "Preparing to fetch from:\n",
      "-> file:/app/lib/\n",
      "-> https://artifacts.apple.com/repo1-cache\n",
      "-> https://artifacts.apple.com/jcenter-cache\n",
      "-> https://artifacts.apple.com/remote-repos\n",
      "-> https://artifacts.apple.com/pie-release-local\n",
      "-> https://artifacts.apple.com/sonatype-oss-releases\n",
      "-> https://artifacts.apple.com/pie-snapshot-local\n",
      "-> https://artifacts.apple.com/cie-release-local\n",
      "-> https://artifacts.apple.com/hubble-release-local\n",
      "-> https://artifacts.apple.com/iso-release-local\n",
      "-> https://artifacts.apple.com/iso-snapshot-local\n",
      "-> https://artifacts.apple.com/libs-release\n",
      "-> https://artifacts.apple.com/libs-snapshot-local\n",
      "-> https://artifacts.apple.com/amp-release-local\n",
      "-> https://artifacts.apple.com/amp-snapshot-local\n",
      "-> https://artifacts.apple.com/geo-libs-release-local\n",
      "-> https://artifacts.apple.com/geo-libs-snapshot-local\n",
      "-> New file at /app/lib/https/artifacts.apple.com/repo1-cache/org/vegas-viz/vegas-spark_2.11/0.3.9/vegas-spark_2.11-0.3.9.jar\n"
     ]
    }
   ],
   "source": [
    "%AddDeps org.vegas-viz vegas_2.11 0.3.9 --transitive\n",
    "%AddDeps org.vegas-viz vegas-spark_2.11 0.3.9"
   ]
  },
  {
   "cell_type": "code",
   "execution_count": 4,
   "metadata": {},
   "outputs": [
    {
     "data": {
      "text/plain": [
       "render = <function1>\n"
      ]
     },
     "metadata": {},
     "output_type": "display_data"
    },
    {
     "data": {
      "text/plain": [
       "<function1>"
      ]
     },
     "execution_count": 4,
     "metadata": {},
     "output_type": "execute_result"
    }
   ],
   "source": [
    "import vegas._\n",
    "import vegas.render.WindowRenderer._\n",
    "import vegas.data.External._\n",
    "import vegas.sparkExt._\n",
    "\n",
    "implicit val render = vegas.render.ShowHTML(kernel.display.content(\"text/html\", _))"
   ]
  },
  {
   "cell_type": "code",
   "execution_count": 5,
   "metadata": {},
   "outputs": [
    {
     "name": "stdout",
     "output_type": "stream",
     "text": [
      "root\n",
      " |-- content_canonical_id: string (nullable = true)\n",
      " |-- reference_id: string (nullable = true)\n",
      " |-- service_id: string (nullable = true)\n",
      " |-- version_id: string (nullable = true)\n",
      " |-- offering_type: string (nullable = true)\n",
      " |-- offering_type_value: string (nullable = true)\n",
      " |-- offering_type_display_value: string (nullable = true)\n",
      " |-- start_time: timestamp (nullable = true)\n",
      " |-- end_time: timestamp (nullable = true)\n",
      " |-- restrictions: array (nullable = true)\n",
      " |    |-- element: struct (containsNull = true)\n",
      " |    |    |-- restrictionType: struct (nullable = true)\n",
      " |    |    |    |-- type: string (nullable = true)\n",
      " |    |    |    |-- value: string (nullable = true)\n",
      " |    |    |    |-- displayValue: string (nullable = true)\n",
      " |    |    |-- restrictionRelationship: struct (nullable = true)\n",
      " |    |    |    |-- type: string (nullable = true)\n",
      " |    |    |    |-- value: string (nullable = true)\n",
      " |    |    |    |-- displayValue: string (nullable = true)\n",
      " |    |    |-- value: string (nullable = true)\n",
      " |-- is_live: boolean (nullable = true)\n",
      " |-- is_broadcast: boolean (nullable = true)\n",
      " |-- is_premium: boolean (nullable = true)\n",
      " |-- primary_locale: string (nullable = true)\n",
      " |-- closed_captioning_locales: array (nullable = true)\n",
      " |    |-- element: string (containsNull = true)\n",
      " |-- subtitle_locales: array (nullable = true)\n",
      " |    |-- element: string (containsNull = true)\n",
      " |-- dubbed_locales: array (nullable = true)\n",
      " |    |-- element: string (containsNull = true)\n",
      " |-- subtitle_deaf_hard_of_hearing_locales: array (nullable = true)\n",
      " |    |-- element: string (containsNull = true)\n",
      " |-- audio_track_locales: array (nullable = true)\n",
      " |    |-- element: string (containsNull = true)\n",
      " |-- audio_track_formats: array (nullable = true)\n",
      " |    |-- element: string (containsNull = true)\n",
      " |-- video_quality: string (nullable = true)\n",
      " |-- video_color_range: string (nullable = true)\n",
      " |-- created: timestamp (nullable = true)\n",
      " |-- etl_batch_sk: long (nullable = true)\n",
      " |-- etl_create_ts: long (nullable = true)\n",
      " |-- etl_change_ts: long (nullable = true)\n",
      " |-- etl_source_batch_sk: string (nullable = true)\n",
      "\n"
     ]
    },
    {
     "data": {
      "text/plain": [
       "df = [content_canonical_id: string, reference_id: string ... 25 more fields]\n"
      ]
     },
     "metadata": {},
     "output_type": "display_data"
    },
    {
     "data": {
      "text/plain": [
       "[content_canonical_id: string, reference_id: string ... 25 more fields]"
      ]
     },
     "execution_count": 5,
     "metadata": {},
     "output_type": "execute_result"
    }
   ],
   "source": [
    "val df = spark.read.parquet(path)\n",
    "df.printSchema()"
   ]
  },
  {
   "cell_type": "code",
   "execution_count": 7,
   "metadata": {},
   "outputs": [
    {
     "name": "stdout",
     "output_type": "stream",
     "text": [
      " TOTAL NUMBER OF RECORDS IN DATASET : 145994496\n"
     ]
    },
    {
     "data": {
      "text/plain": [
       "totalCount = 145994496\n"
      ]
     },
     "metadata": {},
     "output_type": "display_data"
    },
    {
     "data": {
      "text/plain": [
       "145994496"
      ]
     },
     "execution_count": 7,
     "metadata": {},
     "output_type": "execute_result"
    }
   ],
   "source": [
    "val totalCount = df.count()\n",
    "println(s\" TOTAL NUMBER OF RECORDS IN DATASET : $totalCount\")"
   ]
  },
  {
   "cell_type": "code",
   "execution_count": null,
   "metadata": {},
   "outputs": [
    {
     "name": "stdout",
     "output_type": "stream",
     "text": [
      "+-------------------------------------+---------+------------+\n",
      "|colName                              |nullCount|percentNull |\n",
      "+-------------------------------------+---------+------------+\n",
      "|content_canonical_id                 |983911   |0.6739371   |\n",
      "|reference_id                         |1        |6.8495734E-7|\n",
      "|service_id                           |1        |6.8495734E-7|\n",
      "|version_id                           |1        |6.8495734E-7|\n",
      "|offering_type                        |132289593|90.612724   |\n",
      "|offering_type_value                  |132289593|90.612724   |\n",
      "|offering_type_display_value          |132289593|90.612724   |\n",
      "|start_time                           |132289593|90.612724   |\n",
      "|end_time                             |132289593|90.612724   |\n",
      "|restrictions                         |144021404|98.64852    |\n",
      "|is_live                              |132289593|90.612724   |\n",
      "|is_broadcast                         |132289593|90.612724   |\n",
      "|is_premium                           |132289593|90.612724   |\n",
      "|primary_locale                       |1        |6.8495734E-7|\n",
      "|closed_captioning_locales            |141477385|96.90598    |\n",
      "|subtitle_locales                     |142684680|97.73291    |\n",
      "|dubbed_locales                       |145994496|100.0       |\n",
      "|subtitle_deaf_hard_of_hearing_locales|145425724|99.61042    |\n",
      "|audio_track_locales                  |144305714|98.843254   |\n",
      "|audio_track_formats                  |138691781|94.99795    |\n",
      "|video_quality                        |135014247|92.47899    |\n",
      "|video_color_range                    |137186761|93.96708    |\n",
      "|created                              |1        |6.8495734E-7|\n",
      "|etl_batch_sk                         |0        |0.0         |\n",
      "|etl_create_ts                        |0        |0.0         |\n",
      "|etl_change_ts                        |0        |0.0         |\n",
      "|etl_source_batch_sk                  |0        |0.0         |\n",
      "+-------------------------------------+---------+------------+\n",
      "\n"
     ]
    }
   ],
   "source": [
    "val dfColumns = df.columns   \n",
    " val lb = ListBuffer[(String, Long, Float)]()\n",
    "for(colName <- dfColumns){\n",
    "        val nullCount : Long = df.where(col(colName).isNull).count\n",
    "        val percentNull = (nullCount.toFloat*100)/totalCount\n",
    "        val t  = (colName, nullCount, percentNull)\n",
    "        lb += t\n",
    "      }\n",
    "\n",
    "val ll : List[(String, Long, Float)] = lb.toList\n",
    "val dfCountNull : DataFrame = ll.toDF(\"colName\", \"nullCount\",\"percentNull\")\n",
    "\n",
    "dfCountNull.show(30, false)"
   ]
  },
  {
   "cell_type": "markdown",
   "metadata": {},
   "source": [
    "#### Input values for colX, colY (X and Y axis columns for Null %age visualization) "
   ]
  },
  {
   "cell_type": "code",
   "execution_count": 10,
   "metadata": {},
   "outputs": [
    {
     "data": {
      "text/plain": [
       "colX = colName\n",
       "colY = percentNull\n"
      ]
     },
     "metadata": {},
     "output_type": "display_data"
    },
    {
     "data": {
      "text/plain": [
       "percentNull"
      ]
     },
     "execution_count": 10,
     "metadata": {},
     "output_type": "execute_result"
    }
   ],
   "source": [
    "val colX = \"colName\"\n",
    "val colY = \"percentNull\""
   ]
  },
  {
   "cell_type": "code",
   "execution_count": 11,
   "metadata": {},
   "outputs": [
    {
     "data": {
      "text/html": [
       "\n",
       "  <iframe id=\"frame-vegas-5c80ecda-1e48-4b1e-9abc-1f370565a9cf\" sandbox=\"allow-scripts allow-same-origin\" style=\"border: none; width: 100%\" srcdoc=\"&lt;html&gt;\n",
       "  &lt;head&gt;\n",
       "    &lt;script src=&quot;https://cdn.jsdelivr.net/webjars/org.webjars.bower/d3/3.5.17/d3.min.js&quot; charset=&quot;utf-8&quot;&gt;&lt;/script&gt;\n",
       "&lt;script src=&quot;https://cdn.jsdelivr.net/webjars/org.webjars.bower/vega/2.6.3/vega.min.js&quot; charset=&quot;utf-8&quot;&gt;&lt;/script&gt;\n",
       "&lt;script src=&quot;https://cdn.jsdelivr.net/webjars/org.webjars.bower/vega-lite/1.2.0/vega-lite.min.js&quot; charset=&quot;utf-8&quot;&gt;&lt;/script&gt;\n",
       "&lt;script src=&quot;https://vega.github.io/vega-editor/vendor/vega-embed.js&quot; charset=&quot;utf-8&quot;&gt;&lt;/script&gt;\n",
       "  &lt;/head&gt;\n",
       "  &lt;body&gt;\n",
       " &lt;script&gt;\n",
       "   var embedSpec = {\n",
       "     mode: &quot;vega-lite&quot;,\n",
       "     spec: {\n",
       "  &quot;mark&quot; : &quot;bar&quot;,\n",
       "  &quot;encoding&quot; : {\n",
       "    &quot;x&quot; : {\n",
       "      &quot;axis&quot; : true,\n",
       "      &quot;scale&quot; : {\n",
       "        &quot;bandSize&quot; : 20.0\n",
       "      },\n",
       "      &quot;field&quot; : &quot;colName&quot;,\n",
       "      &quot;type&quot; : &quot;nominal&quot;\n",
       "    },\n",
       "    &quot;y&quot; : {\n",
       "      &quot;field&quot; : &quot;percentNull&quot;,\n",
       "      &quot;type&quot; : &quot;quantitative&quot;\n",
       "    },\n",
       "    &quot;color&quot; : {\n",
       "      &quot;field&quot; : &quot;colName&quot;,\n",
       "      &quot;type&quot; : &quot;nominal&quot;\n",
       "    }\n",
       "  },\n",
       "  &quot;description&quot; : &quot;UsingSpark&quot;,\n",
       "  &quot;data&quot; : {\n",
       "    &quot;values&quot; : [\n",
       "      {\n",
       "        &quot;colName&quot; : &quot;content_canonical_id&quot;,\n",
       "        &quot;nullCount&quot; : 983911,\n",
       "        &quot;percentNull&quot; : 0.6739370822906494\n",
       "      },\n",
       "      {\n",
       "        &quot;colName&quot; : &quot;reference_id&quot;,\n",
       "        &quot;nullCount&quot; : 1,\n",
       "        &quot;percentNull&quot; : 6.849573424005939E-7\n",
       "      },\n",
       "      {\n",
       "        &quot;colName&quot; : &quot;service_id&quot;,\n",
       "        &quot;nullCount&quot; : 1,\n",
       "        &quot;percentNull&quot; : 6.849573424005939E-7\n",
       "      },\n",
       "      {\n",
       "        &quot;colName&quot; : &quot;version_id&quot;,\n",
       "        &quot;nullCount&quot; : 1,\n",
       "        &quot;percentNull&quot; : 6.849573424005939E-7\n",
       "      },\n",
       "      {\n",
       "        &quot;colName&quot; : &quot;offering_type&quot;,\n",
       "        &quot;nullCount&quot; : 132289593,\n",
       "        &quot;percentNull&quot; : 90.61272430419922\n",
       "      },\n",
       "      {\n",
       "        &quot;colName&quot; : &quot;offering_type_value&quot;,\n",
       "        &quot;nullCount&quot; : 132289593,\n",
       "        &quot;percentNull&quot; : 90.61272430419922\n",
       "      },\n",
       "      {\n",
       "        &quot;colName&quot; : &quot;offering_type_display_value&quot;,\n",
       "        &quot;nullCount&quot; : 132289593,\n",
       "        &quot;percentNull&quot; : 90.61272430419922\n",
       "      },\n",
       "      {\n",
       "        &quot;colName&quot; : &quot;start_time&quot;,\n",
       "        &quot;nullCount&quot; : 132289593,\n",
       "        &quot;percentNull&quot; : 90.61272430419922\n",
       "      },\n",
       "      {\n",
       "        &quot;colName&quot; : &quot;end_time&quot;,\n",
       "        &quot;nullCount&quot; : 132289593,\n",
       "        &quot;percentNull&quot; : 90.61272430419922\n",
       "      },\n",
       "      {\n",
       "        &quot;colName&quot; : &quot;restrictions&quot;,\n",
       "        &quot;nullCount&quot; : 144021404,\n",
       "        &quot;percentNull&quot; : 98.64852142333984\n",
       "      },\n",
       "      {\n",
       "        &quot;colName&quot; : &quot;is_live&quot;,\n",
       "        &quot;nullCount&quot; : 132289593,\n",
       "        &quot;percentNull&quot; : 90.61272430419922\n",
       "      },\n",
       "      {\n",
       "        &quot;colName&quot; : &quot;is_broadcast&quot;,\n",
       "        &quot;nullCount&quot; : 132289593,\n",
       "        &quot;percentNull&quot; : 90.61272430419922\n",
       "      },\n",
       "      {\n",
       "        &quot;colName&quot; : &quot;is_premium&quot;,\n",
       "        &quot;nullCount&quot; : 132289593,\n",
       "        &quot;percentNull&quot; : 90.61272430419922\n",
       "      },\n",
       "      {\n",
       "        &quot;colName&quot; : &quot;primary_locale&quot;,\n",
       "        &quot;nullCount&quot; : 1,\n",
       "        &quot;percentNull&quot; : 6.849573424005939E-7\n",
       "      },\n",
       "      {\n",
       "        &quot;colName&quot; : &quot;closed_captioning_locales&quot;,\n",
       "        &quot;nullCount&quot; : 141477385,\n",
       "        &quot;percentNull&quot; : 96.9059829711914\n",
       "      },\n",
       "      {\n",
       "        &quot;colName&quot; : &quot;subtitle_locales&quot;,\n",
       "        &quot;nullCount&quot; : 142684680,\n",
       "        &quot;percentNull&quot; : 97.73291015625\n",
       "      },\n",
       "      {\n",
       "        &quot;colName&quot; : &quot;dubbed_locales&quot;,\n",
       "        &quot;nullCount&quot; : 145994496,\n",
       "        &quot;percentNull&quot; : 100.0\n",
       "      },\n",
       "      {\n",
       "        &quot;colName&quot; : &quot;subtitle_deaf_hard_of_hearing_locales&quot;,\n",
       "        &quot;nullCount&quot; : 145425724,\n",
       "        &quot;percentNull&quot; : 99.61042022705078\n",
       "      },\n",
       "      {\n",
       "        &quot;colName&quot; : &quot;audio_track_locales&quot;,\n",
       "        &quot;nullCount&quot; : 144305714,\n",
       "        &quot;percentNull&quot; : 98.84325408935547\n",
       "      },\n",
       "      {\n",
       "        &quot;colName&quot; : &quot;audio_track_formats&quot;,\n",
       "        &quot;nullCount&quot; : 138691781,\n",
       "        &quot;percentNull&quot; : 94.9979476928711\n",
       "      },\n",
       "      {\n",
       "        &quot;colName&quot; : &quot;video_quality&quot;,\n",
       "        &quot;nullCount&quot; : 135014247,\n",
       "        &quot;percentNull&quot; : 92.47898864746094\n",
       "      },\n",
       "      {\n",
       "        &quot;colName&quot; : &quot;video_color_range&quot;,\n",
       "        &quot;nullCount&quot; : 137186761,\n",
       "        &quot;percentNull&quot; : 93.96707916259766\n",
       "      },\n",
       "      {\n",
       "        &quot;colName&quot; : &quot;created&quot;,\n",
       "        &quot;nullCount&quot; : 1,\n",
       "        &quot;percentNull&quot; : 6.849573424005939E-7\n",
       "      },\n",
       "      {\n",
       "        &quot;colName&quot; : &quot;etl_batch_sk&quot;,\n",
       "        &quot;nullCount&quot; : 0,\n",
       "        &quot;percentNull&quot; : 0.0\n",
       "      },\n",
       "      {\n",
       "        &quot;colName&quot; : &quot;etl_create_ts&quot;,\n",
       "        &quot;nullCount&quot; : 0,\n",
       "        &quot;percentNull&quot; : 0.0\n",
       "      },\n",
       "      {\n",
       "        &quot;colName&quot; : &quot;etl_change_ts&quot;,\n",
       "        &quot;nullCount&quot; : 0,\n",
       "        &quot;percentNull&quot; : 0.0\n",
       "      },\n",
       "      {\n",
       "        &quot;colName&quot; : &quot;etl_source_batch_sk&quot;,\n",
       "        &quot;nullCount&quot; : 0,\n",
       "        &quot;percentNull&quot; : 0.0\n",
       "      }\n",
       "    ]\n",
       "  },\n",
       "  &quot;transform&quot; : {\n",
       "    &quot;filter&quot; : &quot;datum.percentNull &gt; 0&quot;\n",
       "  }\n",
       "}\n",
       "   }\n",
       "   vg.embed(&quot;#vegas-5c80ecda-1e48-4b1e-9abc-1f370565a9cf&quot;, embedSpec, function(error, result) {});\n",
       " &lt;/script&gt;\n",
       " &lt;div id='vegas-5c80ecda-1e48-4b1e-9abc-1f370565a9cf'&gt;&lt;/div&gt;\n",
       "    &lt;/body&gt;\n",
       "&lt;/html&gt;\"></iframe>\n",
       "  <script>\n",
       "    if (typeof resizeIFrame != 'function') {\n",
       "      function resizeIFrame(el, k) {\n",
       "        $(el.contentWindow.document).ready(function() {\n",
       "          el.style.height = el.contentWindow.document.body.scrollHeight + 'px';\n",
       "        });\n",
       "        if (k <= 10) { setTimeout(function() { resizeIFrame(el, k+1) }, 1000 + (k * 250)) };\n",
       "      }\n",
       "    }\n",
       "    $().ready( function() { resizeIFrame($('#frame-vegas-5c80ecda-1e48-4b1e-9abc-1f370565a9cf').get(0), 1); });\n",
       "  </script>\n",
       "    "
      ]
     },
     "metadata": {},
     "output_type": "display_data"
    },
    {
     "data": {
      "text/plain": [
       "usingSparkdf = ExtendedUnitSpecBuilder(ExtendedUnitSpec(None,None,Bar,Some(Encoding(None,None,Some(PositionChannelDef(Some(AxisBoolean(true)),Some(Scale(None,None,None,None,Some(BandSizeDouble(20.0)),None,None,None,None,None,None)),None,Some(colName),Some(Nominal),None,None,None,None,None)),Some(PositionChannelDef(None,None,None,Some(percentNull),Some(Quantitative),None,None,None,None,None)),None,None,Some(ChannelDefWithLegend(None,None,None,Some(colName),Some(Nominal),None,None,None,None,None)),None,None,None,None,None,None,None,None)),None,Some(UsingSpark),Some(Data(None,None,Some(List(Values(Map(colName -> content_canonical_id, nullCount -> 983911, percentNull -> 0.6739371)), Values(Map(colName -> reference_id, nullCount -> 1, percentNull -> 6.84957...\n"
      ]
     },
     "metadata": {},
     "output_type": "display_data"
    },
    {
     "data": {
      "text/plain": [
       "ExtendedUnitSpecBuilder(ExtendedUnitSpec(None,None,Bar,Some(Encoding(None,None,Some(PositionChannelDef(Some(AxisBoolean(true)),Some(Scale(None,None,None,None,Some(BandSizeDouble(20.0)),None,None,None,None,None,None)),None,Some(colName),Some(Nominal),None,None,None,None,None)),Some(PositionChannelDef(None,None,None,Some(percentNull),Some(Quantitative),None,None,None,None,None)),None,None,Some(ChannelDefWithLegend(None,None,None,Some(colName),Some(Nominal),None,None,None,None,None)),None,None,None,None,None,None,None,None)),None,Some(UsingSpark),Some(Data(None,None,Some(List(Values(Map(colName -> content_canonical_id, nullCount -> 983911, percentNull -> 0.6739371)), Values(Map(colName -> reference_id, nullCount -> 1, percentNull -> 6.8495734E-7)), Values(Map(colName -> service_id, nullCount -> 1, percentNull -> 6.8495734E-7)), Values(Map(colName -> version_id, nullCount -> 1, percentNull -> 6.8495734E-7)), Values(Map(colName -> offering_type, nullCount -> 132289593, percentNull -> 90.612724)), Values(Map(colName -> offering_type_value, nullCount -> 132289593, percentNull -> 90.612724)), Values(Map(colName -> offering_type_display_value, nullCount -> 132289593, percentNull -> 90.612724)), Values(Map(colName -> start_time, nullCount -> 132289593, percentNull -> 90.612724)), Values(Map(colName -> end_time, nullCount -> 132289593, percentNull -> 90.612724)), Values(Map(colName -> restrictions, nullCount -> 144021404, percentNull -> 98.64852)), Values(Map(colName -> is_live, nullCount -> 132289593, percentNull -> 90.612724)), Values(Map(colName -> is_broadcast, nullCount -> 132289593, percentNull -> 90.612724)), Values(Map(colName -> is_premium, nullCount -> 132289593, percentNull -> 90.612724)), Values(Map(colName -> primary_locale, nullCount -> 1, percentNull -> 6.8495734E-7)), Values(Map(colName -> closed_captioning_locales, nullCount -> 141477385, percentNull -> 96.90598)), Values(Map(colName -> subtitle_locales, nullCount -> 142684680, percentNull -> 97.73291)), Values(Map(colName -> dubbed_locales, nullCount -> 145994496, percentNull -> 100.0)), Values(Map(colName -> subtitle_deaf_hard_of_hearing_locales, nullCount -> 145425724, percentNull -> 99.61042)), Values(Map(colName -> audio_track_locales, nullCount -> 144305714, percentNull -> 98.843254)), Values(Map(colName -> audio_track_formats, nullCount -> 138691781, percentNull -> 94.99795)), Values(Map(colName -> video_quality, nullCount -> 135014247, percentNull -> 92.47899)), Values(Map(colName -> video_color_range, nullCount -> 137186761, percentNull -> 93.96708)), Values(Map(colName -> created, nullCount -> 1, percentNull -> 6.8495734E-7)), Values(Map(colName -> etl_batch_sk, nullCount -> 0, percentNull -> 0.0)), Values(Map(colName -> etl_create_ts, nullCount -> 0, percentNull -> 0.0)), Values(Map(colName -> etl_change_ts, nullCount -> 0, percentNull -> 0.0)), Values(Map(colName -> etl_source_batch_sk, nullCount -> 0, percentNull -> 0.0)))))),Some(Transform(Some(FilterString(datum.percentNull > 0)),None,None)),None))"
      ]
     },
     "execution_count": 11,
     "metadata": {},
     "output_type": "execute_result"
    }
   ],
   "source": [
    "val usingSparkdf = Vegas(\"UsingSpark\")\n",
    "  .withDataFrame(dfCountNull)\n",
    "  .encodeX(colX, Nom, scale=Scale(bandSize = 20.0), hideAxis=false)\n",
    "  .encodeY(colY, Quant)\n",
    ".encodeColor(colX, Nom)\n",
    ".filter(\"datum.percentNull > 0\")\n",
    "  .mark(Bar)\n",
    "\n",
    "usingSparkdf.show"
   ]
  },
  {
   "cell_type": "code",
   "execution_count": 13,
   "metadata": {},
   "outputs": [
    {
     "data": {
      "text/html": [
       "\n",
       "  <iframe id=\"frame-vegas-7a8da03a-911f-44d2-94b2-fdd13dac1db6\" sandbox=\"allow-scripts allow-same-origin\" style=\"border: none; width: 100%\" srcdoc=\"&lt;html&gt;\n",
       "  &lt;head&gt;\n",
       "    &lt;script src=&quot;https://cdn.jsdelivr.net/webjars/org.webjars.bower/d3/3.5.17/d3.min.js&quot; charset=&quot;utf-8&quot;&gt;&lt;/script&gt;\n",
       "&lt;script src=&quot;https://cdn.jsdelivr.net/webjars/org.webjars.bower/vega/2.6.3/vega.min.js&quot; charset=&quot;utf-8&quot;&gt;&lt;/script&gt;\n",
       "&lt;script src=&quot;https://cdn.jsdelivr.net/webjars/org.webjars.bower/vega-lite/1.2.0/vega-lite.min.js&quot; charset=&quot;utf-8&quot;&gt;&lt;/script&gt;\n",
       "&lt;script src=&quot;https://vega.github.io/vega-editor/vendor/vega-embed.js&quot; charset=&quot;utf-8&quot;&gt;&lt;/script&gt;\n",
       "  &lt;/head&gt;\n",
       "  &lt;body&gt;\n",
       " &lt;script&gt;\n",
       "   var embedSpec = {\n",
       "     mode: &quot;vega-lite&quot;,\n",
       "     spec: {\n",
       "  &quot;mark&quot; : &quot;circle&quot;,\n",
       "  &quot;encoding&quot; : {\n",
       "    &quot;x&quot; : {\n",
       "      &quot;axis&quot; : true,\n",
       "      &quot;scale&quot; : {\n",
       "        &quot;bandSize&quot; : 20.0\n",
       "      },\n",
       "      &quot;field&quot; : &quot;colName&quot;,\n",
       "      &quot;type&quot; : &quot;nominal&quot;\n",
       "    },\n",
       "    &quot;y&quot; : {\n",
       "      &quot;field&quot; : &quot;percentNull&quot;,\n",
       "      &quot;type&quot; : &quot;quantitative&quot;\n",
       "    }\n",
       "  },\n",
       "  &quot;description&quot; : &quot;UsingSpark&quot;,\n",
       "  &quot;data&quot; : {\n",
       "    &quot;values&quot; : [\n",
       "      {\n",
       "        &quot;colName&quot; : &quot;content_canonical_id&quot;,\n",
       "        &quot;nullCount&quot; : 983911,\n",
       "        &quot;percentNull&quot; : 0.6739370822906494\n",
       "      },\n",
       "      {\n",
       "        &quot;colName&quot; : &quot;reference_id&quot;,\n",
       "        &quot;nullCount&quot; : 1,\n",
       "        &quot;percentNull&quot; : 6.849573424005939E-7\n",
       "      },\n",
       "      {\n",
       "        &quot;colName&quot; : &quot;service_id&quot;,\n",
       "        &quot;nullCount&quot; : 1,\n",
       "        &quot;percentNull&quot; : 6.849573424005939E-7\n",
       "      },\n",
       "      {\n",
       "        &quot;colName&quot; : &quot;version_id&quot;,\n",
       "        &quot;nullCount&quot; : 1,\n",
       "        &quot;percentNull&quot; : 6.849573424005939E-7\n",
       "      },\n",
       "      {\n",
       "        &quot;colName&quot; : &quot;offering_type&quot;,\n",
       "        &quot;nullCount&quot; : 132289593,\n",
       "        &quot;percentNull&quot; : 90.61272430419922\n",
       "      },\n",
       "      {\n",
       "        &quot;colName&quot; : &quot;offering_type_value&quot;,\n",
       "        &quot;nullCount&quot; : 132289593,\n",
       "        &quot;percentNull&quot; : 90.61272430419922\n",
       "      },\n",
       "      {\n",
       "        &quot;colName&quot; : &quot;offering_type_display_value&quot;,\n",
       "        &quot;nullCount&quot; : 132289593,\n",
       "        &quot;percentNull&quot; : 90.61272430419922\n",
       "      },\n",
       "      {\n",
       "        &quot;colName&quot; : &quot;start_time&quot;,\n",
       "        &quot;nullCount&quot; : 132289593,\n",
       "        &quot;percentNull&quot; : 90.61272430419922\n",
       "      },\n",
       "      {\n",
       "        &quot;colName&quot; : &quot;end_time&quot;,\n",
       "        &quot;nullCount&quot; : 132289593,\n",
       "        &quot;percentNull&quot; : 90.61272430419922\n",
       "      },\n",
       "      {\n",
       "        &quot;colName&quot; : &quot;restrictions&quot;,\n",
       "        &quot;nullCount&quot; : 144021404,\n",
       "        &quot;percentNull&quot; : 98.64852142333984\n",
       "      },\n",
       "      {\n",
       "        &quot;colName&quot; : &quot;is_live&quot;,\n",
       "        &quot;nullCount&quot; : 132289593,\n",
       "        &quot;percentNull&quot; : 90.61272430419922\n",
       "      },\n",
       "      {\n",
       "        &quot;colName&quot; : &quot;is_broadcast&quot;,\n",
       "        &quot;nullCount&quot; : 132289593,\n",
       "        &quot;percentNull&quot; : 90.61272430419922\n",
       "      },\n",
       "      {\n",
       "        &quot;colName&quot; : &quot;is_premium&quot;,\n",
       "        &quot;nullCount&quot; : 132289593,\n",
       "        &quot;percentNull&quot; : 90.61272430419922\n",
       "      },\n",
       "      {\n",
       "        &quot;colName&quot; : &quot;primary_locale&quot;,\n",
       "        &quot;nullCount&quot; : 1,\n",
       "        &quot;percentNull&quot; : 6.849573424005939E-7\n",
       "      },\n",
       "      {\n",
       "        &quot;colName&quot; : &quot;closed_captioning_locales&quot;,\n",
       "        &quot;nullCount&quot; : 141477385,\n",
       "        &quot;percentNull&quot; : 96.9059829711914\n",
       "      },\n",
       "      {\n",
       "        &quot;colName&quot; : &quot;subtitle_locales&quot;,\n",
       "        &quot;nullCount&quot; : 142684680,\n",
       "        &quot;percentNull&quot; : 97.73291015625\n",
       "      },\n",
       "      {\n",
       "        &quot;colName&quot; : &quot;dubbed_locales&quot;,\n",
       "        &quot;nullCount&quot; : 145994496,\n",
       "        &quot;percentNull&quot; : 100.0\n",
       "      },\n",
       "      {\n",
       "        &quot;colName&quot; : &quot;subtitle_deaf_hard_of_hearing_locales&quot;,\n",
       "        &quot;nullCount&quot; : 145425724,\n",
       "        &quot;percentNull&quot; : 99.61042022705078\n",
       "      },\n",
       "      {\n",
       "        &quot;colName&quot; : &quot;audio_track_locales&quot;,\n",
       "        &quot;nullCount&quot; : 144305714,\n",
       "        &quot;percentNull&quot; : 98.84325408935547\n",
       "      },\n",
       "      {\n",
       "        &quot;colName&quot; : &quot;audio_track_formats&quot;,\n",
       "        &quot;nullCount&quot; : 138691781,\n",
       "        &quot;percentNull&quot; : 94.9979476928711\n",
       "      },\n",
       "      {\n",
       "        &quot;colName&quot; : &quot;video_quality&quot;,\n",
       "        &quot;nullCount&quot; : 135014247,\n",
       "        &quot;percentNull&quot; : 92.47898864746094\n",
       "      },\n",
       "      {\n",
       "        &quot;colName&quot; : &quot;video_color_range&quot;,\n",
       "        &quot;nullCount&quot; : 137186761,\n",
       "        &quot;percentNull&quot; : 93.96707916259766\n",
       "      },\n",
       "      {\n",
       "        &quot;colName&quot; : &quot;created&quot;,\n",
       "        &quot;nullCount&quot; : 1,\n",
       "        &quot;percentNull&quot; : 6.849573424005939E-7\n",
       "      },\n",
       "      {\n",
       "        &quot;colName&quot; : &quot;etl_batch_sk&quot;,\n",
       "        &quot;nullCount&quot; : 0,\n",
       "        &quot;percentNull&quot; : 0.0\n",
       "      },\n",
       "      {\n",
       "        &quot;colName&quot; : &quot;etl_create_ts&quot;,\n",
       "        &quot;nullCount&quot; : 0,\n",
       "        &quot;percentNull&quot; : 0.0\n",
       "      },\n",
       "      {\n",
       "        &quot;colName&quot; : &quot;etl_change_ts&quot;,\n",
       "        &quot;nullCount&quot; : 0,\n",
       "        &quot;percentNull&quot; : 0.0\n",
       "      },\n",
       "      {\n",
       "        &quot;colName&quot; : &quot;etl_source_batch_sk&quot;,\n",
       "        &quot;nullCount&quot; : 0,\n",
       "        &quot;percentNull&quot; : 0.0\n",
       "      }\n",
       "    ]\n",
       "  },\n",
       "  &quot;transform&quot; : {\n",
       "    &quot;filter&quot; : &quot;datum.percentNull &gt; 0&quot;\n",
       "  }\n",
       "}\n",
       "   }\n",
       "   vg.embed(&quot;#vegas-7a8da03a-911f-44d2-94b2-fdd13dac1db6&quot;, embedSpec, function(error, result) {});\n",
       " &lt;/script&gt;\n",
       " &lt;div id='vegas-7a8da03a-911f-44d2-94b2-fdd13dac1db6'&gt;&lt;/div&gt;\n",
       "    &lt;/body&gt;\n",
       "&lt;/html&gt;\"></iframe>\n",
       "  <script>\n",
       "    if (typeof resizeIFrame != 'function') {\n",
       "      function resizeIFrame(el, k) {\n",
       "        $(el.contentWindow.document).ready(function() {\n",
       "          el.style.height = el.contentWindow.document.body.scrollHeight + 'px';\n",
       "        });\n",
       "        if (k <= 10) { setTimeout(function() { resizeIFrame(el, k+1) }, 1000 + (k * 250)) };\n",
       "      }\n",
       "    }\n",
       "    $().ready( function() { resizeIFrame($('#frame-vegas-7a8da03a-911f-44d2-94b2-fdd13dac1db6').get(0), 1); });\n",
       "  </script>\n",
       "    "
      ]
     },
     "metadata": {},
     "output_type": "display_data"
    },
    {
     "data": {
      "text/plain": [
       "usingSparkdf_circle = ExtendedUnitSpecBuilder(ExtendedUnitSpec(None,None,Circle,Some(Encoding(None,None,Some(PositionChannelDef(Some(AxisBoolean(true)),Some(Scale(None,None,None,None,Some(BandSizeDouble(20.0)),None,None,None,None,None,None)),None,Some(colName),Some(Nominal),None,None,None,None,None)),Some(PositionChannelDef(None,None,None,Some(percentNull),Some(Quantitative),None,None,None,None,None)),None,None,None,None,None,None,None,None,None,None,None)),None,Some(UsingSpark),Some(Data(None,None,Some(List(Values(Map(colName -> content_canonical_id, nullCount -> 983911, percentNull -> 0.6739371)), Values(Map(colName -> reference_id, nullCount -> 1, percentNull -> 6.8495734E-7)), Values(Map(colName -> service_id, nullCount -> 1, percentNull -> 6.84957...\n"
      ]
     },
     "metadata": {},
     "output_type": "display_data"
    },
    {
     "data": {
      "text/plain": [
       "ExtendedUnitSpecBuilder(ExtendedUnitSpec(None,None,Circle,Some(Encoding(None,None,Some(PositionChannelDef(Some(AxisBoolean(true)),Some(Scale(None,None,None,None,Some(BandSizeDouble(20.0)),None,None,None,None,None,None)),None,Some(colName),Some(Nominal),None,None,None,None,None)),Some(PositionChannelDef(None,None,None,Some(percentNull),Some(Quantitative),None,None,None,None,None)),None,None,None,None,None,None,None,None,None,None,None)),None,Some(UsingSpark),Some(Data(None,None,Some(List(Values(Map(colName -> content_canonical_id, nullCount -> 983911, percentNull -> 0.6739371)), Values(Map(colName -> reference_id, nullCount -> 1, percentNull -> 6.8495734E-7)), Values(Map(colName -> service_id, nullCount -> 1, percentNull -> 6.8495734E-7)), Values(Map(colName -> version_id, nullCount -> 1, percentNull -> 6.8495734E-7)), Values(Map(colName -> offering_type, nullCount -> 132289593, percentNull -> 90.612724)), Values(Map(colName -> offering_type_value, nullCount -> 132289593, percentNull -> 90.612724)), Values(Map(colName -> offering_type_display_value, nullCount -> 132289593, percentNull -> 90.612724)), Values(Map(colName -> start_time, nullCount -> 132289593, percentNull -> 90.612724)), Values(Map(colName -> end_time, nullCount -> 132289593, percentNull -> 90.612724)), Values(Map(colName -> restrictions, nullCount -> 144021404, percentNull -> 98.64852)), Values(Map(colName -> is_live, nullCount -> 132289593, percentNull -> 90.612724)), Values(Map(colName -> is_broadcast, nullCount -> 132289593, percentNull -> 90.612724)), Values(Map(colName -> is_premium, nullCount -> 132289593, percentNull -> 90.612724)), Values(Map(colName -> primary_locale, nullCount -> 1, percentNull -> 6.8495734E-7)), Values(Map(colName -> closed_captioning_locales, nullCount -> 141477385, percentNull -> 96.90598)), Values(Map(colName -> subtitle_locales, nullCount -> 142684680, percentNull -> 97.73291)), Values(Map(colName -> dubbed_locales, nullCount -> 145994496, percentNull -> 100.0)), Values(Map(colName -> subtitle_deaf_hard_of_hearing_locales, nullCount -> 145425724, percentNull -> 99.61042)), Values(Map(colName -> audio_track_locales, nullCount -> 144305714, percentNull -> 98.843254)), Values(Map(colName -> audio_track_formats, nullCount -> 138691781, percentNull -> 94.99795)), Values(Map(colName -> video_quality, nullCount -> 135014247, percentNull -> 92.47899)), Values(Map(colName -> video_color_range, nullCount -> 137186761, percentNull -> 93.96708)), Values(Map(colName -> created, nullCount -> 1, percentNull -> 6.8495734E-7)), Values(Map(colName -> etl_batch_sk, nullCount -> 0, percentNull -> 0.0)), Values(Map(colName -> etl_create_ts, nullCount -> 0, percentNull -> 0.0)), Values(Map(colName -> etl_change_ts, nullCount -> 0, percentNull -> 0.0)), Values(Map(colName -> etl_source_batch_sk, nullCount -> 0, percentNull -> 0.0)))))),Some(Transform(Some(FilterString(datum.percentNull > 0)),None,None)),None))"
      ]
     },
     "execution_count": 13,
     "metadata": {},
     "output_type": "execute_result"
    }
   ],
   "source": [
    "val usingSparkdf_circle = Vegas(\"UsingSpark\")\n",
    "  .withDataFrame(dfCountNull)\n",
    "  .encodeX(colX, Nom, scale=Scale(bandSize = 20.0), hideAxis=false)\n",
    "  .encodeY(colY, Quant)\n",
    "//.encodeColor(colX, Nom)\n",
    ".filter(\"datum.percentNull > 0\")\n",
    "  .mark(Circle)\n",
    "\n",
    "usingSparkdf_circle.show"
   ]
  }
 ],
 "metadata": {
  "datastudio": {
   "id": "mxjvpj83q5pm",
   "kernel": "cnc0ybji8n7w"
  },
  "kernelspec": {
   "display_name": "Spark on PIE Hadoop (Beta)",
   "language": "scala",
   "name": "pieHadoop"
  },
  "language_info": {
   "codemirror_mode": "text/x-scala",
   "file_extension": ".scala",
   "mimetype": "text/x-scala",
   "name": "scala",
   "pygments_lexer": "scala",
   "version": "2.11.8"
  }
 },
 "nbformat": 4,
 "nbformat_minor": 2
}
