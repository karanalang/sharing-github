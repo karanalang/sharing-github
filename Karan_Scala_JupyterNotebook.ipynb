{
 "cells": [
  {
   "cell_type": "code",
   "execution_count": 1,
   "metadata": {},
   "outputs": [
    {
     "data": {
      "text/plain": [
       "Intitializing Scala interpreter ..."
      ]
     },
     "metadata": {},
     "output_type": "display_data"
    },
    {
     "data": {
      "text/plain": [
       "Spark Web UI available at http://17.114.216.131:4040\n",
       "SparkContext available as 'sc' (version = 2.2.1, master = local[*], app id = local-1547145682054)\n",
       "SparkSession available as 'spark'\n"
      ]
     },
     "metadata": {},
     "output_type": "display_data"
    },
    {
     "data": {
      "text/plain": [
       "a: Int = 10\n"
      ]
     },
     "execution_count": 1,
     "metadata": {},
     "output_type": "execute_result"
    }
   ],
   "source": [
    "val a = 10"
   ]
  },
  {
   "cell_type": "code",
   "execution_count": 2,
   "metadata": {},
   "outputs": [
    {
     "data": {
      "text/plain": [
       "res0: Int = 20\n"
      ]
     },
     "execution_count": 2,
     "metadata": {},
     "output_type": "execute_result"
    }
   ],
   "source": [
    "a + 10"
   ]
  },
  {
   "cell_type": "code",
   "execution_count": 3,
   "metadata": {},
   "outputs": [
    {
     "data": {
      "text/plain": [
       "umc_availability: org.apache.spark.sql.DataFrame = [content_canonical_id: string, reference_id: string ... 25 more fields]\n",
       "res1: Long = 513214\n"
      ]
     },
     "execution_count": 3,
     "metadata": {},
     "output_type": "execute_result"
    }
   ],
   "source": [
    "val umc_availability = spark.read.parquet(\"/Users/karanalang/Documents/1.AppleHadoop/AMP-Analytics/parquetFolder/umc_availability/*\")\n",
    "umc_availability.count()"
   ]
  },
  {
   "cell_type": "code",
   "execution_count": 4,
   "metadata": {},
   "outputs": [
    {
     "name": "stdout",
     "output_type": "stream",
     "text": [
      "+----------------------------------------+----------------------------------------+-----+-----+-----+-----+-------------------------+\n",
      "|reference_id                            |part0                                   |part1|part2|part3|part4|part5                    |\n",
      "+----------------------------------------+----------------------------------------+-----+-----+-----+-----+-------------------------+\n",
      "|umc.cmr.7pl.ep.11ctssby9nr8zutk739war3kb|umc.cmr.7pl.ep.11ctssby9nr8zutk739war3kb|umc  |cmr  |7pl  |ep   |11ctssby9nr8zutk739war3kb|\n",
      "|umc.cmr.7pl.ep.11hqi5qwd992idma3j14916yb|umc.cmr.7pl.ep.11hqi5qwd992idma3j14916yb|umc  |cmr  |7pl  |ep   |11hqi5qwd992idma3j14916yb|\n",
      "|umc.cmr.7pl.ep.11p9uvf6c5xy9xyfla7iclynn|umc.cmr.7pl.ep.11p9uvf6c5xy9xyfla7iclynn|umc  |cmr  |7pl  |ep   |11p9uvf6c5xy9xyfla7iclynn|\n",
      "|umc.cmr.7pl.ep.14l5ph4mmwriyxgm9c1h8bdus|umc.cmr.7pl.ep.14l5ph4mmwriyxgm9c1h8bdus|umc  |cmr  |7pl  |ep   |14l5ph4mmwriyxgm9c1h8bdus|\n",
      "|umc.cmr.7pl.ep.15q5sd7btyede5dktza2184fb|umc.cmr.7pl.ep.15q5sd7btyede5dktza2184fb|umc  |cmr  |7pl  |ep   |15q5sd7btyede5dktza2184fb|\n",
      "+----------------------------------------+----------------------------------------+-----+-----+-----+-----+-------------------------+\n",
      "\n"
     ]
    },
    {
     "data": {
      "text/plain": [
       "umc_ref: org.apache.spark.sql.DataFrame = [reference_id: string, part0: string ... 5 more fields]\n"
      ]
     },
     "execution_count": 4,
     "metadata": {},
     "output_type": "execute_result"
    }
   ],
   "source": [
    "val umc_ref = umc_availability.select(col(\"reference_id\"))\n",
    "      .withColumn(\"part0\", regexp_extract(col(\"reference_id\"), \"([a-zA-Z0-9]*).([a-zA-Z0-9]*).([a-zA-Z0-9]*).([a-zA-Z0-9]*).([a-zA-Z0-9]*)\", 0))\n",
    "      .withColumn(\"part1\", regexp_extract(col(\"reference_id\"), \"([a-zA-Z0-9]*).([a-zA-Z0-9]*).([a-zA-Z0-9]*).([a-zA-Z0-9]*).([a-zA-Z0-9]*)\", 1))\n",
    "      .withColumn(\"part2\", regexp_extract(col(\"reference_id\"), \"([a-zA-Z0-9]*).([a-zA-Z0-9]*).([a-zA-Z0-9]*).([a-zA-Z0-9]*).([a-zA-Z0-9]*)\", 2))\n",
    "      .withColumn(\"part3\", regexp_extract(col(\"reference_id\"), \"([a-zA-Z0-9]*).([a-zA-Z0-9]*).([a-zA-Z0-9]*).([a-zA-Z0-9]*).([a-zA-Z0-9]*)\", 3))\n",
    "      .withColumn(\"part4\", regexp_extract(col(\"reference_id\"), \"([a-zA-Z0-9]*).([a-zA-Z0-9]*).([a-zA-Z0-9]*).([a-zA-Z0-9]*).([a-zA-Z0-9]*)\", 4))\n",
    "      .withColumn(\"part5\", regexp_extract(col(\"reference_id\"), \"([a-zA-Z0-9]*).([a-zA-Z0-9]*).([a-zA-Z0-9]*).([a-zA-Z0-9]*).([a-zA-Z0-9]*)\", 5))\n",
    "\n",
    "    umc_ref.limit(5).show(false)"
   ]
  },
  {
   "cell_type": "code",
   "execution_count": 5,
   "metadata": {},
   "outputs": [
    {
     "name": "stdout",
     "output_type": "stream",
     "text": [
      " count is => 513214\n"
     ]
    },
    {
     "data": {
      "text/plain": [
       "count: Long = 513214\n"
      ]
     },
     "execution_count": 5,
     "metadata": {},
     "output_type": "execute_result"
    }
   ],
   "source": [
    "val count = umc_ref.count()\n",
    "println(\" count is => \" + count)"
   ]
  },
  {
   "cell_type": "code",
   "execution_count": 6,
   "metadata": {},
   "outputs": [
    {
     "name": "stdout",
     "output_type": "stream",
     "text": [
      "Time: 0.894474983215332 seconds.\n",
      "\n"
     ]
    },
    {
     "data": {
      "text/plain": [
       "path: String = /Users/karanalang/Documents/1.AppleHadoop/AMP-Analytics/parquetFolder/umc_availability/*\n",
       "umc: org.apache.spark.sql.DataFrame = [content_canonical_id: string, reference_id: string ... 25 more fields]\n"
      ]
     },
     "execution_count": 6,
     "metadata": {},
     "output_type": "execute_result"
    }
   ],
   "source": [
    "%%time\n",
    "val path = \"/Users/karanalang/Documents/1.AppleHadoop/AMP-Analytics/parquetFolder/umc_availability/*\"\n",
    "val umc = spark.read.parquet(path)"
   ]
  },
  {
   "cell_type": "code",
   "execution_count": 7,
   "metadata": {},
   "outputs": [
    {
     "name": "stdout",
     "output_type": "stream",
     "text": [
      "Time: 0.496013879776001 seconds.\n",
      "\n"
     ]
    },
    {
     "data": {
      "text/plain": [
       "res4: Long = 513214\n"
      ]
     },
     "execution_count": 7,
     "metadata": {},
     "output_type": "execute_result"
    }
   ],
   "source": [
    "%%time\n",
    "umc.count()"
   ]
  },
  {
   "cell_type": "code",
   "execution_count": null,
   "metadata": {},
   "outputs": [],
   "source": []
  }
 ],
 "metadata": {
  "kernelspec": {
   "display_name": "spylon-kernel",
   "language": "scala",
   "name": "spylon-kernel"
  },
  "language_info": {
   "codemirror_mode": "text/x-scala",
   "file_extension": ".scala",
   "help_links": [
    {
     "text": "MetaKernel Magics",
     "url": "https://github.com/calysto/metakernel/blob/master/metakernel/magics/README.md"
    }
   ],
   "mimetype": "text/x-scala",
   "name": "scala",
   "pygments_lexer": "scala",
   "version": "0.4.1"
  }
 },
 "nbformat": 4,
 "nbformat_minor": 2
}
